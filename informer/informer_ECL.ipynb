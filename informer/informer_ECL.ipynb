{
  "cells": [
    {
      "cell_type": "markdown",
      "metadata": {
        "id": "5IM6CZzW_CH0"
      },
      "source": [
        "### Multivariate Time Series Forecasting by application of Informer (Transformer) on Electricity Dataset\n",
        "-Lookback window = 336\n",
        "\n",
        "-Forecast window = 96\n",
        "\n"
      ]
    },
    {
      "cell_type": "code",
      "execution_count": 12,
      "metadata": {
        "colab": {
          "base_uri": "https://localhost:8080/"
        },
        "id": "SA_i2gbl-rn-",
        "outputId": "c6812df9-294b-4ea1-82f9-4ad90d42249d"
      },
      "outputs": [
        {
          "output_type": "stream",
          "name": "stdout",
          "text": [
            "fatal: destination path 'Informer2020' already exists and is not an empty directory.\n",
            "ecl_dataset  Informer2020  sample_data\n"
          ]
        }
      ],
      "source": [
        "!git clone https://github.com/zhouhaoyi/Informer2020.git\n",
        "!ls"
      ]
    },
    {
      "cell_type": "code",
      "execution_count": 13,
      "metadata": {
        "id": "b5GFng7v7Eq0"
      },
      "outputs": [],
      "source": [
        "import sys\n",
        "if not 'Informer2020' in sys.path:\n",
        "    sys.path += ['Informer2020']"
      ]
    },
    {
      "cell_type": "markdown",
      "metadata": {
        "id": "rIjZdN5e_SWe"
      },
      "source": [
        "## Experiments: Train and Test"
      ]
    },
    {
      "cell_type": "code",
      "execution_count": 14,
      "metadata": {
        "id": "RPdt-Kwc_RRZ"
      },
      "outputs": [],
      "source": [
        "from utils.tools import dotdict\n",
        "from exp.exp_informer import Exp_Informer\n",
        "import torch"
      ]
    },
    {
      "cell_type": "code",
      "source": [
        "from data.data_loader import Dataset_Custom\n",
        "from torch.utils.data import DataLoader\n",
        "import pandas as pd\n",
        "import os"
      ],
      "metadata": {
        "id": "kja9RQupCWOe"
      },
      "execution_count": 15,
      "outputs": []
    },
    {
      "cell_type": "code",
      "source": [
        "args = dotdict()\n",
        "\n",
        "args.root_path = './ecl_dataset/'\n",
        "args.data_path = 'ECL.csv'\n",
        "df = pd.read_csv(os.path.join(args.root_path, args.data_path))\n",
        "df.head(2)"
      ],
      "metadata": {
        "id": "xstQ0Ka-CWJx",
        "colab": {
          "base_uri": "https://localhost:8080/",
          "height": 231
        },
        "outputId": "c849de80-dfd1-4aa3-ba37-5ec5b82bef85"
      },
      "execution_count": 16,
      "outputs": [
        {
          "output_type": "execute_result",
          "data": {
            "text/plain": [
              "                  date  MT_000  MT_001  MT_002  MT_003  MT_004  MT_005  \\\n",
              "0  2012-01-01 00:00:00    14.0    69.0   234.0   415.0   215.0  1056.0   \n",
              "1  2012-01-01 01:00:00    18.0    92.0   312.0   556.0   292.0  1363.0   \n",
              "\n",
              "   MT_006  MT_007  MT_008  ...  MT_311  MT_312   MT_313  MT_314  MT_315  \\\n",
              "0    29.0   840.0   226.0  ...   676.0   372.0  80100.0  4719.0  5002.0   \n",
              "1    29.0  1102.0   271.0  ...   805.0   452.0  95200.0  4643.0  6617.0   \n",
              "\n",
              "   MT_316  MT_317  MT_318  MT_319  MT_320  \n",
              "0    48.0    38.0  1558.0   182.0  2162.0  \n",
              "1    65.0    47.0  2177.0   253.0  2835.0  \n",
              "\n",
              "[2 rows x 322 columns]"
            ],
            "text/html": [
              "\n",
              "  <div id=\"df-0b331df2-d0f6-4a92-a4da-456155040a3a\" class=\"colab-df-container\">\n",
              "    <div>\n",
              "<style scoped>\n",
              "    .dataframe tbody tr th:only-of-type {\n",
              "        vertical-align: middle;\n",
              "    }\n",
              "\n",
              "    .dataframe tbody tr th {\n",
              "        vertical-align: top;\n",
              "    }\n",
              "\n",
              "    .dataframe thead th {\n",
              "        text-align: right;\n",
              "    }\n",
              "</style>\n",
              "<table border=\"1\" class=\"dataframe\">\n",
              "  <thead>\n",
              "    <tr style=\"text-align: right;\">\n",
              "      <th></th>\n",
              "      <th>date</th>\n",
              "      <th>MT_000</th>\n",
              "      <th>MT_001</th>\n",
              "      <th>MT_002</th>\n",
              "      <th>MT_003</th>\n",
              "      <th>MT_004</th>\n",
              "      <th>MT_005</th>\n",
              "      <th>MT_006</th>\n",
              "      <th>MT_007</th>\n",
              "      <th>MT_008</th>\n",
              "      <th>...</th>\n",
              "      <th>MT_311</th>\n",
              "      <th>MT_312</th>\n",
              "      <th>MT_313</th>\n",
              "      <th>MT_314</th>\n",
              "      <th>MT_315</th>\n",
              "      <th>MT_316</th>\n",
              "      <th>MT_317</th>\n",
              "      <th>MT_318</th>\n",
              "      <th>MT_319</th>\n",
              "      <th>MT_320</th>\n",
              "    </tr>\n",
              "  </thead>\n",
              "  <tbody>\n",
              "    <tr>\n",
              "      <th>0</th>\n",
              "      <td>2012-01-01 00:00:00</td>\n",
              "      <td>14.0</td>\n",
              "      <td>69.0</td>\n",
              "      <td>234.0</td>\n",
              "      <td>415.0</td>\n",
              "      <td>215.0</td>\n",
              "      <td>1056.0</td>\n",
              "      <td>29.0</td>\n",
              "      <td>840.0</td>\n",
              "      <td>226.0</td>\n",
              "      <td>...</td>\n",
              "      <td>676.0</td>\n",
              "      <td>372.0</td>\n",
              "      <td>80100.0</td>\n",
              "      <td>4719.0</td>\n",
              "      <td>5002.0</td>\n",
              "      <td>48.0</td>\n",
              "      <td>38.0</td>\n",
              "      <td>1558.0</td>\n",
              "      <td>182.0</td>\n",
              "      <td>2162.0</td>\n",
              "    </tr>\n",
              "    <tr>\n",
              "      <th>1</th>\n",
              "      <td>2012-01-01 01:00:00</td>\n",
              "      <td>18.0</td>\n",
              "      <td>92.0</td>\n",
              "      <td>312.0</td>\n",
              "      <td>556.0</td>\n",
              "      <td>292.0</td>\n",
              "      <td>1363.0</td>\n",
              "      <td>29.0</td>\n",
              "      <td>1102.0</td>\n",
              "      <td>271.0</td>\n",
              "      <td>...</td>\n",
              "      <td>805.0</td>\n",
              "      <td>452.0</td>\n",
              "      <td>95200.0</td>\n",
              "      <td>4643.0</td>\n",
              "      <td>6617.0</td>\n",
              "      <td>65.0</td>\n",
              "      <td>47.0</td>\n",
              "      <td>2177.0</td>\n",
              "      <td>253.0</td>\n",
              "      <td>2835.0</td>\n",
              "    </tr>\n",
              "  </tbody>\n",
              "</table>\n",
              "<p>2 rows × 322 columns</p>\n",
              "</div>\n",
              "    <div class=\"colab-df-buttons\">\n",
              "\n",
              "  <div class=\"colab-df-container\">\n",
              "    <button class=\"colab-df-convert\" onclick=\"convertToInteractive('df-0b331df2-d0f6-4a92-a4da-456155040a3a')\"\n",
              "            title=\"Convert this dataframe to an interactive table.\"\n",
              "            style=\"display:none;\">\n",
              "\n",
              "  <svg xmlns=\"http://www.w3.org/2000/svg\" height=\"24px\" viewBox=\"0 -960 960 960\">\n",
              "    <path d=\"M120-120v-720h720v720H120Zm60-500h600v-160H180v160Zm220 220h160v-160H400v160Zm0 220h160v-160H400v160ZM180-400h160v-160H180v160Zm440 0h160v-160H620v160ZM180-180h160v-160H180v160Zm440 0h160v-160H620v160Z\"/>\n",
              "  </svg>\n",
              "    </button>\n",
              "\n",
              "  <style>\n",
              "    .colab-df-container {\n",
              "      display:flex;\n",
              "      gap: 12px;\n",
              "    }\n",
              "\n",
              "    .colab-df-convert {\n",
              "      background-color: #E8F0FE;\n",
              "      border: none;\n",
              "      border-radius: 50%;\n",
              "      cursor: pointer;\n",
              "      display: none;\n",
              "      fill: #1967D2;\n",
              "      height: 32px;\n",
              "      padding: 0 0 0 0;\n",
              "      width: 32px;\n",
              "    }\n",
              "\n",
              "    .colab-df-convert:hover {\n",
              "      background-color: #E2EBFA;\n",
              "      box-shadow: 0px 1px 2px rgba(60, 64, 67, 0.3), 0px 1px 3px 1px rgba(60, 64, 67, 0.15);\n",
              "      fill: #174EA6;\n",
              "    }\n",
              "\n",
              "    .colab-df-buttons div {\n",
              "      margin-bottom: 4px;\n",
              "    }\n",
              "\n",
              "    [theme=dark] .colab-df-convert {\n",
              "      background-color: #3B4455;\n",
              "      fill: #D2E3FC;\n",
              "    }\n",
              "\n",
              "    [theme=dark] .colab-df-convert:hover {\n",
              "      background-color: #434B5C;\n",
              "      box-shadow: 0px 1px 3px 1px rgba(0, 0, 0, 0.15);\n",
              "      filter: drop-shadow(0px 1px 2px rgba(0, 0, 0, 0.3));\n",
              "      fill: #FFFFFF;\n",
              "    }\n",
              "  </style>\n",
              "\n",
              "    <script>\n",
              "      const buttonEl =\n",
              "        document.querySelector('#df-0b331df2-d0f6-4a92-a4da-456155040a3a button.colab-df-convert');\n",
              "      buttonEl.style.display =\n",
              "        google.colab.kernel.accessAllowed ? 'block' : 'none';\n",
              "\n",
              "      async function convertToInteractive(key) {\n",
              "        const element = document.querySelector('#df-0b331df2-d0f6-4a92-a4da-456155040a3a');\n",
              "        const dataTable =\n",
              "          await google.colab.kernel.invokeFunction('convertToInteractive',\n",
              "                                                    [key], {});\n",
              "        if (!dataTable) return;\n",
              "\n",
              "        const docLinkHtml = 'Like what you see? Visit the ' +\n",
              "          '<a target=\"_blank\" href=https://colab.research.google.com/notebooks/data_table.ipynb>data table notebook</a>'\n",
              "          + ' to learn more about interactive tables.';\n",
              "        element.innerHTML = '';\n",
              "        dataTable['output_type'] = 'display_data';\n",
              "        await google.colab.output.renderOutput(dataTable, element);\n",
              "        const docLink = document.createElement('div');\n",
              "        docLink.innerHTML = docLinkHtml;\n",
              "        element.appendChild(docLink);\n",
              "      }\n",
              "    </script>\n",
              "  </div>\n",
              "\n",
              "\n",
              "<div id=\"df-e3b993a3-8a49-477f-8f47-1289d884c76f\">\n",
              "  <button class=\"colab-df-quickchart\" onclick=\"quickchart('df-e3b993a3-8a49-477f-8f47-1289d884c76f')\"\n",
              "            title=\"Suggest charts.\"\n",
              "            style=\"display:none;\">\n",
              "\n",
              "<svg xmlns=\"http://www.w3.org/2000/svg\" height=\"24px\"viewBox=\"0 0 24 24\"\n",
              "     width=\"24px\">\n",
              "    <g>\n",
              "        <path d=\"M19 3H5c-1.1 0-2 .9-2 2v14c0 1.1.9 2 2 2h14c1.1 0 2-.9 2-2V5c0-1.1-.9-2-2-2zM9 17H7v-7h2v7zm4 0h-2V7h2v10zm4 0h-2v-4h2v4z\"/>\n",
              "    </g>\n",
              "</svg>\n",
              "  </button>\n",
              "\n",
              "<style>\n",
              "  .colab-df-quickchart {\n",
              "      --bg-color: #E8F0FE;\n",
              "      --fill-color: #1967D2;\n",
              "      --hover-bg-color: #E2EBFA;\n",
              "      --hover-fill-color: #174EA6;\n",
              "      --disabled-fill-color: #AAA;\n",
              "      --disabled-bg-color: #DDD;\n",
              "  }\n",
              "\n",
              "  [theme=dark] .colab-df-quickchart {\n",
              "      --bg-color: #3B4455;\n",
              "      --fill-color: #D2E3FC;\n",
              "      --hover-bg-color: #434B5C;\n",
              "      --hover-fill-color: #FFFFFF;\n",
              "      --disabled-bg-color: #3B4455;\n",
              "      --disabled-fill-color: #666;\n",
              "  }\n",
              "\n",
              "  .colab-df-quickchart {\n",
              "    background-color: var(--bg-color);\n",
              "    border: none;\n",
              "    border-radius: 50%;\n",
              "    cursor: pointer;\n",
              "    display: none;\n",
              "    fill: var(--fill-color);\n",
              "    height: 32px;\n",
              "    padding: 0;\n",
              "    width: 32px;\n",
              "  }\n",
              "\n",
              "  .colab-df-quickchart:hover {\n",
              "    background-color: var(--hover-bg-color);\n",
              "    box-shadow: 0 1px 2px rgba(60, 64, 67, 0.3), 0 1px 3px 1px rgba(60, 64, 67, 0.15);\n",
              "    fill: var(--button-hover-fill-color);\n",
              "  }\n",
              "\n",
              "  .colab-df-quickchart-complete:disabled,\n",
              "  .colab-df-quickchart-complete:disabled:hover {\n",
              "    background-color: var(--disabled-bg-color);\n",
              "    fill: var(--disabled-fill-color);\n",
              "    box-shadow: none;\n",
              "  }\n",
              "\n",
              "  .colab-df-spinner {\n",
              "    border: 2px solid var(--fill-color);\n",
              "    border-color: transparent;\n",
              "    border-bottom-color: var(--fill-color);\n",
              "    animation:\n",
              "      spin 1s steps(1) infinite;\n",
              "  }\n",
              "\n",
              "  @keyframes spin {\n",
              "    0% {\n",
              "      border-color: transparent;\n",
              "      border-bottom-color: var(--fill-color);\n",
              "      border-left-color: var(--fill-color);\n",
              "    }\n",
              "    20% {\n",
              "      border-color: transparent;\n",
              "      border-left-color: var(--fill-color);\n",
              "      border-top-color: var(--fill-color);\n",
              "    }\n",
              "    30% {\n",
              "      border-color: transparent;\n",
              "      border-left-color: var(--fill-color);\n",
              "      border-top-color: var(--fill-color);\n",
              "      border-right-color: var(--fill-color);\n",
              "    }\n",
              "    40% {\n",
              "      border-color: transparent;\n",
              "      border-right-color: var(--fill-color);\n",
              "      border-top-color: var(--fill-color);\n",
              "    }\n",
              "    60% {\n",
              "      border-color: transparent;\n",
              "      border-right-color: var(--fill-color);\n",
              "    }\n",
              "    80% {\n",
              "      border-color: transparent;\n",
              "      border-right-color: var(--fill-color);\n",
              "      border-bottom-color: var(--fill-color);\n",
              "    }\n",
              "    90% {\n",
              "      border-color: transparent;\n",
              "      border-bottom-color: var(--fill-color);\n",
              "    }\n",
              "  }\n",
              "</style>\n",
              "\n",
              "  <script>\n",
              "    async function quickchart(key) {\n",
              "      const quickchartButtonEl =\n",
              "        document.querySelector('#' + key + ' button');\n",
              "      quickchartButtonEl.disabled = true;  // To prevent multiple clicks.\n",
              "      quickchartButtonEl.classList.add('colab-df-spinner');\n",
              "      try {\n",
              "        const charts = await google.colab.kernel.invokeFunction(\n",
              "            'suggestCharts', [key], {});\n",
              "      } catch (error) {\n",
              "        console.error('Error during call to suggestCharts:', error);\n",
              "      }\n",
              "      quickchartButtonEl.classList.remove('colab-df-spinner');\n",
              "      quickchartButtonEl.classList.add('colab-df-quickchart-complete');\n",
              "    }\n",
              "    (() => {\n",
              "      let quickchartButtonEl =\n",
              "        document.querySelector('#df-e3b993a3-8a49-477f-8f47-1289d884c76f button');\n",
              "      quickchartButtonEl.style.display =\n",
              "        google.colab.kernel.accessAllowed ? 'block' : 'none';\n",
              "    })();\n",
              "  </script>\n",
              "</div>\n",
              "    </div>\n",
              "  </div>\n"
            ]
          },
          "metadata": {},
          "execution_count": 16
        }
      ]
    },
    {
      "cell_type": "code",
      "execution_count": 18,
      "metadata": {
        "id": "6mx2dnwY9dWi"
      },
      "outputs": [],
      "source": [
        "args.model = 'informer' # model of experiment, options: [informer, informerstack, informerlight(TBD)]\n",
        "\n",
        "args.data = 'ECL' # data\n",
        "# df = pd.read_csv(os.path.join(args.root_path, args.data_path))\n",
        "\n",
        "\n",
        "args.features = 'M' # forecasting task, options:[M, S, MS]; M:multivariate predict multivariate, S:univariate predict univariate, MS:multivariate predict univariate\n",
        "args.target = 'MT_320' # target feature in S or MS task\n",
        "args.freq = 'h' # freq for time features encoding, options:[s:secondly, t:minutely, h:hourly, d:daily, b:business days, w:weekly, m:monthly], you can also use more detailed freq like 15min or 3h\n",
        "args.checkpoints = './informer_checkpoints' # location of model checkpoints\n",
        "\n",
        "# args.seq_len = 96 # input sequence length of Informer encoder\n",
        "args.seq_len = 336 # input sequence length of Informer encoder\n",
        "args.label_len = 48 # start token length of Informer decoder\n",
        "# args.pred_len = 24 # prediction sequence length\n",
        "args.pred_len = 96 # prediction sequence length\n",
        "# Informer decoder input: concat[start token series(label_len), zero padding series(pred_len)]\n",
        "\n",
        "args.enc_in = 321 # encoder input size\n",
        "args.dec_in = 321 # decoder input size\n",
        "args.c_out = 321 # output size\n",
        "args.factor = 5 # probsparse attn factor ---> ProbSparse self-attention is incorporated by allowing each key to only attend to the u dominant queries\n",
        "args.d_model = 512 # dimension of model\n",
        "args.n_heads = 8 # num of heads\n",
        "args.e_layers = 2 # num of encoder layers\n",
        "args.d_layers = 1 # num of decoder layers\n",
        "args.d_ff = 2048 # dimension of fcn in model\n",
        "# args.dropout = 0.05 # dropout\n",
        "args.dropout = 0.1 # dropout\n",
        "args.attn = 'prob' # attention used in encoder, options:[prob, full]\n",
        "args.embed = 'timeF' # time features encoding, options:[timeF, fixed, learned]\n",
        "args.activation = 'gelu' # activation\n",
        "args.distil = True # whether to use distilling in encoder\n",
        "args.output_attention = False # whether to output attention in ecoder\n",
        "args.mix = True\n",
        "args.padding = 0\n",
        "#args.freq = 'h'\n",
        "\n",
        "args.batch_size = 32\n",
        "args.learning_rate = 0.0001\n",
        "args.loss = 'mse'\n",
        "args.lradj = 'type1'\n",
        "args.use_amp = False # whether to use automatic mixed precision training\n",
        "\n",
        "args.num_workers = 0\n",
        "args.itr = 1\n",
        "args.train_epochs = 6\n",
        "args.patience = 3\n",
        "args.des = 'exp'\n",
        "\n",
        "args.use_gpu = True if torch.cuda.is_available() else False\n",
        "args.gpu = 0\n",
        "\n",
        "args.use_multi_gpu = False\n",
        "args.devices = '0,1,2,3'\n"
      ]
    },
    {
      "cell_type": "code",
      "execution_count": 19,
      "metadata": {
        "id": "k_BCYODAwKl9"
      },
      "outputs": [],
      "source": [
        "args.use_gpu = True if torch.cuda.is_available() and args.use_gpu else False\n",
        "\n",
        "if args.use_gpu and args.use_multi_gpu:\n",
        "    args.devices = args.devices.replace(' ','')\n",
        "    device_ids = args.devices.split(',')\n",
        "    args.device_ids = [int(id_) for id_ in device_ids]\n",
        "    args.gpu = args.device_ids[0]"
      ]
    },
    {
      "cell_type": "code",
      "execution_count": 20,
      "metadata": {
        "id": "53o3pZ809p-a"
      },
      "outputs": [],
      "source": [
        "# Set augments by using data name\n",
        "data_parser = {\n",
        "    'WTH':{'data':'ECL.csv','T':'MT_320','M':[321,321,321],'S':[1,1,1],'MS':[321,321,1]},\n",
        "}\n",
        "if args.data in data_parser.keys():\n",
        "    data_info = data_parser[args.data]\n",
        "    args.data_path = data_info['data']\n",
        "    args.target = data_info['T']\n",
        "    args.enc_in, args.dec_in, args.c_out = data_info[args.features]"
      ]
    },
    {
      "cell_type": "code",
      "execution_count": 21,
      "metadata": {
        "id": "yZ5Q2vyKwSfk"
      },
      "outputs": [],
      "source": [
        "args.detail_freq = args.freq\n",
        "args.freq = args.freq[-1:]"
      ]
    },
    {
      "cell_type": "code",
      "execution_count": 22,
      "metadata": {
        "colab": {
          "base_uri": "https://localhost:8080/"
        },
        "id": "ywY-umrw-mHO",
        "outputId": "d762b97d-5f2e-47d6-b943-5aa0338bedf2"
      },
      "outputs": [
        {
          "output_type": "stream",
          "name": "stdout",
          "text": [
            "Args in experiment:\n",
            "{'root_path': './ecl_dataset/', 'data_path': 'ECL.csv', 'model': 'informer', 'data': 'ECL', 'features': 'M', 'target': 'MT_320', 'freq': 'h', 'checkpoints': './informer_checkpoints', 'seq_len': 336, 'label_len': 48, 'pred_len': 96, 'enc_in': 321, 'dec_in': 321, 'c_out': 321, 'factor': 5, 'd_model': 512, 'n_heads': 8, 'e_layers': 2, 'd_layers': 1, 'd_ff': 2048, 'dropout': 0.1, 'attn': 'prob', 'embed': 'timeF', 'activation': 'gelu', 'distil': True, 'output_attention': False, 'mix': True, 'padding': 0, 'batch_size': 32, 'learning_rate': 0.0001, 'loss': 'mse', 'lradj': 'type1', 'use_amp': False, 'num_workers': 0, 'itr': 1, 'train_epochs': 6, 'patience': 3, 'des': 'exp', 'use_gpu': True, 'gpu': 0, 'use_multi_gpu': False, 'devices': '0,1,2,3', 'detail_freq': 'h'}\n"
          ]
        }
      ],
      "source": [
        "print('Args in experiment:')\n",
        "print(args)"
      ]
    },
    {
      "cell_type": "code",
      "execution_count": 23,
      "metadata": {
        "id": "KVHZhRB4-on9"
      },
      "outputs": [],
      "source": [
        "Exp = Exp_Informer"
      ]
    },
    {
      "cell_type": "code",
      "execution_count": 24,
      "metadata": {
        "colab": {
          "base_uri": "https://localhost:8080/"
        },
        "id": "928tzaA2AA2g",
        "outputId": "f70fa35d-ee54-4c74-cf90-15d49e4b422b"
      },
      "outputs": [
        {
          "output_type": "stream",
          "name": "stdout",
          "text": [
            "Use GPU: cuda:0\n",
            ">>>>>>>start training : informer_ECL_ftM_sl336_ll48_pl96_dm512_nh8_el2_dl1_df2048_atprob_fc5_ebtimeF_dtTrue_mxTrue_exp_0>>>>>>>>>>>>>>>>>>>>>>>>>>\n",
            "train 17981\n",
            "val 2537\n",
            "test 5165\n",
            "\titers: 100, epoch: 1 | loss: 0.7793536\n",
            "\tspeed: 0.2794s/iter; left time: 912.9443s\n",
            "\titers: 200, epoch: 1 | loss: 0.3277317\n",
            "\tspeed: 0.2125s/iter; left time: 673.1334s\n",
            "\titers: 300, epoch: 1 | loss: 0.2711373\n",
            "\tspeed: 0.2118s/iter; left time: 649.5136s\n",
            "\titers: 400, epoch: 1 | loss: 0.2259951\n",
            "\tspeed: 0.2145s/iter; left time: 636.4831s\n",
            "\titers: 500, epoch: 1 | loss: 0.2105150\n",
            "\tspeed: 0.2208s/iter; left time: 633.1399s\n",
            "Epoch: 1 cost time: 126.9749448299408\n",
            "Epoch: 1, Steps: 561 | Train Loss: 0.4161886 Vali Loss: 0.2531503 Test Loss: 0.3340775\n",
            "Validation loss decreased (inf --> 0.253150).  Saving model ...\n",
            "Updating learning rate to 0.0001\n",
            "\titers: 100, epoch: 2 | loss: 0.1929262\n",
            "\tspeed: 0.6018s/iter; left time: 1628.4668s\n",
            "\titers: 200, epoch: 2 | loss: 0.2007874\n",
            "\tspeed: 0.2191s/iter; left time: 570.8756s\n",
            "\titers: 300, epoch: 2 | loss: 0.1744892\n",
            "\tspeed: 0.2266s/iter; left time: 567.7809s\n",
            "\titers: 400, epoch: 2 | loss: 0.1682483\n",
            "\tspeed: 0.2207s/iter; left time: 530.9217s\n",
            "\titers: 500, epoch: 2 | loss: 0.1549454\n",
            "\tspeed: 0.2206s/iter; left time: 508.7352s\n",
            "Epoch: 2 cost time: 124.22931122779846\n",
            "Epoch: 2, Steps: 561 | Train Loss: 0.1808640 Vali Loss: 0.2290114 Test Loss: 0.3108045\n",
            "Validation loss decreased (0.253150 --> 0.229011).  Saving model ...\n",
            "Updating learning rate to 5e-05\n",
            "\titers: 100, epoch: 3 | loss: 0.1372978\n",
            "\tspeed: 0.5981s/iter; left time: 1282.9636s\n",
            "\titers: 200, epoch: 3 | loss: 0.1511523\n",
            "\tspeed: 0.2208s/iter; left time: 451.5450s\n",
            "\titers: 300, epoch: 3 | loss: 0.1656581\n",
            "\tspeed: 0.2201s/iter; left time: 428.1122s\n",
            "\titers: 400, epoch: 3 | loss: 0.1605711\n",
            "\tspeed: 0.2201s/iter; left time: 406.1101s\n",
            "\titers: 500, epoch: 3 | loss: 0.1363968\n",
            "\tspeed: 0.2204s/iter; left time: 384.6588s\n",
            "Epoch: 3 cost time: 123.61994647979736\n",
            "Epoch: 3, Steps: 561 | Train Loss: 0.1451370 Vali Loss: 0.2139182 Test Loss: 0.2968058\n",
            "Validation loss decreased (0.229011 --> 0.213918).  Saving model ...\n",
            "Updating learning rate to 2.5e-05\n",
            "\titers: 100, epoch: 4 | loss: 0.1296919\n",
            "\tspeed: 0.5978s/iter; left time: 946.8507s\n",
            "\titers: 200, epoch: 4 | loss: 0.1370427\n",
            "\tspeed: 0.2207s/iter; left time: 327.4448s\n",
            "\titers: 300, epoch: 4 | loss: 0.1298111\n",
            "\tspeed: 0.2218s/iter; left time: 306.9974s\n",
            "\titers: 400, epoch: 4 | loss: 0.1317730\n",
            "\tspeed: 0.2202s/iter; left time: 282.6848s\n",
            "\titers: 500, epoch: 4 | loss: 0.1248593\n",
            "\tspeed: 0.2201s/iter; left time: 260.5536s\n",
            "Epoch: 4 cost time: 123.72931504249573\n",
            "Epoch: 4, Steps: 561 | Train Loss: 0.1332515 Vali Loss: 0.2211106 Test Loss: 0.2957696\n",
            "EarlyStopping counter: 1 out of 3\n",
            "Updating learning rate to 1.25e-05\n",
            "\titers: 100, epoch: 5 | loss: 0.1339744\n",
            "\tspeed: 0.5973s/iter; left time: 611.0588s\n",
            "\titers: 200, epoch: 5 | loss: 0.1288656\n",
            "\tspeed: 0.2212s/iter; left time: 204.1988s\n",
            "\titers: 300, epoch: 5 | loss: 0.1307056\n",
            "\tspeed: 0.2194s/iter; left time: 180.5621s\n",
            "\titers: 400, epoch: 5 | loss: 0.1214807\n",
            "\tspeed: 0.2201s/iter; left time: 159.1650s\n",
            "\titers: 500, epoch: 5 | loss: 0.1353564\n",
            "\tspeed: 0.2202s/iter; left time: 137.1786s\n",
            "Epoch: 5 cost time: 123.61861062049866\n",
            "Epoch: 5, Steps: 561 | Train Loss: 0.1271255 Vali Loss: 0.2246147 Test Loss: 0.2967500\n",
            "EarlyStopping counter: 2 out of 3\n",
            "Updating learning rate to 6.25e-06\n",
            "\titers: 100, epoch: 6 | loss: 0.1241455\n",
            "\tspeed: 0.5975s/iter; left time: 276.0290s\n",
            "\titers: 200, epoch: 6 | loss: 0.1211154\n",
            "\tspeed: 0.2205s/iter; left time: 79.8275s\n",
            "\titers: 300, epoch: 6 | loss: 0.1185831\n",
            "\tspeed: 0.2206s/iter; left time: 57.8045s\n",
            "\titers: 400, epoch: 6 | loss: 0.1324566\n",
            "\tspeed: 0.2205s/iter; left time: 35.7166s\n",
            "\titers: 500, epoch: 6 | loss: 0.1242284\n",
            "\tspeed: 0.2207s/iter; left time: 13.6828s\n",
            "Epoch: 6 cost time: 123.71032309532166\n",
            "Epoch: 6, Steps: 561 | Train Loss: 0.1241126 Vali Loss: 0.2276475 Test Loss: 0.2965041\n",
            "EarlyStopping counter: 3 out of 3\n",
            "Early stopping\n",
            ">>>>>>>testing : informer_ECL_ftM_sl336_ll48_pl96_dm512_nh8_el2_dl1_df2048_atprob_fc5_ebtimeF_dtTrue_mxTrue_exp_0<<<<<<<<<<<<<<<<<<<<<<<<<<<<<<<<<\n",
            "test 5165\n",
            "test shape: (161, 32, 96, 321) (161, 32, 96, 321)\n",
            "test shape: (5152, 96, 321) (5152, 96, 321)\n",
            "mse:0.29677632451057434, mae:0.390759140253067\n"
          ]
        }
      ],
      "source": [
        "for ii in range(args.itr):\n",
        "    # setting record of experiments\n",
        "    setting = '{}_{}_ft{}_sl{}_ll{}_pl{}_dm{}_nh{}_el{}_dl{}_df{}_at{}_fc{}_eb{}_dt{}_mx{}_{}_{}'.format(args.model, args.data, args.features,\n",
        "                args.seq_len, args.label_len, args.pred_len,\n",
        "                args.d_model, args.n_heads, args.e_layers, args.d_layers, args.d_ff, args.attn, args.factor, args.embed, args.distil, args.mix, args.des, ii)\n",
        "\n",
        "    # set experiments\n",
        "    exp = Exp(args)\n",
        "\n",
        "    # train\n",
        "    print('>>>>>>>start training : {}>>>>>>>>>>>>>>>>>>>>>>>>>>'.format(setting))\n",
        "    exp.train(setting)\n",
        "\n",
        "    # test\n",
        "    print('>>>>>>>testing : {}<<<<<<<<<<<<<<<<<<<<<<<<<<<<<<<<<'.format(setting))\n",
        "    exp.test(setting)\n",
        "\n",
        "    torch.cuda.empty_cache()"
      ]
    },
    {
      "cell_type": "markdown",
      "metadata": {
        "id": "CDHF-HerAE3u"
      },
      "source": [
        "## Prediction"
      ]
    },
    {
      "cell_type": "code",
      "execution_count": 25,
      "metadata": {
        "id": "s0YI1zx6ACiz"
      },
      "outputs": [],
      "source": [
        "import os\n",
        "\n",
        "# set saved model path\n",
        "setting = 'informer_ECL_ftM_sl336_ll48_pl96_dm512_nh8_el2_dl1_df2048_atprob_fc5_ebtimeF_dtTrue_mxTrue_exp_0'\n",
        "# path = os.path.join(args.checkpoints,setting,'checkpoint.pth')"
      ]
    },
    {
      "cell_type": "code",
      "execution_count": 26,
      "metadata": {
        "id": "nTkluNNcyMJt",
        "colab": {
          "base_uri": "https://localhost:8080/"
        },
        "outputId": "e9c7fc35-b712-4553-9c38-2844ee082068"
      },
      "outputs": [
        {
          "output_type": "stream",
          "name": "stdout",
          "text": [
            "Use GPU: cuda:0\n",
            "pred 1\n"
          ]
        }
      ],
      "source": [
        "exp = Exp(args)\n",
        "\n",
        "exp.predict(setting, True)"
      ]
    },
    {
      "cell_type": "code",
      "execution_count": 27,
      "metadata": {
        "id": "KBCPbjGuzAZb",
        "colab": {
          "base_uri": "https://localhost:8080/"
        },
        "outputId": "ad9fd751-8089-455d-e699-7863fba25d91"
      },
      "outputs": [
        {
          "output_type": "execute_result",
          "data": {
            "text/plain": [
              "(1, 96, 321)"
            ]
          },
          "metadata": {},
          "execution_count": 27
        }
      ],
      "source": [
        "# the prediction will be saved in ./results/{setting}/real_prediction.npy\n",
        "import numpy as np\n",
        "\n",
        "prediction = np.load('./results/'+setting+'/real_prediction.npy')\n",
        "\n",
        "prediction.shape"
      ]
    },
    {
      "cell_type": "markdown",
      "metadata": {
        "id": "5yFuVkTV30_j"
      },
      "source": [
        "### More details about Prediction - prediction function"
      ]
    },
    {
      "cell_type": "code",
      "execution_count": 28,
      "metadata": {
        "id": "Sv9AR_Aw030r"
      },
      "outputs": [],
      "source": [
        "# here is the detailed code of function predict\n",
        "\n",
        "def predict(exp, setting, load=False):\n",
        "    pred_data, pred_loader = exp._get_data(flag='pred')\n",
        "\n",
        "    if load:\n",
        "        path = os.path.join(exp.args.checkpoints, setting)\n",
        "        best_model_path = path+'/'+'checkpoint.pth'\n",
        "        exp.model.load_state_dict(torch.load(best_model_path))\n",
        "\n",
        "    exp.model.eval()\n",
        "\n",
        "    preds = []\n",
        "\n",
        "    for i, (batch_x,batch_y,batch_x_mark,batch_y_mark) in enumerate(pred_loader):\n",
        "        batch_x = batch_x.float().to(exp.device)\n",
        "        batch_y = batch_y.float()\n",
        "        batch_x_mark = batch_x_mark.float().to(exp.device)\n",
        "        batch_y_mark = batch_y_mark.float().to(exp.device)\n",
        "\n",
        "        # decoder input\n",
        "        if exp.args.padding==0:\n",
        "            dec_inp = torch.zeros([batch_y.shape[0], exp.args.pred_len, batch_y.shape[-1]]).float()\n",
        "        elif exp.args.padding==1:\n",
        "            dec_inp = torch.ones([batch_y.shape[0], exp.args.pred_len, batch_y.shape[-1]]).float()\n",
        "        else:\n",
        "            dec_inp = torch.zeros([batch_y.shape[0], exp.args.pred_len, batch_y.shape[-1]]).float()\n",
        "        dec_inp = torch.cat([batch_y[:,:exp.args.label_len,:], dec_inp], dim=1).float().to(exp.device)\n",
        "        # encoder - decoder\n",
        "        if exp.args.use_amp:\n",
        "            with torch.cuda.amp.autocast():\n",
        "                if exp.args.output_attention:\n",
        "                    outputs = exp.model(batch_x, batch_x_mark, dec_inp, batch_y_mark)[0]\n",
        "                else:\n",
        "                    outputs = exp.model(batch_x, batch_x_mark, dec_inp, batch_y_mark)\n",
        "        else:\n",
        "            if exp.args.output_attention:\n",
        "                outputs = exp.model(batch_x, batch_x_mark, dec_inp, batch_y_mark)[0]\n",
        "            else:\n",
        "                outputs = exp.model(batch_x, batch_x_mark, dec_inp, batch_y_mark)\n",
        "        f_dim = -1 if exp.args.features=='MS' else 0\n",
        "        batch_y = batch_y[:,-exp.args.pred_len:,f_dim:].to(exp.device)\n",
        "\n",
        "        pred = outputs.detach().cpu().numpy()#.squeeze()\n",
        "\n",
        "        preds.append(pred)\n",
        "\n",
        "    preds = np.array(preds)\n",
        "    preds = preds.reshape(-1, preds.shape[-2], preds.shape[-1])\n",
        "\n",
        "    # result save\n",
        "    folder_path = './results/' + setting +'/'\n",
        "    if not os.path.exists(folder_path):\n",
        "        os.makedirs(folder_path)\n",
        "\n",
        "    np.save(folder_path+'real_prediction.npy', preds)\n",
        "\n",
        "    return preds\n"
      ]
    },
    {
      "cell_type": "code",
      "execution_count": 29,
      "metadata": {
        "id": "tVLWZL2a1pwB",
        "colab": {
          "base_uri": "https://localhost:8080/"
        },
        "outputId": "e95be020-7f33-401a-b38f-a84997656fdd"
      },
      "outputs": [
        {
          "output_type": "stream",
          "name": "stdout",
          "text": [
            "pred 1\n"
          ]
        }
      ],
      "source": [
        "# you can also use this prediction function to get result\n",
        "prediction = predict(exp, setting, True)"
      ]
    },
    {
      "cell_type": "code",
      "execution_count": 30,
      "metadata": {
        "id": "NwtZmQC71uc8",
        "colab": {
          "base_uri": "https://localhost:8080/",
          "height": 430
        },
        "outputId": "899caca6-85a8-41b8-9783-05eb4c9355f5"
      },
      "outputs": [
        {
          "output_type": "display_data",
          "data": {
            "text/plain": [
              "<Figure size 640x480 with 1 Axes>"
            ],
            "image/png": "[encoded data removed]"
          },
          "metadata": {}
        }
      ],
      "source": [
        "import matplotlib.pyplot as plt\n",
        "\n",
        "plt.figure()\n",
        "plt.plot(prediction[0,:,-1])\n",
        "plt.show()"
      ]
    },
    {
      "cell_type": "markdown",
      "metadata": {
        "id": "EnePVyrW4I14"
      },
      "source": [
        "### More details\n"
      ]
    },
    {
      "cell_type": "code",
      "execution_count": 31,
      "metadata": {
        "id": "ZpXhNGp34Hf4"
      },
      "outputs": [],
      "source": [
        "from data.data_loader import Dataset_Pred\n",
        "from torch.utils.data import DataLoader"
      ]
    },
    {
      "cell_type": "code",
      "execution_count": 32,
      "metadata": {
        "id": "j4Rpd1q74T8N"
      },
      "outputs": [],
      "source": [
        "Data = Dataset_Custom\n",
        "timeenc = 0 if args.embed!='timeF' else 1\n",
        "flag = 'test'; shuffle_flag = False; drop_last = True; batch_size = 1\n",
        "\n",
        "freq = args.detail_freq\n",
        "\n",
        "data_set = Data(\n",
        "    root_path=args.root_path,\n",
        "    data_path=args.data_path,\n",
        "    flag=flag,\n",
        "    size=[args.seq_len, args.label_len, args.pred_len],\n",
        "    features=args.features,\n",
        "    timeenc=timeenc,\n",
        "    target=args.target,\n",
        "    freq=args.freq # 'h': hourly, 't':minutely\n",
        ")\n",
        "data_loader = DataLoader(\n",
        "    data_set,\n",
        "    batch_size=batch_size,\n",
        "    shuffle=shuffle_flag,\n",
        "    num_workers=args.num_workers,\n",
        "    drop_last=drop_last)"
      ]
    },
    {
      "cell_type": "code",
      "execution_count": 33,
      "metadata": {
        "id": "42C84BfY6UPV",
        "colab": {
          "base_uri": "https://localhost:8080/"
        },
        "outputId": "e5ce5f83-216d-403d-a608-9e7cbc8665d9"
      },
      "outputs": [
        {
          "output_type": "execute_result",
          "data": {
            "text/plain": [
              "(5165, 5165)"
            ]
          },
          "metadata": {},
          "execution_count": 33
        }
      ],
      "source": [
        "len(data_set), len(data_loader)"
      ]
    },
    {
      "cell_type": "markdown",
      "metadata": {
        "id": "cNhEP_7sAgqC"
      },
      "source": [
        "## Visualization"
      ]
    },
    {
      "cell_type": "code",
      "execution_count": 34,
      "metadata": {
        "id": "vMRk8VkQ2Iko",
        "colab": {
          "base_uri": "https://localhost:8080/"
        },
        "outputId": "08f1b70b-a303-4b02-b2de-75279ea9d9e7"
      },
      "outputs": [
        {
          "output_type": "execute_result",
          "data": {
            "text/plain": [
              "((5152, 96, 321), (5152, 96, 321))"
            ]
          },
          "metadata": {},
          "execution_count": 34
        }
      ],
      "source": [
        "# When we finished exp.train(setting) and exp.test(setting), we will get a trained model and the results of test experiment\n",
        "# The results of test experiment will be saved in ./results/{setting}/pred.npy (prediction of test dataset) and ./results/{setting}/true.npy (groundtruth of test dataset)\n",
        "\n",
        "preds = np.load('./results/'+setting+'/pred.npy')\n",
        "trues = np.load('./results/'+setting+'/true.npy')\n",
        "\n",
        "# [samples, pred_len, dimensions]\n",
        "preds.shape, trues.shape"
      ]
    },
    {
      "cell_type": "code",
      "execution_count": 35,
      "metadata": {
        "id": "ZEGhDOmxAeAb"
      },
      "outputs": [],
      "source": [
        "import matplotlib.pyplot as plt\n",
        "import seaborn as sns"
      ]
    },
    {
      "cell_type": "code",
      "execution_count": 36,
      "metadata": {
        "id": "kyPuOPGAAjl3",
        "colab": {
          "base_uri": "https://localhost:8080/",
          "height": 430
        },
        "outputId": "b833bb62-a14e-40f2-fa54-9e0dc769a87b"
      },
      "outputs": [
        {
          "output_type": "display_data",
          "data": {
            "text/plain": [
              "<Figure size 640x480 with 1 Axes>"
            ],
            "image/png": "[encoded data removed]"
          },
          "metadata": {}
        }
      ],
      "source": [
        "# draw \"MT_320\" prediction\n",
        "plt.figure()\n",
        "plt.plot(trues[0,:,-1], label='GroundTruth')\n",
        "plt.plot(preds[0,:,-1], label='Prediction')\n",
        "plt.legend()\n",
        "plt.show()"
      ]
    },
    {
      "cell_type": "code",
      "execution_count": 37,
      "metadata": {
        "id": "43MIgWfpMYIB",
        "colab": {
          "base_uri": "https://localhost:8080/",
          "height": 430
        },
        "outputId": "99636cda-3bb2-4746-9269-17bfe62d18ad"
      },
      "outputs": [
        {
          "output_type": "display_data",
          "data": {
            "text/plain": [
              "<Figure size 640x480 with 1 Axes>"
            ],
            "image/png": "[encoded data removed]"
          },
          "metadata": {}
        }
      ],
      "source": [
        "# draw \"MT_000\" prediction\n",
        "plt.figure()\n",
        "plt.plot(trues[0,:,0], label='GroundTruth')\n",
        "plt.plot(preds[0,:,0], label='Prediction')\n",
        "plt.legend()\n",
        "plt.show()"
      ]
    }
  ],
  "metadata": {
    "colab": {
      "provenance": [],
      "gpuType": "T4"
    },
    "kernelspec": {
      "display_name": "Python 3",
      "name": "python3"
    },
    "accelerator": "GPU"
  },
  "nbformat": 4,
  "nbformat_minor": 0
}