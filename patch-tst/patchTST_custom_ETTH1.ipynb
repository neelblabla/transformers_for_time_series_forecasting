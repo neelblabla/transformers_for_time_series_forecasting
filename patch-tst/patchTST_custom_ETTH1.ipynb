{
 "cells": [
  {
   "cell_type": "code",
   "execution_count": 1,
   "id": "ed103c66",
   "metadata": {
    "colab": {
     "base_uri": "https://localhost:8080/"
    },
    "id": "ed103c66",
    "outputId": "6d983b40-6a98-48fd-c1ef-875839b80915"
   },
   "outputs": [
    {
     "name": "stdout",
     "output_type": "stream",
     "text": [
      "2.0.1+cu118\n"
     ]
    }
   ],
   "source": [
    "import torch\n",
    "from torch.utils.data import Dataset\n",
    "\n",
    "import seaborn as sns\n",
    "import matplotlib.pyplot as plt\n",
    "import numpy as np\n",
    "import pandas as pd\n",
    "# !pip install wandb\n",
    "import wandb\n",
    "import random\n",
    "from tqdm import tqdm\n",
    "\n",
    "from sklearn.preprocessing import StandardScaler\n",
    "print(torch.__version__)"
   ]
  },
  {
   "cell_type": "code",
   "execution_count": 2,
   "id": "3855ec0c",
   "metadata": {
    "colab": {
     "base_uri": "https://localhost:8080/",
     "height": 471
    },
    "id": "3855ec0c",
    "outputId": "caf23e54-39a1-4de5-8a08-40a6b7c38400"
   },
   "outputs": [
    {
     "name": "stderr",
     "output_type": "stream",
     "text": [
      "Failed to detect the name of this notebook, you can set it manually with the WANDB_NOTEBOOK_NAME environment variable to enable code saving.\n",
      "\u001b[34m\u001b[1mwandb\u001b[0m: Currently logged in as: \u001b[33mkirteshpatel98\u001b[0m. Use \u001b[1m`wandb login --relogin`\u001b[0m to force relogin\n"
     ]
    },
    {
     "data": {
      "text/html": [
       "Tracking run with wandb version 0.15.12"
      ],
      "text/plain": [
       "<IPython.core.display.HTML object>"
      ]
     },
     "metadata": {},
     "output_type": "display_data"
    },
    {
     "data": {
      "text/html": [
       "Run data is saved locally in <code>C:\\Users\\hp\\OneDrive - fs-students.de\\FS\\Sem 3\\Deep Learning\\transformers_for_time_series_forecasting\\patch-tst\\wandb\\run-20231103_035700-ehymbdzs</code>"
      ],
      "text/plain": [
       "<IPython.core.display.HTML object>"
      ]
     },
     "metadata": {},
     "output_type": "display_data"
    },
    {
     "data": {
      "text/html": [
       "Syncing run <strong><a href='https://wandb.ai/kirteshpatel98/transformer_timeseries/runs/ehymbdzs' target=\"_blank\">polar-field-24</a></strong> to <a href='https://wandb.ai/kirteshpatel98/transformer_timeseries' target=\"_blank\">Weights & Biases</a> (<a href='https://wandb.me/run' target=\"_blank\">docs</a>)<br/>"
      ],
      "text/plain": [
       "<IPython.core.display.HTML object>"
      ]
     },
     "metadata": {},
     "output_type": "display_data"
    },
    {
     "data": {
      "text/html": [
       " View project at <a href='https://wandb.ai/kirteshpatel98/transformer_timeseries' target=\"_blank\">https://wandb.ai/kirteshpatel98/transformer_timeseries</a>"
      ],
      "text/plain": [
       "<IPython.core.display.HTML object>"
      ]
     },
     "metadata": {},
     "output_type": "display_data"
    },
    {
     "data": {
      "text/html": [
       " View run at <a href='https://wandb.ai/kirteshpatel98/transformer_timeseries/runs/ehymbdzs' target=\"_blank\">https://wandb.ai/kirteshpatel98/transformer_timeseries/runs/ehymbdzs</a>"
      ],
      "text/plain": [
       "<IPython.core.display.HTML object>"
      ]
     },
     "metadata": {},
     "output_type": "display_data"
    },
    {
     "data": {
      "text/html": [
       "<button onClick=\"this.nextSibling.style.display='block';this.style.display='none';\">Display W&B run</button><iframe src='https://wandb.ai/kirteshpatel98/transformer_timeseries/runs/ehymbdzs?jupyter=true' style='border:none;width:100%;height:420px;display:none;'></iframe>"
      ],
      "text/plain": [
       "<wandb.sdk.wandb_run.Run at 0x20ceb60e910>"
      ]
     },
     "execution_count": 2,
     "metadata": {},
     "output_type": "execute_result"
    }
   ],
   "source": [
    "\n",
    "# start a new wandb run to track this script\n",
    "wandb.init(\n",
    "    # set the wandb project where this run will be logged\n",
    "    project=\"transformer_timeseries\",\n",
    ")\n"
   ]
  },
  {
   "cell_type": "code",
   "execution_count": 3,
   "id": "5522d111",
   "metadata": {
    "colab": {
     "base_uri": "https://localhost:8080/",
     "height": 634
    },
    "id": "5522d111",
    "outputId": "e7970d24-0ff5-4827-aa0c-b9fb80ce9051"
   },
   "outputs": [
    {
     "data": {
      "text/plain": [
       "\"\\nfrom google.colab import drive\\ndrive.mount('/content/drive')\\n\\nimport os\\nos.chdir('/content/drive/My Drive/')\\n\\n\\ndf=pd.read_csv('WTH.csv')\\n# df.drop('Unnamed: 0',axis=1,inplace=True)\\ndf\\n\""
      ]
     },
     "execution_count": 3,
     "metadata": {},
     "output_type": "execute_result"
    }
   ],
   "source": [
    "'''\n",
    "from google.colab import drive\n",
    "drive.mount('/content/drive')\n",
    "\n",
    "import os\n",
    "os.chdir('/content/drive/My Drive/')\n",
    "\n",
    "\n",
    "df=pd.read_csv('WTH.csv')\n",
    "# df.drop('Unnamed: 0',axis=1,inplace=True)\n",
    "df\n",
    "'''"
   ]
  },
  {
   "cell_type": "code",
   "execution_count": 4,
   "id": "bffcb3d9",
   "metadata": {
    "colab": {
     "base_uri": "https://localhost:8080/",
     "height": 36
    },
    "id": "bffcb3d9",
    "outputId": "0583a406-d5e9-4687-baf9-6e00500e03d9"
   },
   "outputs": [
    {
     "data": {
      "text/html": [
       "<div>\n",
       "<style scoped>\n",
       "    .dataframe tbody tr th:only-of-type {\n",
       "        vertical-align: middle;\n",
       "    }\n",
       "\n",
       "    .dataframe tbody tr th {\n",
       "        vertical-align: top;\n",
       "    }\n",
       "\n",
       "    .dataframe thead th {\n",
       "        text-align: right;\n",
       "    }\n",
       "</style>\n",
       "<table border=\"1\" class=\"dataframe\">\n",
       "  <thead>\n",
       "    <tr style=\"text-align: right;\">\n",
       "      <th></th>\n",
       "      <th>HUFL</th>\n",
       "      <th>HULL</th>\n",
       "      <th>MUFL</th>\n",
       "      <th>MULL</th>\n",
       "      <th>LUFL</th>\n",
       "      <th>LULL</th>\n",
       "      <th>OT</th>\n",
       "    </tr>\n",
       "  </thead>\n",
       "  <tbody>\n",
       "    <tr>\n",
       "      <th>0</th>\n",
       "      <td>5.827</td>\n",
       "      <td>2.009</td>\n",
       "      <td>1.599</td>\n",
       "      <td>0.462</td>\n",
       "      <td>4.203</td>\n",
       "      <td>1.340</td>\n",
       "      <td>30.531000</td>\n",
       "    </tr>\n",
       "    <tr>\n",
       "      <th>1</th>\n",
       "      <td>5.693</td>\n",
       "      <td>2.076</td>\n",
       "      <td>1.492</td>\n",
       "      <td>0.426</td>\n",
       "      <td>4.142</td>\n",
       "      <td>1.371</td>\n",
       "      <td>27.787001</td>\n",
       "    </tr>\n",
       "    <tr>\n",
       "      <th>2</th>\n",
       "      <td>5.157</td>\n",
       "      <td>1.741</td>\n",
       "      <td>1.279</td>\n",
       "      <td>0.355</td>\n",
       "      <td>3.777</td>\n",
       "      <td>1.218</td>\n",
       "      <td>27.787001</td>\n",
       "    </tr>\n",
       "    <tr>\n",
       "      <th>3</th>\n",
       "      <td>5.090</td>\n",
       "      <td>1.942</td>\n",
       "      <td>1.279</td>\n",
       "      <td>0.391</td>\n",
       "      <td>3.807</td>\n",
       "      <td>1.279</td>\n",
       "      <td>25.044001</td>\n",
       "    </tr>\n",
       "    <tr>\n",
       "      <th>4</th>\n",
       "      <td>5.358</td>\n",
       "      <td>1.942</td>\n",
       "      <td>1.492</td>\n",
       "      <td>0.462</td>\n",
       "      <td>3.868</td>\n",
       "      <td>1.279</td>\n",
       "      <td>21.948000</td>\n",
       "    </tr>\n",
       "    <tr>\n",
       "      <th>...</th>\n",
       "      <td>...</td>\n",
       "      <td>...</td>\n",
       "      <td>...</td>\n",
       "      <td>...</td>\n",
       "      <td>...</td>\n",
       "      <td>...</td>\n",
       "      <td>...</td>\n",
       "    </tr>\n",
       "    <tr>\n",
       "      <th>17415</th>\n",
       "      <td>-1.674</td>\n",
       "      <td>3.550</td>\n",
       "      <td>-5.615</td>\n",
       "      <td>2.132</td>\n",
       "      <td>3.472</td>\n",
       "      <td>1.523</td>\n",
       "      <td>10.904000</td>\n",
       "    </tr>\n",
       "    <tr>\n",
       "      <th>17416</th>\n",
       "      <td>-5.492</td>\n",
       "      <td>4.287</td>\n",
       "      <td>-9.132</td>\n",
       "      <td>2.274</td>\n",
       "      <td>3.533</td>\n",
       "      <td>1.675</td>\n",
       "      <td>11.044000</td>\n",
       "    </tr>\n",
       "    <tr>\n",
       "      <th>17417</th>\n",
       "      <td>2.813</td>\n",
       "      <td>3.818</td>\n",
       "      <td>-0.817</td>\n",
       "      <td>2.097</td>\n",
       "      <td>3.716</td>\n",
       "      <td>1.523</td>\n",
       "      <td>10.271000</td>\n",
       "    </tr>\n",
       "    <tr>\n",
       "      <th>17418</th>\n",
       "      <td>9.243</td>\n",
       "      <td>3.818</td>\n",
       "      <td>5.472</td>\n",
       "      <td>2.097</td>\n",
       "      <td>3.655</td>\n",
       "      <td>1.432</td>\n",
       "      <td>9.778000</td>\n",
       "    </tr>\n",
       "    <tr>\n",
       "      <th>17419</th>\n",
       "      <td>10.114</td>\n",
       "      <td>3.550</td>\n",
       "      <td>6.183</td>\n",
       "      <td>1.564</td>\n",
       "      <td>3.716</td>\n",
       "      <td>1.462</td>\n",
       "      <td>9.567000</td>\n",
       "    </tr>\n",
       "  </tbody>\n",
       "</table>\n",
       "<p>17420 rows × 7 columns</p>\n",
       "</div>"
      ],
      "text/plain": [
       "         HUFL   HULL   MUFL   MULL   LUFL   LULL         OT\n",
       "0       5.827  2.009  1.599  0.462  4.203  1.340  30.531000\n",
       "1       5.693  2.076  1.492  0.426  4.142  1.371  27.787001\n",
       "2       5.157  1.741  1.279  0.355  3.777  1.218  27.787001\n",
       "3       5.090  1.942  1.279  0.391  3.807  1.279  25.044001\n",
       "4       5.358  1.942  1.492  0.462  3.868  1.279  21.948000\n",
       "...       ...    ...    ...    ...    ...    ...        ...\n",
       "17415  -1.674  3.550 -5.615  2.132  3.472  1.523  10.904000\n",
       "17416  -5.492  4.287 -9.132  2.274  3.533  1.675  11.044000\n",
       "17417   2.813  3.818 -0.817  2.097  3.716  1.523  10.271000\n",
       "17418   9.243  3.818  5.472  2.097  3.655  1.432   9.778000\n",
       "17419  10.114  3.550  6.183  1.564  3.716  1.462   9.567000\n",
       "\n",
       "[17420 rows x 7 columns]"
      ]
     },
     "execution_count": 4,
     "metadata": {},
     "output_type": "execute_result"
    }
   ],
   "source": [
    "df=pd.read_csv('ETTh1.csv',index_col=None)\n",
    "# df.drop('Unnamed: 0',axis=1,inplace=True)\n",
    "df.iloc[:,1:]"
   ]
  },
  {
   "cell_type": "code",
   "execution_count": 5,
   "id": "273ef681",
   "metadata": {},
   "outputs": [
    {
     "data": {
      "text/html": [
       "<div>\n",
       "<style scoped>\n",
       "    .dataframe tbody tr th:only-of-type {\n",
       "        vertical-align: middle;\n",
       "    }\n",
       "\n",
       "    .dataframe tbody tr th {\n",
       "        vertical-align: top;\n",
       "    }\n",
       "\n",
       "    .dataframe thead th {\n",
       "        text-align: right;\n",
       "    }\n",
       "</style>\n",
       "<table border=\"1\" class=\"dataframe\">\n",
       "  <thead>\n",
       "    <tr style=\"text-align: right;\">\n",
       "      <th></th>\n",
       "      <th>date</th>\n",
       "      <th>HUFL</th>\n",
       "      <th>HULL</th>\n",
       "      <th>MUFL</th>\n",
       "      <th>MULL</th>\n",
       "      <th>LUFL</th>\n",
       "      <th>LULL</th>\n",
       "      <th>OT</th>\n",
       "    </tr>\n",
       "  </thead>\n",
       "  <tbody>\n",
       "    <tr>\n",
       "      <th>0</th>\n",
       "      <td>2016-07-01 00:00:00</td>\n",
       "      <td>-0.219049</td>\n",
       "      <td>-0.114207</td>\n",
       "      <td>-0.395683</td>\n",
       "      <td>-0.231903</td>\n",
       "      <td>0.976355</td>\n",
       "      <td>0.805738</td>\n",
       "      <td>2.008513</td>\n",
       "    </tr>\n",
       "    <tr>\n",
       "      <th>1</th>\n",
       "      <td>2016-07-01 01:00:00</td>\n",
       "      <td>-0.238009</td>\n",
       "      <td>-0.081400</td>\n",
       "      <td>-0.411356</td>\n",
       "      <td>-0.251800</td>\n",
       "      <td>0.923970</td>\n",
       "      <td>0.857445</td>\n",
       "      <td>1.688203</td>\n",
       "    </tr>\n",
       "    <tr>\n",
       "      <th>2</th>\n",
       "      <td>2016-07-01 02:00:00</td>\n",
       "      <td>-0.313849</td>\n",
       "      <td>-0.245432</td>\n",
       "      <td>-0.442557</td>\n",
       "      <td>-0.291043</td>\n",
       "      <td>0.610524</td>\n",
       "      <td>0.602247</td>\n",
       "      <td>1.688203</td>\n",
       "    </tr>\n",
       "    <tr>\n",
       "      <th>3</th>\n",
       "      <td>2016-07-01 03:00:00</td>\n",
       "      <td>-0.323329</td>\n",
       "      <td>-0.147013</td>\n",
       "      <td>-0.442557</td>\n",
       "      <td>-0.271146</td>\n",
       "      <td>0.636286</td>\n",
       "      <td>0.703993</td>\n",
       "      <td>1.368010</td>\n",
       "    </tr>\n",
       "    <tr>\n",
       "      <th>4</th>\n",
       "      <td>2016-07-01 04:00:00</td>\n",
       "      <td>-0.285409</td>\n",
       "      <td>-0.147013</td>\n",
       "      <td>-0.411356</td>\n",
       "      <td>-0.231903</td>\n",
       "      <td>0.688671</td>\n",
       "      <td>0.703993</td>\n",
       "      <td>1.006610</td>\n",
       "    </tr>\n",
       "    <tr>\n",
       "      <th>...</th>\n",
       "      <td>...</td>\n",
       "      <td>...</td>\n",
       "      <td>...</td>\n",
       "      <td>...</td>\n",
       "      <td>...</td>\n",
       "      <td>...</td>\n",
       "      <td>...</td>\n",
       "      <td>...</td>\n",
       "    </tr>\n",
       "    <tr>\n",
       "      <th>17415</th>\n",
       "      <td>2018-06-26 15:00:00</td>\n",
       "      <td>-1.280380</td>\n",
       "      <td>0.640341</td>\n",
       "      <td>-1.452403</td>\n",
       "      <td>0.691136</td>\n",
       "      <td>0.348602</td>\n",
       "      <td>1.110975</td>\n",
       "      <td>-0.282568</td>\n",
       "    </tr>\n",
       "    <tr>\n",
       "      <th>17416</th>\n",
       "      <td>2018-06-26 16:00:00</td>\n",
       "      <td>-1.820597</td>\n",
       "      <td>1.001211</td>\n",
       "      <td>-1.967580</td>\n",
       "      <td>0.769622</td>\n",
       "      <td>0.400987</td>\n",
       "      <td>1.364505</td>\n",
       "      <td>-0.266225</td>\n",
       "    </tr>\n",
       "    <tr>\n",
       "      <th>17417</th>\n",
       "      <td>2018-06-26 17:00:00</td>\n",
       "      <td>-0.645506</td>\n",
       "      <td>0.771566</td>\n",
       "      <td>-0.749583</td>\n",
       "      <td>0.671791</td>\n",
       "      <td>0.558139</td>\n",
       "      <td>1.110975</td>\n",
       "      <td>-0.356458</td>\n",
       "    </tr>\n",
       "    <tr>\n",
       "      <th>17418</th>\n",
       "      <td>2018-06-26 18:00:00</td>\n",
       "      <td>0.264287</td>\n",
       "      <td>0.771566</td>\n",
       "      <td>0.171642</td>\n",
       "      <td>0.671791</td>\n",
       "      <td>0.505755</td>\n",
       "      <td>0.959190</td>\n",
       "      <td>-0.414007</td>\n",
       "    </tr>\n",
       "    <tr>\n",
       "      <th>17419</th>\n",
       "      <td>2018-06-26 19:00:00</td>\n",
       "      <td>0.387526</td>\n",
       "      <td>0.640341</td>\n",
       "      <td>0.275790</td>\n",
       "      <td>0.377192</td>\n",
       "      <td>0.558139</td>\n",
       "      <td>1.009229</td>\n",
       "      <td>-0.438637</td>\n",
       "    </tr>\n",
       "  </tbody>\n",
       "</table>\n",
       "<p>17420 rows × 8 columns</p>\n",
       "</div>"
      ],
      "text/plain": [
       "                      date      HUFL      HULL      MUFL      MULL      LUFL  \\\n",
       "0      2016-07-01 00:00:00 -0.219049 -0.114207 -0.395683 -0.231903  0.976355   \n",
       "1      2016-07-01 01:00:00 -0.238009 -0.081400 -0.411356 -0.251800  0.923970   \n",
       "2      2016-07-01 02:00:00 -0.313849 -0.245432 -0.442557 -0.291043  0.610524   \n",
       "3      2016-07-01 03:00:00 -0.323329 -0.147013 -0.442557 -0.271146  0.636286   \n",
       "4      2016-07-01 04:00:00 -0.285409 -0.147013 -0.411356 -0.231903  0.688671   \n",
       "...                    ...       ...       ...       ...       ...       ...   \n",
       "17415  2018-06-26 15:00:00 -1.280380  0.640341 -1.452403  0.691136  0.348602   \n",
       "17416  2018-06-26 16:00:00 -1.820597  1.001211 -1.967580  0.769622  0.400987   \n",
       "17417  2018-06-26 17:00:00 -0.645506  0.771566 -0.749583  0.671791  0.558139   \n",
       "17418  2018-06-26 18:00:00  0.264287  0.771566  0.171642  0.671791  0.505755   \n",
       "17419  2018-06-26 19:00:00  0.387526  0.640341  0.275790  0.377192  0.558139   \n",
       "\n",
       "           LULL        OT  \n",
       "0      0.805738  2.008513  \n",
       "1      0.857445  1.688203  \n",
       "2      0.602247  1.688203  \n",
       "3      0.703993  1.368010  \n",
       "4      0.703993  1.006610  \n",
       "...         ...       ...  \n",
       "17415  1.110975 -0.282568  \n",
       "17416  1.364505 -0.266225  \n",
       "17417  1.110975 -0.356458  \n",
       "17418  0.959190 -0.414007  \n",
       "17419  1.009229 -0.438637  \n",
       "\n",
       "[17420 rows x 8 columns]"
      ]
     },
     "execution_count": 5,
     "metadata": {},
     "output_type": "execute_result"
    }
   ],
   "source": [
    "scaler = StandardScaler()\n",
    "df.iloc[:,1:] = scaler.fit_transform(df.iloc[:,1:])\n",
    "df"
   ]
  },
  {
   "cell_type": "code",
   "execution_count": 6,
   "id": "IMhozIdUX4fg",
   "metadata": {
    "id": "IMhozIdUX4fg"
   },
   "outputs": [],
   "source": [
    "class weather_data(torch.utils.data.Dataset):\n",
    "    def __init__(self, df, mode=\"train\", seq_len=336, pred_len=96,num_feat=7):\n",
    "        super().__init__()\n",
    "        self.num_feat=num_feat\n",
    "        self.df = df.iloc[:,1:num_feat+1]\n",
    "        # time_stamp = df.iloc[:,0]\n",
    "\n",
    "        assert mode in ['train', 'test', 'val']\n",
    "        type_map = {'train': 0, 'val': 1, 'test': 2}\n",
    "        self.set_type = type_map[mode]\n",
    "\n",
    "        self.seq_len = seq_len\n",
    "        self.pred_len = pred_len\n",
    "        dataset_len=len(df)\n",
    "\n",
    "        border1s = [0, int(round(0.7*dataset_len,0)) - self.seq_len, int(round(0.7*dataset_len,0)) + int(round(0.1*dataset_len,0)) - self.seq_len]\n",
    "        border2s = [int(round(0.7*dataset_len,0)), int(round(0.7*dataset_len,0)) + int(round(0.1*dataset_len,0)), int(round(0.7*dataset_len,0)) + int(round(0.1*dataset_len,0)) + int(round(0.2*dataset_len,0))]\n",
    "        border1 = border1s[self.set_type]\n",
    "        border2 = border2s[self.set_type]\n",
    "\n",
    "\n",
    "\n",
    "\n",
    "        self.df = self.df.to_numpy(dtype=np.float32)\n",
    "        # time_stamp = time_stamp.to_numpy()\n",
    "\n",
    "        self.data_x = self.df[border1: border2, :]\n",
    "        self.data_y = self.df[border1: border2, :]\n",
    "\n",
    "        # self.data_stamp = time_stamp[border1: border2]\n",
    "\n",
    "    def __getitem__(self, index):\n",
    "        s_begin = index\n",
    "        s_end = s_begin + self.seq_len\n",
    "        r_begin = s_end\n",
    "        r_end = r_begin + self.pred_len\n",
    "\n",
    "        seq_x = self.data_x[s_begin:s_end]\n",
    "        seq_y = self.data_y[r_begin:r_end]\n",
    "        return seq_x, seq_y\n",
    "\n",
    "\n",
    "    def __len__(self):\n",
    "        return len(self.data_x) - self.seq_len - self.pred_len + 1"
   ]
  },
  {
   "cell_type": "code",
   "execution_count": 7,
   "id": "Ds8C5Wv1TZJy",
   "metadata": {
    "colab": {
     "base_uri": "https://localhost:8080/"
    },
    "id": "Ds8C5Wv1TZJy",
    "outputId": "3523cc60-dc4f-4830-acb8-8140b52c92dd"
   },
   "outputs": [
    {
     "name": "stdout",
     "output_type": "stream",
     "text": [
      "11763 1647 3389\n"
     ]
    }
   ],
   "source": [
    "from torch.utils.data import DataLoader\n",
    "\n",
    "train_dataset = weather_data(df=df)\n",
    "valid_dataset = weather_data(df=df,mode=\"val\")\n",
    "test_dataset = weather_data(df=df,mode=\"test\")\n",
    "\n",
    "print(len(train_dataset),len(valid_dataset),len(test_dataset))"
   ]
  },
  {
   "cell_type": "code",
   "execution_count": 8,
   "id": "70a18f29",
   "metadata": {
    "id": "70a18f29"
   },
   "outputs": [
    {
     "data": {
      "text/plain": [
       "(96, 7)"
      ]
     },
     "execution_count": 8,
     "metadata": {},
     "output_type": "execute_result"
    }
   ],
   "source": [
    "train_dataset[1][1].shape"
   ]
  },
  {
   "cell_type": "code",
   "execution_count": 9,
   "id": "a2c85a51",
   "metadata": {},
   "outputs": [
    {
     "data": {
      "text/plain": [
       "PatchTST.PatchTST_supervised.models.PatchTST.Model"
      ]
     },
     "execution_count": 9,
     "metadata": {},
     "output_type": "execute_result"
    }
   ],
   "source": [
    "import os\n",
    "current_directory = os.getcwd()\n",
    "os.chdir(current_directory+r\"\\PatchTST\\PatchTST_supervised\")\n",
    "from PatchTST.PatchTST_supervised.models.PatchTST import Model\n",
    "os.chdir(current_directory)\n",
    "Model"
   ]
  },
  {
   "cell_type": "code",
   "execution_count": 10,
   "id": "322a0ff3",
   "metadata": {},
   "outputs": [],
   "source": [
    "class Configs:\n",
    "    def __init__(self):\n",
    "        self.enc_in = 7\n",
    "        self.seq_len = 336\n",
    "        self.pred_len = 96\n",
    "        self.e_layers = 3\n",
    "        self.n_heads = 4\n",
    "        self.d_model = 16\n",
    "        self.d_ff = 128\n",
    "        self.dropout = 0.3\n",
    "        self.fc_dropout = 0.\n",
    "        self.head_dropout = 0.\n",
    "        self.individual = True\n",
    "        self.patch_len = 24\n",
    "        self.stride = 2\n",
    "        self.padding_patch = True\n",
    "        self.revin = True\n",
    "        self.affine = False\n",
    "        self.subtract_last = False\n",
    "        self.decomposition = False\n",
    "        self.kernel_size = 25\n",
    "        \n",
    "my_configs = Configs()\n",
    "model=Model(configs=my_configs)"
   ]
  },
  {
   "cell_type": "code",
   "execution_count": 11,
   "id": "94fdb9c2",
   "metadata": {},
   "outputs": [
    {
     "data": {
      "text/plain": [
       "torch.Size([1, 96, 7])"
      ]
     },
     "execution_count": 11,
     "metadata": {},
     "output_type": "execute_result"
    }
   ],
   "source": [
    "dat=torch.from_numpy(train_dataset[0][0])\n",
    "dat=dat.unsqueeze(dim=0)\n",
    "dat.shape\n",
    "model(dat).shape"
   ]
  },
  {
   "cell_type": "code",
   "execution_count": 12,
   "id": "4e2b4427",
   "metadata": {
    "colab": {
     "base_uri": "https://localhost:8080/"
    },
    "id": "4e2b4427",
    "outputId": "be9af307-b172-4a69-ffd9-61220cb69e4e"
   },
   "outputs": [
    {
     "data": {
      "text/plain": [
       "378"
      ]
     },
     "execution_count": 12,
     "metadata": {},
     "output_type": "execute_result"
    }
   ],
   "source": [
    "import gc\n",
    "torch.cuda.empty_cache()\n",
    "gc.collect()"
   ]
  },
  {
   "cell_type": "code",
   "execution_count": 13,
   "id": "032b97a3",
   "metadata": {
    "id": "032b97a3"
   },
   "outputs": [
    {
     "data": {
      "text/plain": [
       "'\\n            # plotting\\n            \\n            for i,j in zip(test_pred[0],test_y[0]):\\n                pass\\n            # print(i[ind].item())\\n                test_pred_plot.append(i[ind].item())\\n            # print(j[ind].item())\\n                test_y_plot.append(j[ind].item())\\n        sns.lineplot(x=list(range(len(test_pred_plot)))[:96], y=test_pred_plot[:96], label=\"predicted\")\\n        sns.lineplot(x=list(range(len(test_y_plot)))[:96], y=test_y_plot[:96], label=\"actual\")\\n        plt.legend(title=\\'Lines\\')\\n        plt.show()\\n        test_total_loss/= test_iter_count\\n        print(\"MSE test loss: \",test_total_loss)\\n\\n        '"
      ]
     },
     "execution_count": 13,
     "metadata": {},
     "output_type": "execute_result"
    }
   ],
   "source": [
    "class model_run:\n",
    "    def __init__(self,model=model):\n",
    "        self.patchtst_model = model\n",
    "        \n",
    "    def model_architecture(self):\n",
    "        n=0\n",
    "        for x in self.patchtst_model.state_dict():\n",
    "            n=n+1\n",
    "            print(x)\n",
    "        print(\"layers= \",n)\n",
    "\n",
    "    def load_datasets(self,train_dataset=train_dataset,valid_dataset=valid_dataset,test_dataset=test_dataset):\n",
    "        self.train_dataset=train_dataset\n",
    "        self.valid_dataset=valid_dataset\n",
    "        self.test_dataset=test_dataset\n",
    "\n",
    "\n",
    "\n",
    "    def model_hyperparameters(self,batch_size=128,lr=0.00001,epochs=500,cuda=True,Dataloader=DataLoader):\n",
    "        self.batch_size = batch_size\n",
    "        self.lr=lr\n",
    "        self.epochs=epochs\n",
    "\n",
    "        self.train_dataloader = DataLoader(self.train_dataset, batch_size=batch_size, shuffle=True)\n",
    "        self.test_dataloader = DataLoader(self.test_dataset, batch_size=1, shuffle=False)\n",
    "        self.valid_dataloader = DataLoader(self.valid_dataset, batch_size=batch_size, shuffle=True)\n",
    "\n",
    "\n",
    "        if cuda:\n",
    "            self.patchtst_model=self.patchtst_model.to(\"cuda\")\n",
    "\n",
    "        self.optimizer = torch.optim.Adam(self.patchtst_model.parameters(), lr=self.lr)\n",
    "        self.loss = torch.nn.MSELoss()\n",
    "        self.loss_mae=torch.nn.L1Loss()\n",
    "\n",
    "    def model_execute(self,):\n",
    "        self.load_datasets()\n",
    "        self.model_hyperparameters()\n",
    "\n",
    "        for epoch in range(self.epochs):\n",
    "            iter_count = 0\n",
    "            total_loss = 0\n",
    "            train_steps=0\n",
    "            total_train_mae_loss=0\n",
    "\n",
    "            for train_x, train_y in tqdm(self.train_dataloader):\n",
    "                train_x = train_x.to(\"cuda\")\n",
    "                train_y = train_y.to(\"cuda\")\n",
    "                \n",
    "                self.i=train_x\n",
    "                pred_y = self.patchtst_model(train_x)\n",
    "                # print(train_x.shape)\n",
    "                # print(train_y.shape)\n",
    "                # print(pred_y.shape)\n",
    "                train_mae_loss=self.loss_mae(pred_y, train_y)\n",
    "\n",
    "                loss_t = self.loss(pred_y, train_y)\n",
    "                self.optimizer.zero_grad()\n",
    "                loss_t.backward()\n",
    "                self.optimizer.step()\n",
    "                total_loss += loss_t.item()\n",
    "                total_train_mae_loss += train_mae_loss.item()\n",
    "                iter_count += 1\n",
    "                train_steps += 1\n",
    "\n",
    "            valid_iter_count = 0\n",
    "            valid_total_loss = 0\n",
    "            valid_total_mae = 0\n",
    "            with torch.no_grad():\n",
    "                for valid_x, valid_y in self.valid_dataloader:\n",
    "                    valid_x = valid_x.to(\"cuda\")\n",
    "                    valid_y = valid_y.to(\"cuda\")\n",
    "                    pred_y = self.patchtst_model(valid_x)\n",
    "                    loss_v = self.loss(pred_y, valid_y)\n",
    "                    valid_loss_mae=self.loss_mae(pred_y, valid_y)\n",
    "\n",
    "                    valid_total_loss += loss_v.item()\n",
    "                    valid_iter_count += 1\n",
    "\n",
    "                    valid_total_mae+=valid_loss_mae.item()\n",
    "\n",
    "                total_loss /= iter_count\n",
    "                total_train_mae_loss /= iter_count\n",
    "\n",
    "                valid_total_loss /= valid_iter_count\n",
    "                valid_total_mae /= valid_iter_count\n",
    "                wandb.log({\"MSE Train\": total_loss, \"MSE Test\": valid_total_loss,\"MAE Train\": total_train_mae_loss,\"MAE Test\": valid_total_mae})\n",
    "\n",
    "                print(\"epoch: {} MSE loss: {:.4f} MSE valid loss: {:.4f}\".format(epoch, total_loss, valid_total_loss))\n",
    "                print(\"          MAE loss: {:.4f} MAE valid loss: {:.4f}\".format(total_train_mae_loss, valid_total_mae))\n",
    "\n",
    "    def save_model(self,name):\n",
    "        torch.save(self.patchtst_model.state_dict(), name+'.pth')\n",
    "\n",
    "\n",
    "    def test_plots(self,ind=3,df_columns=None,scaler=None,column=None):\n",
    "        test_total_loss = 0\n",
    "        test_total_loss_mae=0\n",
    "        test_iter_count = 0\n",
    "        test_pred_plot=[]\n",
    "        test_y_plot=[]\n",
    "        \n",
    "        df_y_final=pd.DataFrame(columns=df_columns)\n",
    "        df_pred_final=pd.DataFrame(columns=df_columns)\n",
    "        \n",
    "        for test_x, test_y in self.test_dataloader:\n",
    "            test_x = test_x.to(\"cuda\")\n",
    "            test_y = test_y.to(\"cuda\")\n",
    "            test_pred=self.patchtst_model(test_x.to(\"cuda\"))\n",
    "            # print(test_pred.shape)\n",
    "            # print(test_y.shape)\n",
    "            loss_test=self.loss(test_pred, test_y)\n",
    "            test_total_loss += loss_test.item()\n",
    "            \n",
    "            loss_test_mae=self.loss_mae(test_pred, test_y)\n",
    "            test_total_loss_mae+=loss_test_mae.item()\n",
    "            \n",
    "            test_iter_count += 1\n",
    "            \n",
    "            \n",
    "            df_y=pd.DataFrame(test_y[0].to(\"cpu\").numpy(),columns=df_columns)\n",
    "            df_pred=pd.DataFrame(test_pred[0].to(\"cpu\").detach().numpy(),columns=df_columns)\n",
    "            \n",
    "            df_y_final = pd.concat([df_y_final, df_y], axis=0)\n",
    "            df_pred_final = pd.concat([df_pred_final, df_pred], axis=0)\n",
    "        df_pred_final=scaler.inverse_transform(df_pred_final)   \n",
    "        df_y_final=scaler.inverse_transform(df_y_final)\n",
    "        \n",
    "        df_pred_final=pd.DataFrame(df_pred_final,columns=df_columns)\n",
    "        df_y_final=pd.DataFrame(df_y_final,columns=df_columns)\n",
    "        \n",
    "        \n",
    "        sns.lineplot(x=list(range(len(df_pred_final)))[:96], y=df_pred_final[column][:96], label=\"predicted\")\n",
    "        sns.lineplot(x=list(range(len(df_y_final)))[:96], y=df_y_final[column][:96], label=\"actual\")\n",
    "        plt.legend(title='Type')\n",
    "        plt.xlabel('Time Step')\n",
    "        plt.title(\"Predicted vs Actual\")\n",
    "        plt.show()\n",
    "        \n",
    "        \n",
    "        test_total_loss/= test_iter_count\n",
    "        test_total_loss_mae/=test_iter_count\n",
    "        print(\"MSE test loss: \",test_total_loss)\n",
    "        print(\"MAE test loss: \",test_total_loss_mae)\n",
    "         \n",
    "'''\n",
    "            # plotting\n",
    "            \n",
    "            for i,j in zip(test_pred[0],test_y[0]):\n",
    "                pass\n",
    "            # print(i[ind].item())\n",
    "                test_pred_plot.append(i[ind].item())\n",
    "            # print(j[ind].item())\n",
    "                test_y_plot.append(j[ind].item())\n",
    "        sns.lineplot(x=list(range(len(test_pred_plot)))[:96], y=test_pred_plot[:96], label=\"predicted\")\n",
    "        sns.lineplot(x=list(range(len(test_y_plot)))[:96], y=test_y_plot[:96], label=\"actual\")\n",
    "        plt.legend(title='Lines')\n",
    "        plt.show()\n",
    "        test_total_loss/= test_iter_count\n",
    "        print(\"MSE test loss: \",test_total_loss)\n",
    "\n",
    "        '''\n"
   ]
  },
  {
   "cell_type": "code",
   "execution_count": 14,
   "id": "c4be2e6f",
   "metadata": {
    "id": "c4be2e6f"
   },
   "outputs": [],
   "source": [
    "x=model_run(model=model)"
   ]
  },
  {
   "cell_type": "code",
   "execution_count": 15,
   "id": "PRq_t36mOl4T",
   "metadata": {
    "colab": {
     "base_uri": "https://localhost:8080/",
     "height": 1000
    },
    "id": "PRq_t36mOl4T",
    "outputId": "36d03252-4ea5-48cc-b8ce-66ec139f0b65"
   },
   "outputs": [
    {
     "name": "stderr",
     "output_type": "stream",
     "text": [
      "100%|██████████████████████████████████████████████████████████████████████████████████| 92/92 [00:15<00:00,  5.85it/s]\n"
     ]
    },
    {
     "name": "stdout",
     "output_type": "stream",
     "text": [
      "epoch: 0 MSE loss: 0.7117 MSE valid loss: 0.5018\n",
      "          MAE loss: 0.6037 MAE valid loss: 0.5160\n"
     ]
    },
    {
     "name": "stderr",
     "output_type": "stream",
     "text": [
      "100%|██████████████████████████████████████████████████████████████████████████████████| 92/92 [00:15<00:00,  5.89it/s]\n"
     ]
    },
    {
     "name": "stdout",
     "output_type": "stream",
     "text": [
      "epoch: 1 MSE loss: 0.5886 MSE valid loss: 0.4571\n",
      "          MAE loss: 0.5484 MAE valid loss: 0.4913\n"
     ]
    },
    {
     "name": "stderr",
     "output_type": "stream",
     "text": [
      "100%|██████████████████████████████████████████████████████████████████████████████████| 92/92 [00:15<00:00,  5.91it/s]\n"
     ]
    },
    {
     "name": "stdout",
     "output_type": "stream",
     "text": [
      "epoch: 2 MSE loss: 0.5396 MSE valid loss: 0.4358\n",
      "          MAE loss: 0.5243 MAE valid loss: 0.4772\n"
     ]
    },
    {
     "name": "stderr",
     "output_type": "stream",
     "text": [
      "100%|██████████████████████████████████████████████████████████████████████████████████| 92/92 [00:15<00:00,  5.88it/s]\n"
     ]
    },
    {
     "name": "stdout",
     "output_type": "stream",
     "text": [
      "epoch: 3 MSE loss: 0.5124 MSE valid loss: 0.4228\n",
      "          MAE loss: 0.5100 MAE valid loss: 0.4684\n"
     ]
    },
    {
     "name": "stderr",
     "output_type": "stream",
     "text": [
      "100%|██████████████████████████████████████████████████████████████████████████████████| 92/92 [00:15<00:00,  5.87it/s]\n"
     ]
    },
    {
     "name": "stdout",
     "output_type": "stream",
     "text": [
      "epoch: 4 MSE loss: 0.4944 MSE valid loss: 0.4143\n",
      "          MAE loss: 0.5004 MAE valid loss: 0.4625\n"
     ]
    },
    {
     "name": "stderr",
     "output_type": "stream",
     "text": [
      "100%|██████████████████████████████████████████████████████████████████████████████████| 92/92 [00:15<00:00,  5.85it/s]\n"
     ]
    },
    {
     "name": "stdout",
     "output_type": "stream",
     "text": [
      "epoch: 5 MSE loss: 0.4811 MSE valid loss: 0.4075\n",
      "          MAE loss: 0.4929 MAE valid loss: 0.4577\n"
     ]
    },
    {
     "name": "stderr",
     "output_type": "stream",
     "text": [
      "100%|██████████████████████████████████████████████████████████████████████████████████| 92/92 [00:15<00:00,  5.84it/s]\n"
     ]
    },
    {
     "name": "stdout",
     "output_type": "stream",
     "text": [
      "epoch: 6 MSE loss: 0.4704 MSE valid loss: 0.4017\n",
      "          MAE loss: 0.4867 MAE valid loss: 0.4534\n"
     ]
    },
    {
     "name": "stderr",
     "output_type": "stream",
     "text": [
      "100%|██████████████████████████████████████████████████████████████████████████████████| 92/92 [00:15<00:00,  5.83it/s]\n"
     ]
    },
    {
     "name": "stdout",
     "output_type": "stream",
     "text": [
      "epoch: 7 MSE loss: 0.4614 MSE valid loss: 0.3969\n",
      "          MAE loss: 0.4814 MAE valid loss: 0.4501\n"
     ]
    },
    {
     "name": "stderr",
     "output_type": "stream",
     "text": [
      "100%|██████████████████████████████████████████████████████████████████████████████████| 92/92 [00:15<00:00,  5.84it/s]\n"
     ]
    },
    {
     "name": "stdout",
     "output_type": "stream",
     "text": [
      "epoch: 8 MSE loss: 0.4536 MSE valid loss: 0.3928\n",
      "          MAE loss: 0.4768 MAE valid loss: 0.4468\n"
     ]
    },
    {
     "name": "stderr",
     "output_type": "stream",
     "text": [
      "100%|██████████████████████████████████████████████████████████████████████████████████| 92/92 [00:15<00:00,  5.84it/s]\n"
     ]
    },
    {
     "name": "stdout",
     "output_type": "stream",
     "text": [
      "epoch: 9 MSE loss: 0.4469 MSE valid loss: 0.3895\n",
      "          MAE loss: 0.4727 MAE valid loss: 0.4442\n"
     ]
    },
    {
     "name": "stderr",
     "output_type": "stream",
     "text": [
      "100%|██████████████████████████████████████████████████████████████████████████████████| 92/92 [00:15<00:00,  5.84it/s]\n"
     ]
    },
    {
     "name": "stdout",
     "output_type": "stream",
     "text": [
      "epoch: 10 MSE loss: 0.4410 MSE valid loss: 0.3858\n",
      "          MAE loss: 0.4693 MAE valid loss: 0.4415\n"
     ]
    },
    {
     "name": "stderr",
     "output_type": "stream",
     "text": [
      "100%|██████████████████████████████████████████████████████████████████████████████████| 92/92 [00:15<00:00,  5.84it/s]\n"
     ]
    },
    {
     "name": "stdout",
     "output_type": "stream",
     "text": [
      "epoch: 11 MSE loss: 0.4353 MSE valid loss: 0.3827\n",
      "          MAE loss: 0.4656 MAE valid loss: 0.4391\n"
     ]
    },
    {
     "name": "stderr",
     "output_type": "stream",
     "text": [
      "100%|██████████████████████████████████████████████████████████████████████████████████| 92/92 [00:15<00:00,  5.84it/s]\n"
     ]
    },
    {
     "name": "stdout",
     "output_type": "stream",
     "text": [
      "epoch: 12 MSE loss: 0.4311 MSE valid loss: 0.3802\n",
      "          MAE loss: 0.4631 MAE valid loss: 0.4370\n"
     ]
    },
    {
     "name": "stderr",
     "output_type": "stream",
     "text": [
      "100%|██████████████████████████████████████████████████████████████████████████████████| 92/92 [00:15<00:00,  5.83it/s]\n"
     ]
    },
    {
     "name": "stdout",
     "output_type": "stream",
     "text": [
      "epoch: 13 MSE loss: 0.4266 MSE valid loss: 0.3778\n",
      "          MAE loss: 0.4604 MAE valid loss: 0.4351\n"
     ]
    },
    {
     "name": "stderr",
     "output_type": "stream",
     "text": [
      "100%|██████████████████████████████████████████████████████████████████████████████████| 92/92 [00:15<00:00,  5.83it/s]\n"
     ]
    },
    {
     "name": "stdout",
     "output_type": "stream",
     "text": [
      "epoch: 14 MSE loss: 0.4225 MSE valid loss: 0.3753\n",
      "          MAE loss: 0.4577 MAE valid loss: 0.4331\n"
     ]
    },
    {
     "name": "stderr",
     "output_type": "stream",
     "text": [
      "100%|██████████████████████████████████████████████████████████████████████████████████| 92/92 [00:15<00:00,  5.82it/s]\n"
     ]
    },
    {
     "name": "stdout",
     "output_type": "stream",
     "text": [
      "epoch: 15 MSE loss: 0.4191 MSE valid loss: 0.3738\n",
      "          MAE loss: 0.4556 MAE valid loss: 0.4317\n"
     ]
    },
    {
     "name": "stderr",
     "output_type": "stream",
     "text": [
      "100%|██████████████████████████████████████████████████████████████████████████████████| 92/92 [00:15<00:00,  5.83it/s]\n"
     ]
    },
    {
     "name": "stdout",
     "output_type": "stream",
     "text": [
      "epoch: 16 MSE loss: 0.4160 MSE valid loss: 0.3712\n",
      "          MAE loss: 0.4535 MAE valid loss: 0.4296\n"
     ]
    },
    {
     "name": "stderr",
     "output_type": "stream",
     "text": [
      "100%|██████████████████████████████████████████████████████████████████████████████████| 92/92 [00:15<00:00,  5.83it/s]\n"
     ]
    },
    {
     "name": "stdout",
     "output_type": "stream",
     "text": [
      "epoch: 17 MSE loss: 0.4131 MSE valid loss: 0.3692\n",
      "          MAE loss: 0.4518 MAE valid loss: 0.4278\n"
     ]
    },
    {
     "name": "stderr",
     "output_type": "stream",
     "text": [
      "100%|██████████████████████████████████████████████████████████████████████████████████| 92/92 [00:15<00:00,  5.82it/s]\n"
     ]
    },
    {
     "name": "stdout",
     "output_type": "stream",
     "text": [
      "epoch: 18 MSE loss: 0.4103 MSE valid loss: 0.3673\n",
      "          MAE loss: 0.4498 MAE valid loss: 0.4266\n"
     ]
    },
    {
     "name": "stderr",
     "output_type": "stream",
     "text": [
      "100%|██████████████████████████████████████████████████████████████████████████████████| 92/92 [00:15<00:00,  5.82it/s]\n"
     ]
    },
    {
     "name": "stdout",
     "output_type": "stream",
     "text": [
      "epoch: 19 MSE loss: 0.4079 MSE valid loss: 0.3657\n",
      "          MAE loss: 0.4485 MAE valid loss: 0.4253\n"
     ]
    },
    {
     "name": "stderr",
     "output_type": "stream",
     "text": [
      "100%|██████████████████████████████████████████████████████████████████████████████████| 92/92 [00:15<00:00,  5.81it/s]\n"
     ]
    },
    {
     "name": "stdout",
     "output_type": "stream",
     "text": [
      "epoch: 20 MSE loss: 0.4049 MSE valid loss: 0.3653\n",
      "          MAE loss: 0.4468 MAE valid loss: 0.4245\n"
     ]
    },
    {
     "name": "stderr",
     "output_type": "stream",
     "text": [
      "100%|██████████████████████████████████████████████████████████████████████████████████| 92/92 [00:15<00:00,  5.82it/s]\n"
     ]
    },
    {
     "name": "stdout",
     "output_type": "stream",
     "text": [
      "epoch: 21 MSE loss: 0.4029 MSE valid loss: 0.3635\n",
      "          MAE loss: 0.4455 MAE valid loss: 0.4232\n"
     ]
    },
    {
     "name": "stderr",
     "output_type": "stream",
     "text": [
      "100%|██████████████████████████████████████████████████████████████████████████████████| 92/92 [00:15<00:00,  5.82it/s]\n"
     ]
    },
    {
     "name": "stdout",
     "output_type": "stream",
     "text": [
      "epoch: 22 MSE loss: 0.4010 MSE valid loss: 0.3627\n",
      "          MAE loss: 0.4442 MAE valid loss: 0.4223\n"
     ]
    },
    {
     "name": "stderr",
     "output_type": "stream",
     "text": [
      "100%|██████████████████████████████████████████████████████████████████████████████████| 92/92 [00:15<00:00,  5.83it/s]\n"
     ]
    },
    {
     "name": "stdout",
     "output_type": "stream",
     "text": [
      "epoch: 23 MSE loss: 0.3989 MSE valid loss: 0.3607\n",
      "          MAE loss: 0.4429 MAE valid loss: 0.4210\n"
     ]
    },
    {
     "name": "stderr",
     "output_type": "stream",
     "text": [
      "100%|██████████████████████████████████████████████████████████████████████████████████| 92/92 [00:15<00:00,  5.83it/s]\n"
     ]
    },
    {
     "name": "stdout",
     "output_type": "stream",
     "text": [
      "epoch: 24 MSE loss: 0.3971 MSE valid loss: 0.3603\n",
      "          MAE loss: 0.4417 MAE valid loss: 0.4204\n"
     ]
    },
    {
     "name": "stderr",
     "output_type": "stream",
     "text": [
      "100%|██████████████████████████████████████████████████████████████████████████████████| 92/92 [00:15<00:00,  5.83it/s]\n"
     ]
    },
    {
     "name": "stdout",
     "output_type": "stream",
     "text": [
      "epoch: 25 MSE loss: 0.3954 MSE valid loss: 0.3592\n",
      "          MAE loss: 0.4407 MAE valid loss: 0.4193\n"
     ]
    },
    {
     "name": "stderr",
     "output_type": "stream",
     "text": [
      "100%|██████████████████████████████████████████████████████████████████████████████████| 92/92 [00:15<00:00,  5.83it/s]\n"
     ]
    },
    {
     "name": "stdout",
     "output_type": "stream",
     "text": [
      "epoch: 26 MSE loss: 0.3937 MSE valid loss: 0.3577\n",
      "          MAE loss: 0.4397 MAE valid loss: 0.4182\n"
     ]
    },
    {
     "name": "stderr",
     "output_type": "stream",
     "text": [
      "100%|██████████████████████████████████████████████████████████████████████████████████| 92/92 [00:15<00:00,  5.83it/s]\n"
     ]
    },
    {
     "name": "stdout",
     "output_type": "stream",
     "text": [
      "epoch: 27 MSE loss: 0.3920 MSE valid loss: 0.3571\n",
      "          MAE loss: 0.4386 MAE valid loss: 0.4173\n"
     ]
    },
    {
     "name": "stderr",
     "output_type": "stream",
     "text": [
      "100%|██████████████████████████████████████████████████████████████████████████████████| 92/92 [00:15<00:00,  5.82it/s]\n"
     ]
    },
    {
     "name": "stdout",
     "output_type": "stream",
     "text": [
      "epoch: 28 MSE loss: 0.3907 MSE valid loss: 0.3556\n",
      "          MAE loss: 0.4378 MAE valid loss: 0.4165\n"
     ]
    },
    {
     "name": "stderr",
     "output_type": "stream",
     "text": [
      "100%|██████████████████████████████████████████████████████████████████████████████████| 92/92 [00:15<00:00,  5.82it/s]\n"
     ]
    },
    {
     "name": "stdout",
     "output_type": "stream",
     "text": [
      "epoch: 29 MSE loss: 0.3893 MSE valid loss: 0.3556\n",
      "          MAE loss: 0.4369 MAE valid loss: 0.4161\n"
     ]
    },
    {
     "name": "stderr",
     "output_type": "stream",
     "text": [
      "100%|██████████████████████████████████████████████████████████████████████████████████| 92/92 [00:15<00:00,  5.82it/s]\n"
     ]
    },
    {
     "name": "stdout",
     "output_type": "stream",
     "text": [
      "epoch: 30 MSE loss: 0.3878 MSE valid loss: 0.3550\n",
      "          MAE loss: 0.4358 MAE valid loss: 0.4155\n"
     ]
    },
    {
     "name": "stderr",
     "output_type": "stream",
     "text": [
      "100%|██████████████████████████████████████████████████████████████████████████████████| 92/92 [00:15<00:00,  5.83it/s]\n"
     ]
    },
    {
     "name": "stdout",
     "output_type": "stream",
     "text": [
      "epoch: 31 MSE loss: 0.3866 MSE valid loss: 0.3545\n",
      "          MAE loss: 0.4353 MAE valid loss: 0.4151\n"
     ]
    },
    {
     "name": "stderr",
     "output_type": "stream",
     "text": [
      "100%|██████████████████████████████████████████████████████████████████████████████████| 92/92 [00:15<00:00,  5.83it/s]\n"
     ]
    },
    {
     "name": "stdout",
     "output_type": "stream",
     "text": [
      "epoch: 32 MSE loss: 0.3856 MSE valid loss: 0.3537\n",
      "          MAE loss: 0.4346 MAE valid loss: 0.4140\n"
     ]
    },
    {
     "name": "stderr",
     "output_type": "stream",
     "text": [
      "100%|██████████████████████████████████████████████████████████████████████████████████| 92/92 [00:15<00:00,  5.83it/s]\n"
     ]
    },
    {
     "name": "stdout",
     "output_type": "stream",
     "text": [
      "epoch: 33 MSE loss: 0.3844 MSE valid loss: 0.3532\n",
      "          MAE loss: 0.4338 MAE valid loss: 0.4134\n"
     ]
    },
    {
     "name": "stderr",
     "output_type": "stream",
     "text": [
      "100%|██████████████████████████████████████████████████████████████████████████████████| 92/92 [00:15<00:00,  5.82it/s]\n"
     ]
    },
    {
     "name": "stdout",
     "output_type": "stream",
     "text": [
      "epoch: 34 MSE loss: 0.3835 MSE valid loss: 0.3531\n",
      "          MAE loss: 0.4331 MAE valid loss: 0.4133\n"
     ]
    },
    {
     "name": "stderr",
     "output_type": "stream",
     "text": [
      "100%|██████████████████████████████████████████████████████████████████████████████████| 92/92 [00:15<00:00,  5.82it/s]\n"
     ]
    },
    {
     "name": "stdout",
     "output_type": "stream",
     "text": [
      "epoch: 35 MSE loss: 0.3826 MSE valid loss: 0.3518\n",
      "          MAE loss: 0.4326 MAE valid loss: 0.4125\n"
     ]
    },
    {
     "name": "stderr",
     "output_type": "stream",
     "text": [
      "100%|██████████████████████████████████████████████████████████████████████████████████| 92/92 [00:15<00:00,  5.82it/s]\n"
     ]
    },
    {
     "name": "stdout",
     "output_type": "stream",
     "text": [
      "epoch: 36 MSE loss: 0.3814 MSE valid loss: 0.3509\n",
      "          MAE loss: 0.4319 MAE valid loss: 0.4119\n"
     ]
    },
    {
     "name": "stderr",
     "output_type": "stream",
     "text": [
      "100%|██████████████████████████████████████████████████████████████████████████████████| 92/92 [00:15<00:00,  5.83it/s]\n"
     ]
    },
    {
     "name": "stdout",
     "output_type": "stream",
     "text": [
      "epoch: 37 MSE loss: 0.3805 MSE valid loss: 0.3503\n",
      "          MAE loss: 0.4313 MAE valid loss: 0.4114\n"
     ]
    },
    {
     "name": "stderr",
     "output_type": "stream",
     "text": [
      "100%|██████████████████████████████████████████████████████████████████████████████████| 92/92 [00:15<00:00,  5.83it/s]\n"
     ]
    },
    {
     "name": "stdout",
     "output_type": "stream",
     "text": [
      "epoch: 38 MSE loss: 0.3797 MSE valid loss: 0.3512\n",
      "          MAE loss: 0.4308 MAE valid loss: 0.4113\n"
     ]
    },
    {
     "name": "stderr",
     "output_type": "stream",
     "text": [
      "100%|██████████████████████████████████████████████████████████████████████████████████| 92/92 [00:15<00:00,  5.82it/s]\n"
     ]
    },
    {
     "name": "stdout",
     "output_type": "stream",
     "text": [
      "epoch: 39 MSE loss: 0.3787 MSE valid loss: 0.3494\n",
      "          MAE loss: 0.4299 MAE valid loss: 0.4103\n"
     ]
    },
    {
     "name": "stderr",
     "output_type": "stream",
     "text": [
      "100%|██████████████████████████████████████████████████████████████████████████████████| 92/92 [00:15<00:00,  5.83it/s]\n"
     ]
    },
    {
     "name": "stdout",
     "output_type": "stream",
     "text": [
      "epoch: 40 MSE loss: 0.3781 MSE valid loss: 0.3500\n",
      "          MAE loss: 0.4297 MAE valid loss: 0.4103\n"
     ]
    },
    {
     "name": "stderr",
     "output_type": "stream",
     "text": [
      "100%|██████████████████████████████████████████████████████████████████████████████████| 92/92 [00:15<00:00,  5.83it/s]\n"
     ]
    },
    {
     "name": "stdout",
     "output_type": "stream",
     "text": [
      "epoch: 41 MSE loss: 0.3773 MSE valid loss: 0.3494\n",
      "          MAE loss: 0.4290 MAE valid loss: 0.4100\n"
     ]
    },
    {
     "name": "stderr",
     "output_type": "stream",
     "text": [
      "100%|██████████████████████████████████████████████████████████████████████████████████| 92/92 [00:15<00:00,  5.81it/s]\n"
     ]
    },
    {
     "name": "stdout",
     "output_type": "stream",
     "text": [
      "epoch: 42 MSE loss: 0.3766 MSE valid loss: 0.3488\n",
      "          MAE loss: 0.4284 MAE valid loss: 0.4094\n"
     ]
    },
    {
     "name": "stderr",
     "output_type": "stream",
     "text": [
      "100%|██████████████████████████████████████████████████████████████████████████████████| 92/92 [00:15<00:00,  5.81it/s]\n"
     ]
    },
    {
     "name": "stdout",
     "output_type": "stream",
     "text": [
      "epoch: 43 MSE loss: 0.3756 MSE valid loss: 0.3485\n",
      "          MAE loss: 0.4283 MAE valid loss: 0.4090\n"
     ]
    },
    {
     "name": "stderr",
     "output_type": "stream",
     "text": [
      "100%|██████████████████████████████████████████████████████████████████████████████████| 92/92 [00:15<00:00,  5.82it/s]\n"
     ]
    },
    {
     "name": "stdout",
     "output_type": "stream",
     "text": [
      "epoch: 44 MSE loss: 0.3746 MSE valid loss: 0.3481\n",
      "          MAE loss: 0.4274 MAE valid loss: 0.4086\n"
     ]
    },
    {
     "name": "stderr",
     "output_type": "stream",
     "text": [
      "100%|██████████████████████████████████████████████████████████████████████████████████| 92/92 [00:15<00:00,  5.83it/s]\n"
     ]
    },
    {
     "name": "stdout",
     "output_type": "stream",
     "text": [
      "epoch: 45 MSE loss: 0.3738 MSE valid loss: 0.3474\n",
      "          MAE loss: 0.4270 MAE valid loss: 0.4081\n"
     ]
    },
    {
     "name": "stderr",
     "output_type": "stream",
     "text": [
      "100%|██████████████████████████████████████████████████████████████████████████████████| 92/92 [00:15<00:00,  5.83it/s]\n"
     ]
    },
    {
     "name": "stdout",
     "output_type": "stream",
     "text": [
      "epoch: 46 MSE loss: 0.3732 MSE valid loss: 0.3476\n",
      "          MAE loss: 0.4265 MAE valid loss: 0.4080\n"
     ]
    },
    {
     "name": "stderr",
     "output_type": "stream",
     "text": [
      "100%|██████████████████████████████████████████████████████████████████████████████████| 92/92 [00:15<00:00,  5.83it/s]\n"
     ]
    },
    {
     "name": "stdout",
     "output_type": "stream",
     "text": [
      "epoch: 47 MSE loss: 0.3727 MSE valid loss: 0.3473\n",
      "          MAE loss: 0.4262 MAE valid loss: 0.4077\n"
     ]
    },
    {
     "name": "stderr",
     "output_type": "stream",
     "text": [
      "100%|██████████████████████████████████████████████████████████████████████████████████| 92/92 [00:15<00:00,  5.82it/s]\n"
     ]
    },
    {
     "name": "stdout",
     "output_type": "stream",
     "text": [
      "epoch: 48 MSE loss: 0.3721 MSE valid loss: 0.3465\n",
      "          MAE loss: 0.4257 MAE valid loss: 0.4071\n"
     ]
    },
    {
     "name": "stderr",
     "output_type": "stream",
     "text": [
      "100%|██████████████████████████████████████████████████████████████████████████████████| 92/92 [00:15<00:00,  5.82it/s]\n"
     ]
    },
    {
     "name": "stdout",
     "output_type": "stream",
     "text": [
      "epoch: 49 MSE loss: 0.3716 MSE valid loss: 0.3469\n",
      "          MAE loss: 0.4252 MAE valid loss: 0.4070\n"
     ]
    },
    {
     "name": "stderr",
     "output_type": "stream",
     "text": [
      "100%|██████████████████████████████████████████████████████████████████████████████████| 92/92 [00:15<00:00,  5.81it/s]\n"
     ]
    },
    {
     "name": "stdout",
     "output_type": "stream",
     "text": [
      "epoch: 50 MSE loss: 0.3706 MSE valid loss: 0.3464\n",
      "          MAE loss: 0.4249 MAE valid loss: 0.4068\n"
     ]
    },
    {
     "name": "stderr",
     "output_type": "stream",
     "text": [
      "100%|██████████████████████████████████████████████████████████████████████████████████| 92/92 [00:15<00:00,  5.81it/s]\n"
     ]
    },
    {
     "name": "stdout",
     "output_type": "stream",
     "text": [
      "epoch: 51 MSE loss: 0.3702 MSE valid loss: 0.3461\n",
      "          MAE loss: 0.4244 MAE valid loss: 0.4063\n"
     ]
    },
    {
     "name": "stderr",
     "output_type": "stream",
     "text": [
      "100%|██████████████████████████████████████████████████████████████████████████████████| 92/92 [00:15<00:00,  5.81it/s]\n"
     ]
    },
    {
     "name": "stdout",
     "output_type": "stream",
     "text": [
      "epoch: 52 MSE loss: 0.3694 MSE valid loss: 0.3459\n",
      "          MAE loss: 0.4244 MAE valid loss: 0.4062\n"
     ]
    },
    {
     "name": "stderr",
     "output_type": "stream",
     "text": [
      " 24%|███████████████████▌                                                              | 22/92 [00:03<00:12,  5.56it/s]\n"
     ]
    },
    {
     "ename": "KeyboardInterrupt",
     "evalue": "",
     "output_type": "error",
     "traceback": [
      "\u001b[1;31m---------------------------------------------------------------------------\u001b[0m",
      "\u001b[1;31mKeyboardInterrupt\u001b[0m                         Traceback (most recent call last)",
      "Cell \u001b[1;32mIn[15], line 1\u001b[0m\n\u001b[1;32m----> 1\u001b[0m \u001b[43mx\u001b[49m\u001b[38;5;241;43m.\u001b[39;49m\u001b[43mmodel_execute\u001b[49m\u001b[43m(\u001b[49m\u001b[43m)\u001b[49m\n",
      "Cell \u001b[1;32mIn[13], line 61\u001b[0m, in \u001b[0;36mmodel_run.model_execute\u001b[1;34m(self)\u001b[0m\n\u001b[0;32m     59\u001b[0m loss_t\u001b[38;5;241m.\u001b[39mbackward()\n\u001b[0;32m     60\u001b[0m \u001b[38;5;28mself\u001b[39m\u001b[38;5;241m.\u001b[39moptimizer\u001b[38;5;241m.\u001b[39mstep()\n\u001b[1;32m---> 61\u001b[0m total_loss \u001b[38;5;241m+\u001b[39m\u001b[38;5;241m=\u001b[39m loss_t\u001b[38;5;241m.\u001b[39mitem()\n\u001b[0;32m     62\u001b[0m total_train_mae_loss \u001b[38;5;241m+\u001b[39m\u001b[38;5;241m=\u001b[39m train_mae_loss\u001b[38;5;241m.\u001b[39mitem()\n\u001b[0;32m     63\u001b[0m iter_count \u001b[38;5;241m+\u001b[39m\u001b[38;5;241m=\u001b[39m \u001b[38;5;241m1\u001b[39m\n",
      "\u001b[1;31mKeyboardInterrupt\u001b[0m: "
     ]
    }
   ],
   "source": [
    "x.model_execute()"
   ]
  },
  {
   "cell_type": "code",
   "execution_count": 16,
   "id": "24989d45",
   "metadata": {},
   "outputs": [
    {
     "data": {
      "image/png": "[encoded data removed]",
      "text/plain": [
       "<Figure size 640x480 with 1 Axes>"
      ]
     },
     "metadata": {},
     "output_type": "display_data"
    },
    {
     "name": "stdout",
     "output_type": "stream",
     "text": [
      "MSE test loss:  0.4198806680217891\n"
     ]
    }
   ],
   "source": [
    "x.test_plots(df_columns=df.columns[1:],scaler=scaler,column='HULL')"
   ]
  },
  {
   "cell_type": "code",
   "execution_count": 320,
   "id": "c137bc01",
   "metadata": {},
   "outputs": [
    {
     "data": {
      "text/plain": [
       "'\\ndat=torch.from_numpy(train_dataset[0][0])\\ndat=dat.unsqueeze(dim=0)\\ndat.shape\\nmodel(dat).shape\\n'"
      ]
     },
     "execution_count": 320,
     "metadata": {},
     "output_type": "execute_result"
    }
   ],
   "source": [
    "'''\n",
    "dat=torch.from_numpy(train_dataset[0][0])\n",
    "dat=dat.unsqueeze(dim=0)\n",
    "dat.shape\n",
    "model(dat).shape\n",
    "'''"
   ]
  },
  {
   "cell_type": "code",
   "execution_count": null,
   "id": "1bfe07c7",
   "metadata": {},
   "outputs": [],
   "source": []
  }
 ],
 "metadata": {
  "accelerator": "GPU",
  "colab": {
   "gpuType": "V100",
   "machine_shape": "hm",
   "provenance": []
  },
  "kernelspec": {
   "display_name": "gpu1",
   "language": "python",
   "name": "gpu1"
  },
  "language_info": {
   "codemirror_mode": {
    "name": "ipython",
    "version": 3
   },
   "file_extension": ".py",
   "mimetype": "text/x-python",
   "name": "python",
   "nbconvert_exporter": "python",
   "pygments_lexer": "ipython3",
   "version": "3.9.18"
  }
 },
 "nbformat": 4,
 "nbformat_minor": 5
}
