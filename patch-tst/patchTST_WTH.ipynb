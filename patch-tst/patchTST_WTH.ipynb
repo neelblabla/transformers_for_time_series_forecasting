{
 "cells": [
  {
   "cell_type": "markdown",
   "id": "f5fc39de",
   "metadata": {},
   "source": [
    "### Multivariate Time Series Forecasting by application of PatchTST (Transformer) on WTH Dataset\n",
    "-Lookback window = 336\n",
    "\n",
    "-Forecast window = 96"
   ]
  },
  {
   "cell_type": "code",
   "execution_count": 209,
   "id": "ed103c66",
   "metadata": {
    "colab": {
     "base_uri": "https://localhost:8080/"
    },
    "id": "ed103c66",
    "outputId": "6d983b40-6a98-48fd-c1ef-875839b80915"
   },
   "outputs": [
    {
     "name": "stdout",
     "output_type": "stream",
     "text": [
      "2.0.1+cu118\n"
     ]
    }
   ],
   "source": [
    "import torch\n",
    "from torch.utils.data import Dataset\n",
    "\n",
    "import seaborn as sns\n",
    "import matplotlib.pyplot as plt\n",
    "import numpy as np\n",
    "import pandas as pd\n",
    "# !pip install wandb\n",
    "import wandb\n",
    "import random\n",
    "from tqdm import tqdm\n",
    "\n",
    "from sklearn.preprocessing import StandardScaler\n",
    "print(torch.__version__)"
   ]
  },
  {
   "cell_type": "code",
   "execution_count": 210,
   "id": "3855ec0c",
   "metadata": {
    "colab": {
     "base_uri": "https://localhost:8080/",
     "height": 471
    },
    "id": "3855ec0c",
    "outputId": "caf23e54-39a1-4de5-8a08-40a6b7c38400"
   },
   "outputs": [
    {
     "data": {
      "text/html": [
       "Finishing last run (ID:6fm8pdr3) before initializing another..."
      ],
      "text/plain": [
       "<IPython.core.display.HTML object>"
      ]
     },
     "metadata": {},
     "output_type": "display_data"
    },
    {
     "data": {
      "text/html": [
       "Waiting for W&B process to finish... <strong style=\"color:green\">(success).</strong>"
      ],
      "text/plain": [
       "<IPython.core.display.HTML object>"
      ]
     },
     "metadata": {},
     "output_type": "display_data"
    },
    {
     "data": {
      "text/html": [
       " View run <strong style=\"color:#cdcd00\">decent-field-69</strong> at: <a href='https://wandb.ai/kirteshpatel98/transformer_timeseries/runs/6fm8pdr3' target=\"_blank\">https://wandb.ai/kirteshpatel98/transformer_timeseries/runs/6fm8pdr3</a><br/>Synced 6 W&B file(s), 0 media file(s), 0 artifact file(s) and 0 other file(s)"
      ],
      "text/plain": [
       "<IPython.core.display.HTML object>"
      ]
     },
     "metadata": {},
     "output_type": "display_data"
    },
    {
     "data": {
      "text/html": [
       "Find logs at: <code>.\\wandb\\run-20231103_132403-6fm8pdr3\\logs</code>"
      ],
      "text/plain": [
       "<IPython.core.display.HTML object>"
      ]
     },
     "metadata": {},
     "output_type": "display_data"
    },
    {
     "data": {
      "text/html": [
       "Successfully finished last run (ID:6fm8pdr3). Initializing new run:<br/>"
      ],
      "text/plain": [
       "<IPython.core.display.HTML object>"
      ]
     },
     "metadata": {},
     "output_type": "display_data"
    },
    {
     "data": {
      "application/vnd.jupyter.widget-view+json": {
       "model_id": "ad3adbc342b4413eae65a14dca105401",
       "version_major": 2,
       "version_minor": 0
      },
      "text/plain": [
       "VBox(children=(Label(value='Waiting for wandb.init()...\\r'), FloatProgress(value=0.011111111111111112, max=1.0…"
      ]
     },
     "metadata": {},
     "output_type": "display_data"
    },
    {
     "data": {
      "text/html": [
       "Tracking run with wandb version 0.15.12"
      ],
      "text/plain": [
       "<IPython.core.display.HTML object>"
      ]
     },
     "metadata": {},
     "output_type": "display_data"
    },
    {
     "data": {
      "text/html": [
       "Run data is saved locally in <code>C:\\Users\\hp\\OneDrive - fs-students.de\\FS\\Sem 3\\Deep Learning\\transformers_for_time_series_forecasting\\patch-tst\\wandb\\run-20231103_132702-pnfd65sm</code>"
      ],
      "text/plain": [
       "<IPython.core.display.HTML object>"
      ]
     },
     "metadata": {},
     "output_type": "display_data"
    },
    {
     "data": {
      "text/html": [
       "Syncing run <strong><a href='https://wandb.ai/kirteshpatel98/transformer_timeseries/runs/pnfd65sm' target=\"_blank\">vocal-breeze-70</a></strong> to <a href='https://wandb.ai/kirteshpatel98/transformer_timeseries' target=\"_blank\">Weights & Biases</a> (<a href='https://wandb.me/run' target=\"_blank\">docs</a>)<br/>"
      ],
      "text/plain": [
       "<IPython.core.display.HTML object>"
      ]
     },
     "metadata": {},
     "output_type": "display_data"
    },
    {
     "data": {
      "text/html": [
       " View project at <a href='https://wandb.ai/kirteshpatel98/transformer_timeseries' target=\"_blank\">https://wandb.ai/kirteshpatel98/transformer_timeseries</a>"
      ],
      "text/plain": [
       "<IPython.core.display.HTML object>"
      ]
     },
     "metadata": {},
     "output_type": "display_data"
    },
    {
     "data": {
      "text/html": [
       " View run at <a href='https://wandb.ai/kirteshpatel98/transformer_timeseries/runs/pnfd65sm' target=\"_blank\">https://wandb.ai/kirteshpatel98/transformer_timeseries/runs/pnfd65sm</a>"
      ],
      "text/plain": [
       "<IPython.core.display.HTML object>"
      ]
     },
     "metadata": {},
     "output_type": "display_data"
    },
    {
     "data": {
      "text/html": [
       "<button onClick=\"this.nextSibling.style.display='block';this.style.display='none';\">Display W&B run</button><iframe src='https://wandb.ai/kirteshpatel98/transformer_timeseries/runs/pnfd65sm?jupyter=true' style='border:none;width:100%;height:420px;display:none;'></iframe>"
      ],
      "text/plain": [
       "<wandb.sdk.wandb_run.Run at 0x176f8735d90>"
      ]
     },
     "execution_count": 210,
     "metadata": {},
     "output_type": "execute_result"
    }
   ],
   "source": [
    "\n",
    "# start a new wandb run to track this script\n",
    "wandb.init(\n",
    "    # set the wandb project where this run will be logged\n",
    "    project=\"transformer_timeseries\",\n",
    ")\n"
   ]
  },
  {
   "cell_type": "code",
   "execution_count": 211,
   "id": "5522d111",
   "metadata": {
    "colab": {
     "base_uri": "https://localhost:8080/",
     "height": 634
    },
    "id": "5522d111",
    "outputId": "e7970d24-0ff5-4827-aa0c-b9fb80ce9051"
   },
   "outputs": [
    {
     "data": {
      "text/plain": [
       "\"\\nfrom google.colab import drive\\ndrive.mount('/content/drive')\\n\\nimport os\\nos.chdir('/content/drive/My Drive/')\\n\\n\\ndf=pd.read_csv('WTH.csv')\\n# df.drop('Unnamed: 0',axis=1,inplace=True)\\ndf\\n\""
      ]
     },
     "execution_count": 211,
     "metadata": {},
     "output_type": "execute_result"
    }
   ],
   "source": [
    "'''\n",
    "from google.colab import drive\n",
    "drive.mount('/content/drive')\n",
    "\n",
    "import os\n",
    "os.chdir('/content/drive/My Drive/')\n",
    "\n",
    "\n",
    "df=pd.read_csv('WTH.csv')\n",
    "# df.drop('Unnamed: 0',axis=1,inplace=True)\n",
    "df\n",
    "'''"
   ]
  },
  {
   "cell_type": "code",
   "execution_count": 212,
   "id": "bffcb3d9",
   "metadata": {
    "colab": {
     "base_uri": "https://localhost:8080/",
     "height": 36
    },
    "id": "bffcb3d9",
    "outputId": "0583a406-d5e9-4687-baf9-6e00500e03d9"
   },
   "outputs": [
    {
     "data": {
      "text/html": [
       "<div>\n",
       "<style scoped>\n",
       "    .dataframe tbody tr th:only-of-type {\n",
       "        vertical-align: middle;\n",
       "    }\n",
       "\n",
       "    .dataframe tbody tr th {\n",
       "        vertical-align: top;\n",
       "    }\n",
       "\n",
       "    .dataframe thead th {\n",
       "        text-align: right;\n",
       "    }\n",
       "</style>\n",
       "<table border=\"1\" class=\"dataframe\">\n",
       "  <thead>\n",
       "    <tr style=\"text-align: right;\">\n",
       "      <th></th>\n",
       "      <th>Visibility</th>\n",
       "      <th>DryBulbFarenheit</th>\n",
       "      <th>DryBulbCelsius</th>\n",
       "      <th>WetBulbFarenheit</th>\n",
       "      <th>DewPointFarenheit</th>\n",
       "      <th>DewPointCelsius</th>\n",
       "      <th>RelativeHumidity</th>\n",
       "      <th>WindSpeed</th>\n",
       "      <th>WindDirection</th>\n",
       "      <th>StationPressure</th>\n",
       "      <th>Altimeter</th>\n",
       "      <th>WetBulbCelsius</th>\n",
       "    </tr>\n",
       "  </thead>\n",
       "  <tbody>\n",
       "    <tr>\n",
       "      <th>0</th>\n",
       "      <td>10.0</td>\n",
       "      <td>16</td>\n",
       "      <td>-9</td>\n",
       "      <td>13</td>\n",
       "      <td>7</td>\n",
       "      <td>-14</td>\n",
       "      <td>67</td>\n",
       "      <td>7</td>\n",
       "      <td>130</td>\n",
       "      <td>21.650000</td>\n",
       "      <td>30.35</td>\n",
       "      <td>-10.3</td>\n",
       "    </tr>\n",
       "    <tr>\n",
       "      <th>1</th>\n",
       "      <td>10.0</td>\n",
       "      <td>16</td>\n",
       "      <td>-9</td>\n",
       "      <td>13</td>\n",
       "      <td>7</td>\n",
       "      <td>-14</td>\n",
       "      <td>67</td>\n",
       "      <td>5</td>\n",
       "      <td>150</td>\n",
       "      <td>21.640000</td>\n",
       "      <td>30.34</td>\n",
       "      <td>-10.3</td>\n",
       "    </tr>\n",
       "    <tr>\n",
       "      <th>2</th>\n",
       "      <td>10.0</td>\n",
       "      <td>16</td>\n",
       "      <td>-9</td>\n",
       "      <td>13</td>\n",
       "      <td>7</td>\n",
       "      <td>-14</td>\n",
       "      <td>67</td>\n",
       "      <td>5</td>\n",
       "      <td>190</td>\n",
       "      <td>21.650000</td>\n",
       "      <td>30.35</td>\n",
       "      <td>-10.3</td>\n",
       "    </tr>\n",
       "    <tr>\n",
       "      <th>3</th>\n",
       "      <td>10.0</td>\n",
       "      <td>16</td>\n",
       "      <td>-9</td>\n",
       "      <td>13</td>\n",
       "      <td>7</td>\n",
       "      <td>-14</td>\n",
       "      <td>67</td>\n",
       "      <td>7</td>\n",
       "      <td>180</td>\n",
       "      <td>21.650000</td>\n",
       "      <td>30.35</td>\n",
       "      <td>-10.3</td>\n",
       "    </tr>\n",
       "    <tr>\n",
       "      <th>4</th>\n",
       "      <td>10.0</td>\n",
       "      <td>16</td>\n",
       "      <td>-9</td>\n",
       "      <td>14</td>\n",
       "      <td>9</td>\n",
       "      <td>-13</td>\n",
       "      <td>74</td>\n",
       "      <td>6</td>\n",
       "      <td>120</td>\n",
       "      <td>21.640000</td>\n",
       "      <td>30.34</td>\n",
       "      <td>-10.0</td>\n",
       "    </tr>\n",
       "    <tr>\n",
       "      <th>...</th>\n",
       "      <td>...</td>\n",
       "      <td>...</td>\n",
       "      <td>...</td>\n",
       "      <td>...</td>\n",
       "      <td>...</td>\n",
       "      <td>...</td>\n",
       "      <td>...</td>\n",
       "      <td>...</td>\n",
       "      <td>...</td>\n",
       "      <td>...</td>\n",
       "      <td>...</td>\n",
       "      <td>...</td>\n",
       "    </tr>\n",
       "    <tr>\n",
       "      <th>35059</th>\n",
       "      <td>10.0</td>\n",
       "      <td>32</td>\n",
       "      <td>0</td>\n",
       "      <td>0</td>\n",
       "      <td>23</td>\n",
       "      <td>-5</td>\n",
       "      <td>0</td>\n",
       "      <td>0</td>\n",
       "      <td>0</td>\n",
       "      <td>21.478686</td>\n",
       "      <td>30.21</td>\n",
       "      <td>0.0</td>\n",
       "    </tr>\n",
       "    <tr>\n",
       "      <th>35060</th>\n",
       "      <td>7.0</td>\n",
       "      <td>30</td>\n",
       "      <td>-1</td>\n",
       "      <td>0</td>\n",
       "      <td>25</td>\n",
       "      <td>-4</td>\n",
       "      <td>0</td>\n",
       "      <td>5</td>\n",
       "      <td>110</td>\n",
       "      <td>21.478686</td>\n",
       "      <td>30.21</td>\n",
       "      <td>0.0</td>\n",
       "    </tr>\n",
       "    <tr>\n",
       "      <th>35061</th>\n",
       "      <td>5.0</td>\n",
       "      <td>30</td>\n",
       "      <td>-1</td>\n",
       "      <td>0</td>\n",
       "      <td>28</td>\n",
       "      <td>-2</td>\n",
       "      <td>0</td>\n",
       "      <td>0</td>\n",
       "      <td>0</td>\n",
       "      <td>21.478686</td>\n",
       "      <td>30.20</td>\n",
       "      <td>0.0</td>\n",
       "    </tr>\n",
       "    <tr>\n",
       "      <th>35062</th>\n",
       "      <td>10.0</td>\n",
       "      <td>30</td>\n",
       "      <td>-1</td>\n",
       "      <td>0</td>\n",
       "      <td>28</td>\n",
       "      <td>-2</td>\n",
       "      <td>0</td>\n",
       "      <td>5</td>\n",
       "      <td>140</td>\n",
       "      <td>21.478686</td>\n",
       "      <td>30.18</td>\n",
       "      <td>0.0</td>\n",
       "    </tr>\n",
       "    <tr>\n",
       "      <th>35063</th>\n",
       "      <td>10.0</td>\n",
       "      <td>30</td>\n",
       "      <td>-1</td>\n",
       "      <td>29</td>\n",
       "      <td>28</td>\n",
       "      <td>-2</td>\n",
       "      <td>92</td>\n",
       "      <td>5</td>\n",
       "      <td>110</td>\n",
       "      <td>21.520000</td>\n",
       "      <td>30.18</td>\n",
       "      <td>-1.5</td>\n",
       "    </tr>\n",
       "  </tbody>\n",
       "</table>\n",
       "<p>35064 rows × 12 columns</p>\n",
       "</div>"
      ],
      "text/plain": [
       "       Visibility  DryBulbFarenheit  DryBulbCelsius  WetBulbFarenheit  \\\n",
       "0            10.0                16              -9                13   \n",
       "1            10.0                16              -9                13   \n",
       "2            10.0                16              -9                13   \n",
       "3            10.0                16              -9                13   \n",
       "4            10.0                16              -9                14   \n",
       "...           ...               ...             ...               ...   \n",
       "35059        10.0                32               0                 0   \n",
       "35060         7.0                30              -1                 0   \n",
       "35061         5.0                30              -1                 0   \n",
       "35062        10.0                30              -1                 0   \n",
       "35063        10.0                30              -1                29   \n",
       "\n",
       "       DewPointFarenheit  DewPointCelsius  RelativeHumidity  WindSpeed  \\\n",
       "0                      7              -14                67          7   \n",
       "1                      7              -14                67          5   \n",
       "2                      7              -14                67          5   \n",
       "3                      7              -14                67          7   \n",
       "4                      9              -13                74          6   \n",
       "...                  ...              ...               ...        ...   \n",
       "35059                 23               -5                 0          0   \n",
       "35060                 25               -4                 0          5   \n",
       "35061                 28               -2                 0          0   \n",
       "35062                 28               -2                 0          5   \n",
       "35063                 28               -2                92          5   \n",
       "\n",
       "       WindDirection  StationPressure  Altimeter  WetBulbCelsius  \n",
       "0                130        21.650000      30.35           -10.3  \n",
       "1                150        21.640000      30.34           -10.3  \n",
       "2                190        21.650000      30.35           -10.3  \n",
       "3                180        21.650000      30.35           -10.3  \n",
       "4                120        21.640000      30.34           -10.0  \n",
       "...              ...              ...        ...             ...  \n",
       "35059              0        21.478686      30.21             0.0  \n",
       "35060            110        21.478686      30.21             0.0  \n",
       "35061              0        21.478686      30.20             0.0  \n",
       "35062            140        21.478686      30.18             0.0  \n",
       "35063            110        21.520000      30.18            -1.5  \n",
       "\n",
       "[35064 rows x 12 columns]"
      ]
     },
     "execution_count": 212,
     "metadata": {},
     "output_type": "execute_result"
    }
   ],
   "source": [
    "df=pd.read_csv('WTH.csv',index_col=None)\n",
    "# df.drop('Unnamed: 0',axis=1,inplace=True)\n",
    "df.iloc[:,1:]"
   ]
  },
  {
   "cell_type": "code",
   "execution_count": 213,
   "id": "273ef681",
   "metadata": {},
   "outputs": [
    {
     "data": {
      "text/html": [
       "<div>\n",
       "<style scoped>\n",
       "    .dataframe tbody tr th:only-of-type {\n",
       "        vertical-align: middle;\n",
       "    }\n",
       "\n",
       "    .dataframe tbody tr th {\n",
       "        vertical-align: top;\n",
       "    }\n",
       "\n",
       "    .dataframe thead th {\n",
       "        text-align: right;\n",
       "    }\n",
       "</style>\n",
       "<table border=\"1\" class=\"dataframe\">\n",
       "  <thead>\n",
       "    <tr style=\"text-align: right;\">\n",
       "      <th></th>\n",
       "      <th>date</th>\n",
       "      <th>Visibility</th>\n",
       "      <th>DryBulbFarenheit</th>\n",
       "      <th>DryBulbCelsius</th>\n",
       "      <th>WetBulbFarenheit</th>\n",
       "      <th>DewPointFarenheit</th>\n",
       "      <th>DewPointCelsius</th>\n",
       "      <th>RelativeHumidity</th>\n",
       "      <th>WindSpeed</th>\n",
       "      <th>WindDirection</th>\n",
       "      <th>StationPressure</th>\n",
       "      <th>Altimeter</th>\n",
       "      <th>WetBulbCelsius</th>\n",
       "    </tr>\n",
       "  </thead>\n",
       "  <tbody>\n",
       "    <tr>\n",
       "      <th>0</th>\n",
       "      <td>1/1/2010 0:00</td>\n",
       "      <td>0.301781</td>\n",
       "      <td>-1.580651</td>\n",
       "      <td>-1.605506</td>\n",
       "      <td>-1.632744</td>\n",
       "      <td>-1.014166</td>\n",
       "      <td>-1.035522</td>\n",
       "      <td>0.682362</td>\n",
       "      <td>0.278284</td>\n",
       "      <td>-0.025625</td>\n",
       "      <td>0.681993</td>\n",
       "      <td>0.652382</td>\n",
       "      <td>-1.641876</td>\n",
       "    </tr>\n",
       "    <tr>\n",
       "      <th>1</th>\n",
       "      <td>1/1/2010 1:00</td>\n",
       "      <td>0.301781</td>\n",
       "      <td>-1.580651</td>\n",
       "      <td>-1.605506</td>\n",
       "      <td>-1.632744</td>\n",
       "      <td>-1.014166</td>\n",
       "      <td>-1.035522</td>\n",
       "      <td>0.682362</td>\n",
       "      <td>-0.134472</td>\n",
       "      <td>0.170172</td>\n",
       "      <td>0.624802</td>\n",
       "      <td>0.608931</td>\n",
       "      <td>-1.641876</td>\n",
       "    </tr>\n",
       "    <tr>\n",
       "      <th>2</th>\n",
       "      <td>1/1/2010 2:00</td>\n",
       "      <td>0.301781</td>\n",
       "      <td>-1.580651</td>\n",
       "      <td>-1.605506</td>\n",
       "      <td>-1.632744</td>\n",
       "      <td>-1.014166</td>\n",
       "      <td>-1.035522</td>\n",
       "      <td>0.682362</td>\n",
       "      <td>-0.134472</td>\n",
       "      <td>0.561768</td>\n",
       "      <td>0.681993</td>\n",
       "      <td>0.652382</td>\n",
       "      <td>-1.641876</td>\n",
       "    </tr>\n",
       "    <tr>\n",
       "      <th>3</th>\n",
       "      <td>1/1/2010 3:00</td>\n",
       "      <td>0.301781</td>\n",
       "      <td>-1.580651</td>\n",
       "      <td>-1.605506</td>\n",
       "      <td>-1.632744</td>\n",
       "      <td>-1.014166</td>\n",
       "      <td>-1.035522</td>\n",
       "      <td>0.682362</td>\n",
       "      <td>0.278284</td>\n",
       "      <td>0.463869</td>\n",
       "      <td>0.681993</td>\n",
       "      <td>0.652382</td>\n",
       "      <td>-1.641876</td>\n",
       "    </tr>\n",
       "    <tr>\n",
       "      <th>4</th>\n",
       "      <td>1/1/2010 4:00</td>\n",
       "      <td>0.301781</td>\n",
       "      <td>-1.580651</td>\n",
       "      <td>-1.605506</td>\n",
       "      <td>-1.553935</td>\n",
       "      <td>-0.876306</td>\n",
       "      <td>-0.911101</td>\n",
       "      <td>0.960769</td>\n",
       "      <td>0.071906</td>\n",
       "      <td>-0.123524</td>\n",
       "      <td>0.624802</td>\n",
       "      <td>0.608931</td>\n",
       "      <td>-1.598387</td>\n",
       "    </tr>\n",
       "    <tr>\n",
       "      <th>...</th>\n",
       "      <td>...</td>\n",
       "      <td>...</td>\n",
       "      <td>...</td>\n",
       "      <td>...</td>\n",
       "      <td>...</td>\n",
       "      <td>...</td>\n",
       "      <td>...</td>\n",
       "      <td>...</td>\n",
       "      <td>...</td>\n",
       "      <td>...</td>\n",
       "      <td>...</td>\n",
       "      <td>...</td>\n",
       "      <td>...</td>\n",
       "    </tr>\n",
       "    <tr>\n",
       "      <th>35059</th>\n",
       "      <td>12/31/2013 19:00</td>\n",
       "      <td>0.301781</td>\n",
       "      <td>-0.643255</td>\n",
       "      <td>-0.650163</td>\n",
       "      <td>-2.657250</td>\n",
       "      <td>0.088708</td>\n",
       "      <td>0.084264</td>\n",
       "      <td>-1.982391</td>\n",
       "      <td>-1.166361</td>\n",
       "      <td>-1.298311</td>\n",
       "      <td>-0.297782</td>\n",
       "      <td>0.044066</td>\n",
       "      <td>-0.148745</td>\n",
       "    </tr>\n",
       "    <tr>\n",
       "      <th>35060</th>\n",
       "      <td>12/31/2013 20:00</td>\n",
       "      <td>-1.172466</td>\n",
       "      <td>-0.760429</td>\n",
       "      <td>-0.756313</td>\n",
       "      <td>-2.657250</td>\n",
       "      <td>0.226567</td>\n",
       "      <td>0.208684</td>\n",
       "      <td>-1.982391</td>\n",
       "      <td>-0.134472</td>\n",
       "      <td>-0.221423</td>\n",
       "      <td>-0.297782</td>\n",
       "      <td>0.044066</td>\n",
       "      <td>-0.148745</td>\n",
       "    </tr>\n",
       "    <tr>\n",
       "      <th>35061</th>\n",
       "      <td>12/31/2013 21:00</td>\n",
       "      <td>-2.155297</td>\n",
       "      <td>-0.760429</td>\n",
       "      <td>-0.756313</td>\n",
       "      <td>-2.657250</td>\n",
       "      <td>0.433356</td>\n",
       "      <td>0.457525</td>\n",
       "      <td>-1.982391</td>\n",
       "      <td>-1.166361</td>\n",
       "      <td>-1.298311</td>\n",
       "      <td>-0.297782</td>\n",
       "      <td>0.000615</td>\n",
       "      <td>-0.148745</td>\n",
       "    </tr>\n",
       "    <tr>\n",
       "      <th>35062</th>\n",
       "      <td>12/31/2013 22:00</td>\n",
       "      <td>0.301781</td>\n",
       "      <td>-0.760429</td>\n",
       "      <td>-0.756313</td>\n",
       "      <td>-2.657250</td>\n",
       "      <td>0.433356</td>\n",
       "      <td>0.457525</td>\n",
       "      <td>-1.982391</td>\n",
       "      <td>-0.134472</td>\n",
       "      <td>0.072274</td>\n",
       "      <td>-0.297782</td>\n",
       "      <td>-0.086287</td>\n",
       "      <td>-0.148745</td>\n",
       "    </tr>\n",
       "    <tr>\n",
       "      <th>35063</th>\n",
       "      <td>12/31/2013 23:00</td>\n",
       "      <td>0.301781</td>\n",
       "      <td>-0.760429</td>\n",
       "      <td>-0.756313</td>\n",
       "      <td>-0.371813</td>\n",
       "      <td>0.433356</td>\n",
       "      <td>0.457525</td>\n",
       "      <td>1.676673</td>\n",
       "      <td>-0.134472</td>\n",
       "      <td>-0.221423</td>\n",
       "      <td>-0.061499</td>\n",
       "      <td>-0.086287</td>\n",
       "      <td>-0.366191</td>\n",
       "    </tr>\n",
       "  </tbody>\n",
       "</table>\n",
       "<p>35064 rows × 13 columns</p>\n",
       "</div>"
      ],
      "text/plain": [
       "                   date  Visibility  DryBulbFarenheit  DryBulbCelsius  \\\n",
       "0         1/1/2010 0:00    0.301781         -1.580651       -1.605506   \n",
       "1         1/1/2010 1:00    0.301781         -1.580651       -1.605506   \n",
       "2         1/1/2010 2:00    0.301781         -1.580651       -1.605506   \n",
       "3         1/1/2010 3:00    0.301781         -1.580651       -1.605506   \n",
       "4         1/1/2010 4:00    0.301781         -1.580651       -1.605506   \n",
       "...                 ...         ...               ...             ...   \n",
       "35059  12/31/2013 19:00    0.301781         -0.643255       -0.650163   \n",
       "35060  12/31/2013 20:00   -1.172466         -0.760429       -0.756313   \n",
       "35061  12/31/2013 21:00   -2.155297         -0.760429       -0.756313   \n",
       "35062  12/31/2013 22:00    0.301781         -0.760429       -0.756313   \n",
       "35063  12/31/2013 23:00    0.301781         -0.760429       -0.756313   \n",
       "\n",
       "       WetBulbFarenheit  DewPointFarenheit  DewPointCelsius  RelativeHumidity  \\\n",
       "0             -1.632744          -1.014166        -1.035522          0.682362   \n",
       "1             -1.632744          -1.014166        -1.035522          0.682362   \n",
       "2             -1.632744          -1.014166        -1.035522          0.682362   \n",
       "3             -1.632744          -1.014166        -1.035522          0.682362   \n",
       "4             -1.553935          -0.876306        -0.911101          0.960769   \n",
       "...                 ...                ...              ...               ...   \n",
       "35059         -2.657250           0.088708         0.084264         -1.982391   \n",
       "35060         -2.657250           0.226567         0.208684         -1.982391   \n",
       "35061         -2.657250           0.433356         0.457525         -1.982391   \n",
       "35062         -2.657250           0.433356         0.457525         -1.982391   \n",
       "35063         -0.371813           0.433356         0.457525          1.676673   \n",
       "\n",
       "       WindSpeed  WindDirection  StationPressure  Altimeter  WetBulbCelsius  \n",
       "0       0.278284      -0.025625         0.681993   0.652382       -1.641876  \n",
       "1      -0.134472       0.170172         0.624802   0.608931       -1.641876  \n",
       "2      -0.134472       0.561768         0.681993   0.652382       -1.641876  \n",
       "3       0.278284       0.463869         0.681993   0.652382       -1.641876  \n",
       "4       0.071906      -0.123524         0.624802   0.608931       -1.598387  \n",
       "...          ...            ...              ...        ...             ...  \n",
       "35059  -1.166361      -1.298311        -0.297782   0.044066       -0.148745  \n",
       "35060  -0.134472      -0.221423        -0.297782   0.044066       -0.148745  \n",
       "35061  -1.166361      -1.298311        -0.297782   0.000615       -0.148745  \n",
       "35062  -0.134472       0.072274        -0.297782  -0.086287       -0.148745  \n",
       "35063  -0.134472      -0.221423        -0.061499  -0.086287       -0.366191  \n",
       "\n",
       "[35064 rows x 13 columns]"
      ]
     },
     "execution_count": 213,
     "metadata": {},
     "output_type": "execute_result"
    }
   ],
   "source": [
    "scaler = StandardScaler()\n",
    "df.iloc[:,1:] = scaler.fit_transform(df.iloc[:,1:])\n",
    "df"
   ]
  },
  {
   "cell_type": "code",
   "execution_count": 214,
   "id": "IMhozIdUX4fg",
   "metadata": {
    "id": "IMhozIdUX4fg"
   },
   "outputs": [],
   "source": [
    "class weather_data(torch.utils.data.Dataset):\n",
    "    def __init__(self, df, mode=\"train\", seq_len=336, pred_len=96,num_feat=12):\n",
    "        super().__init__()\n",
    "        self.num_feat=num_feat\n",
    "        self.df = df.iloc[:,1:num_feat+1]\n",
    "        # time_stamp = df.iloc[:,0]\n",
    "\n",
    "        assert mode in ['train', 'test', 'val']\n",
    "        type_map = {'train': 0, 'val': 1, 'test': 2}\n",
    "        self.set_type = type_map[mode]\n",
    "\n",
    "        self.seq_len = seq_len\n",
    "        self.pred_len = pred_len\n",
    "        dataset_len=len(df)\n",
    "\n",
    "        border1s = [0, int(round(0.7*dataset_len,0)) - self.seq_len, int(round(0.7*dataset_len,0)) + int(round(0.1*dataset_len,0)) - self.seq_len]\n",
    "        border2s = [int(round(0.7*dataset_len,0)), int(round(0.7*dataset_len,0)) + int(round(0.1*dataset_len,0)), int(round(0.7*dataset_len,0)) + int(round(0.1*dataset_len,0)) + int(round(0.2*dataset_len,0))]\n",
    "        border1 = border1s[self.set_type]\n",
    "        border2 = border2s[self.set_type]\n",
    "\n",
    "\n",
    "\n",
    "\n",
    "        self.df = self.df.to_numpy(dtype=np.float32)\n",
    "        # time_stamp = time_stamp.to_numpy()\n",
    "\n",
    "        self.data_x = self.df[border1: border2, :]\n",
    "        self.data_y = self.df[border1: border2, :]\n",
    "\n",
    "        # self.data_stamp = time_stamp[border1: border2]\n",
    "\n",
    "    def __getitem__(self, index):\n",
    "        s_begin = index\n",
    "        s_end = s_begin + self.seq_len\n",
    "        r_begin = s_end\n",
    "        r_end = r_begin + self.pred_len\n",
    "\n",
    "        seq_x = self.data_x[s_begin:s_end]\n",
    "        seq_y = self.data_y[r_begin:r_end]\n",
    "        return seq_x, seq_y\n",
    "\n",
    "\n",
    "    def __len__(self):\n",
    "        return len(self.data_x) - self.seq_len - self.pred_len + 1"
   ]
  },
  {
   "cell_type": "code",
   "execution_count": 215,
   "id": "Ds8C5Wv1TZJy",
   "metadata": {
    "colab": {
     "base_uri": "https://localhost:8080/"
    },
    "id": "Ds8C5Wv1TZJy",
    "outputId": "3523cc60-dc4f-4830-acb8-8140b52c92dd"
   },
   "outputs": [
    {
     "name": "stdout",
     "output_type": "stream",
     "text": [
      "24114 3411 6918\n"
     ]
    }
   ],
   "source": [
    "from torch.utils.data import DataLoader\n",
    "\n",
    "train_dataset = weather_data(df=df)\n",
    "valid_dataset = weather_data(df=df,mode=\"val\")\n",
    "test_dataset = weather_data(df=df,mode=\"test\")\n",
    "\n",
    "print(len(train_dataset),len(valid_dataset),len(test_dataset))"
   ]
  },
  {
   "cell_type": "code",
   "execution_count": 216,
   "id": "70a18f29",
   "metadata": {
    "id": "70a18f29"
   },
   "outputs": [
    {
     "data": {
      "text/plain": [
       "(96, 12)"
      ]
     },
     "execution_count": 216,
     "metadata": {},
     "output_type": "execute_result"
    }
   ],
   "source": [
    "train_dataset[1][1].shape"
   ]
  },
  {
   "cell_type": "code",
   "execution_count": 217,
   "id": "a2c85a51",
   "metadata": {},
   "outputs": [
    {
     "data": {
      "text/plain": [
       "PatchTST.PatchTST_supervised.models.PatchTST.Model"
      ]
     },
     "execution_count": 217,
     "metadata": {},
     "output_type": "execute_result"
    }
   ],
   "source": [
    "import os\n",
    "current_directory = os.getcwd()\n",
    "os.chdir(current_directory+r\"\\PatchTST\\PatchTST_supervised\")\n",
    "from PatchTST.PatchTST_supervised.models.PatchTST import Model\n",
    "os.chdir(current_directory)\n",
    "Model"
   ]
  },
  {
   "cell_type": "code",
   "execution_count": 218,
   "id": "322a0ff3",
   "metadata": {},
   "outputs": [
    {
     "data": {
      "text/plain": [
       "'\\nclass Configs:\\n    def __init__(self):\\n        self.enc_in = 12\\n        self.seq_len = 336\\n        self.pred_len = 96\\n        self.e_layers = 3\\n        self.n_heads = 8\\n        self.d_model = 128\\n        self.d_ff = 512\\n        self.dropout = 0.4\\n        self.fc_dropout = 0.\\n        self.head_dropout = 0.\\n        self.individual = True\\n        self.patch_len = 24\\n        self.stride = 12\\n        self.padding_patch = True\\n        self.revin = True\\n        self.affine = False\\n        self.subtract_last = False\\n        self.decomposition = False\\n        self.kernel_size = 25\\n        \\nmy_configs = Configs()\\nmodel=Model(configs=my_configs)\\n'"
      ]
     },
     "execution_count": 218,
     "metadata": {},
     "output_type": "execute_result"
    }
   ],
   "source": [
    "'''\n",
    "class Configs:\n",
    "    def __init__(self):\n",
    "        self.enc_in = 12\n",
    "        self.seq_len = 336\n",
    "        self.pred_len = 96\n",
    "        self.e_layers = 3\n",
    "        self.n_heads = 8\n",
    "        self.d_model = 128\n",
    "        self.d_ff = 512\n",
    "        self.dropout = 0.4\n",
    "        self.fc_dropout = 0.\n",
    "        self.head_dropout = 0.\n",
    "        self.individual = True\n",
    "        self.patch_len = 24\n",
    "        self.stride = 12\n",
    "        self.padding_patch = True\n",
    "        self.revin = True\n",
    "        self.affine = False\n",
    "        self.subtract_last = False\n",
    "        self.decomposition = False\n",
    "        self.kernel_size = 25\n",
    "        \n",
    "my_configs = Configs()\n",
    "model=Model(configs=my_configs)\n",
    "'''"
   ]
  },
  {
   "cell_type": "code",
   "execution_count": 219,
   "id": "7152de2e",
   "metadata": {},
   "outputs": [],
   "source": [
    "\n",
    "class Configs:\n",
    "    def __init__(self):\n",
    "        self.enc_in = 12\n",
    "        self.seq_len = 336\n",
    "        self.pred_len = 96\n",
    "        self.e_layers = 3\n",
    "        self.n_heads = 4\n",
    "        self.d_model = 16\n",
    "        self.d_ff = 128\n",
    "        self.dropout = 0.4\n",
    "        self.fc_dropout = 0.\n",
    "        self.head_dropout = 0.\n",
    "        self.individual = True\n",
    "        self.patch_len = 24\n",
    "        self.stride = 2\n",
    "        self.padding_patch = True\n",
    "        self.revin = True\n",
    "        self.affine = False\n",
    "        self.subtract_last = False\n",
    "        self.decomposition = False\n",
    "        self.kernel_size = 25\n",
    "        \n",
    "my_configs = Configs()\n",
    "model=Model(configs=my_configs)\n"
   ]
  },
  {
   "cell_type": "code",
   "execution_count": 220,
   "id": "94fdb9c2",
   "metadata": {},
   "outputs": [
    {
     "data": {
      "text/plain": [
       "torch.Size([1, 96, 12])"
      ]
     },
     "execution_count": 220,
     "metadata": {},
     "output_type": "execute_result"
    }
   ],
   "source": [
    "dat=torch.from_numpy(train_dataset[0][0])\n",
    "dat=dat.unsqueeze(dim=0)\n",
    "dat.shape\n",
    "model(dat).shape"
   ]
  },
  {
   "cell_type": "code",
   "execution_count": 222,
   "id": "4e2b4427",
   "metadata": {
    "colab": {
     "base_uri": "https://localhost:8080/"
    },
    "id": "4e2b4427",
    "outputId": "be9af307-b172-4a69-ffd9-61220cb69e4e"
   },
   "outputs": [
    {
     "data": {
      "text/plain": [
       "0"
      ]
     },
     "execution_count": 222,
     "metadata": {},
     "output_type": "execute_result"
    }
   ],
   "source": [
    "import gc\n",
    "torch.cuda.empty_cache()\n",
    "gc.collect()"
   ]
  },
  {
   "cell_type": "code",
   "execution_count": 223,
   "id": "032b97a3",
   "metadata": {
    "id": "032b97a3"
   },
   "outputs": [
    {
     "data": {
      "text/plain": [
       "'\\n            # plotting\\n            \\n            for i,j in zip(test_pred[0],test_y[0]):\\n                pass\\n            # print(i[ind].item())\\n                test_pred_plot.append(i[ind].item())\\n            # print(j[ind].item())\\n                test_y_plot.append(j[ind].item())\\n        sns.lineplot(x=list(range(len(test_pred_plot)))[:96], y=test_pred_plot[:96], label=\"predicted\")\\n        sns.lineplot(x=list(range(len(test_y_plot)))[:96], y=test_y_plot[:96], label=\"actual\")\\n        plt.legend(title=\\'Lines\\')\\n        plt.show()\\n        test_total_loss/= test_iter_count\\n        print(\"MSE test loss: \",test_total_loss)\\n\\n        '"
      ]
     },
     "execution_count": 223,
     "metadata": {},
     "output_type": "execute_result"
    }
   ],
   "source": [
    "class model_run:\n",
    "    def __init__(self,model=model):\n",
    "        self.patchtst_model = model\n",
    "        \n",
    "    def model_architecture(self):\n",
    "        n=0\n",
    "        for x in self.patchtst_model.state_dict():\n",
    "            n=n+1\n",
    "            print(x)\n",
    "        print(\"layers= \",n)\n",
    "\n",
    "    def load_datasets(self,train_dataset=train_dataset,valid_dataset=valid_dataset,test_dataset=test_dataset):\n",
    "        self.train_dataset=train_dataset\n",
    "        self.valid_dataset=valid_dataset\n",
    "        self.test_dataset=test_dataset\n",
    "\n",
    "\n",
    "\n",
    "    def model_hyperparameters(self,batch_size=16,lr=0.0001,epochs=20,cuda=True,Dataloader=DataLoader):\n",
    "        self.batch_size = batch_size\n",
    "        self.lr=lr\n",
    "        self.epochs=epochs\n",
    "\n",
    "        self.train_dataloader = DataLoader(self.train_dataset, batch_size=batch_size, shuffle=True)\n",
    "        self.test_dataloader = DataLoader(self.test_dataset, batch_size=1, shuffle=False)\n",
    "        self.valid_dataloader = DataLoader(self.valid_dataset, batch_size=batch_size, shuffle=True)\n",
    "\n",
    "\n",
    "        if cuda:\n",
    "            self.patchtst_model=self.patchtst_model.to(\"cuda\")\n",
    "\n",
    "        self.optimizer = torch.optim.Adam(self.patchtst_model.parameters(), lr=self.lr)\n",
    "        self.loss = torch.nn.MSELoss()\n",
    "        self.loss_mae=torch.nn.L1Loss()\n",
    "\n",
    "    def model_execute(self,):\n",
    "        self.load_datasets()\n",
    "        self.model_hyperparameters()\n",
    "\n",
    "        for epoch in range(self.epochs):\n",
    "            iter_count = 0\n",
    "            total_loss = 0\n",
    "            train_steps=0\n",
    "            total_train_mae_loss=0\n",
    "\n",
    "            for train_x, train_y in tqdm(self.train_dataloader):\n",
    "                train_x = train_x.to(\"cuda\")\n",
    "                train_y = train_y.to(\"cuda\")\n",
    "                \n",
    "                self.i=train_x\n",
    "                pred_y = self.patchtst_model(train_x)\n",
    "                # print(train_x.shape)\n",
    "                # print(train_y.shape)\n",
    "                # print(pred_y.shape)\n",
    "                train_mae_loss=self.loss_mae(pred_y, train_y)\n",
    "\n",
    "                loss_t = self.loss(pred_y, train_y)\n",
    "                self.optimizer.zero_grad()\n",
    "                loss_t.backward()\n",
    "                self.optimizer.step()\n",
    "                total_loss += loss_t.item()\n",
    "                total_train_mae_loss += train_mae_loss.item()\n",
    "                iter_count += 1\n",
    "                train_steps += 1\n",
    "\n",
    "            valid_iter_count = 0\n",
    "            valid_total_loss = 0\n",
    "            valid_total_mae = 0\n",
    "            with torch.no_grad():\n",
    "                for valid_x, valid_y in self.valid_dataloader:\n",
    "                    valid_x = valid_x.to(\"cuda\")\n",
    "                    valid_y = valid_y.to(\"cuda\")\n",
    "                    pred_y = self.patchtst_model(valid_x)\n",
    "                    loss_v = self.loss(pred_y, valid_y)\n",
    "                    valid_loss_mae=self.loss_mae(pred_y, valid_y)\n",
    "\n",
    "                    valid_total_loss += loss_v.item()\n",
    "                    valid_iter_count += 1\n",
    "\n",
    "                    valid_total_mae+=valid_loss_mae.item()\n",
    "\n",
    "                total_loss /= iter_count\n",
    "                total_train_mae_loss /= iter_count\n",
    "\n",
    "                valid_total_loss /= valid_iter_count\n",
    "                valid_total_mae /= valid_iter_count\n",
    "                wandb.log({\"MSE Train\": total_loss, \"MSE Test\": valid_total_loss,\"MAE Train\": total_train_mae_loss,\"MAE Test\": valid_total_mae})\n",
    "\n",
    "                print(\"epoch: {} MSE loss: {:.4f} MSE valid loss: {:.4f}\".format(epoch, total_loss, valid_total_loss))\n",
    "                print(\"          MAE loss: {:.4f} MAE valid loss: {:.4f}\".format(total_train_mae_loss, valid_total_mae))\n",
    "\n",
    "    def save_model(self,name):\n",
    "        torch.save(self.patchtst_model.state_dict(), name+'.pth')\n",
    "\n",
    "\n",
    "    def test_plots(self,ind=3,df_columns=None,scaler=None,column=None):\n",
    "        test_total_loss = 0\n",
    "        test_total_loss_mae=0\n",
    "        test_iter_count = 0\n",
    "        test_pred_plot=[]\n",
    "        test_y_plot=[]\n",
    "        \n",
    "        df_y_final=pd.DataFrame(columns=df_columns)\n",
    "        df_pred_final=pd.DataFrame(columns=df_columns)\n",
    "        \n",
    "        for test_x, test_y in self.test_dataloader:\n",
    "            test_x = test_x.to(\"cuda\")\n",
    "            test_y = test_y.to(\"cuda\")\n",
    "            test_pred=self.patchtst_model(test_x.to(\"cuda\"))\n",
    "            # print(test_pred.shape)\n",
    "            # print(test_y.shape)\n",
    "            loss_test=self.loss(test_pred, test_y)\n",
    "            test_total_loss += loss_test.item()\n",
    "            \n",
    "            loss_test_mae=self.loss_mae(test_pred, test_y)\n",
    "            test_total_loss_mae+=loss_test_mae.item()\n",
    "            \n",
    "            test_iter_count += 1\n",
    "              \n",
    "            df_y=pd.DataFrame(test_y[0].to(\"cpu\").numpy(),columns=df_columns)\n",
    "            df_pred=pd.DataFrame(test_pred[0].to(\"cpu\").detach().numpy(),columns=df_columns)\n",
    "            \n",
    "            df_y_final = pd.concat([df_y_final, df_y], axis=0)\n",
    "            df_pred_final = pd.concat([df_pred_final, df_pred], axis=0)\n",
    "        df_pred_final=scaler.inverse_transform(df_pred_final)   \n",
    "        df_y_final=scaler.inverse_transform(df_y_final)\n",
    "        \n",
    "        df_pred_final=pd.DataFrame(df_pred_final,columns=df_columns)\n",
    "        df_y_final=pd.DataFrame(df_y_final,columns=df_columns)\n",
    "        \n",
    "        \n",
    "        sns.lineplot(x=list(range(len(df_y_final)))[:96], y=df_y_final[column][:96], label=\"GroundTruth\")\n",
    "        sns.lineplot(x=list(range(len(df_pred_final)))[:96], y=df_pred_final[column][:96], label=\"Prediction\")\n",
    "        plt.legend(title='Type')\n",
    "        plt.xlabel('Time Step')\n",
    "        plt.title(\"Predicted vs Actual\")\n",
    "        plt.show()\n",
    "        \n",
    "        \n",
    "        test_total_loss/= test_iter_count\n",
    "        test_total_loss_mae/=test_iter_count\n",
    "        print(\"MSE test loss: \",test_total_loss)\n",
    "        print(\"MAE test loss: \",test_total_loss_mae)\n",
    "         \n",
    "'''\n",
    "            # plotting\n",
    "            \n",
    "            for i,j in zip(test_pred[0],test_y[0]):\n",
    "                pass\n",
    "            # print(i[ind].item())\n",
    "                test_pred_plot.append(i[ind].item())\n",
    "            # print(j[ind].item())\n",
    "                test_y_plot.append(j[ind].item())\n",
    "        sns.lineplot(x=list(range(len(test_pred_plot)))[:96], y=test_pred_plot[:96], label=\"predicted\")\n",
    "        sns.lineplot(x=list(range(len(test_y_plot)))[:96], y=test_y_plot[:96], label=\"actual\")\n",
    "        plt.legend(title='Lines')\n",
    "        plt.show()\n",
    "        test_total_loss/= test_iter_count\n",
    "        print(\"MSE test loss: \",test_total_loss)\n",
    "\n",
    "        '''\n"
   ]
  },
  {
   "cell_type": "code",
   "execution_count": 224,
   "id": "c4be2e6f",
   "metadata": {
    "id": "c4be2e6f"
   },
   "outputs": [],
   "source": [
    "x=model_run(model=model)"
   ]
  },
  {
   "cell_type": "code",
   "execution_count": 225,
   "id": "PRq_t36mOl4T",
   "metadata": {
    "colab": {
     "base_uri": "https://localhost:8080/",
     "height": 1000
    },
    "id": "PRq_t36mOl4T",
    "outputId": "36d03252-4ea5-48cc-b8ce-66ec139f0b65",
    "scrolled": true
   },
   "outputs": [
    {
     "name": "stderr",
     "output_type": "stream",
     "text": [
      "100%|██████████████████████████████████████████████████████████████████████████████| 1508/1508 [01:00<00:00, 24.77it/s]\n"
     ]
    },
    {
     "name": "stdout",
     "output_type": "stream",
     "text": [
      "epoch: 0 MSE loss: 0.5659 MSE valid loss: 0.6731\n",
      "          MAE loss: 0.5382 MAE valid loss: 0.6013\n"
     ]
    },
    {
     "name": "stderr",
     "output_type": "stream",
     "text": [
      "100%|██████████████████████████████████████████████████████████████████████████████| 1508/1508 [01:00<00:00, 24.96it/s]\n"
     ]
    },
    {
     "name": "stdout",
     "output_type": "stream",
     "text": [
      "epoch: 1 MSE loss: 0.5202 MSE valid loss: 0.6677\n",
      "          MAE loss: 0.5102 MAE valid loss: 0.5951\n"
     ]
    },
    {
     "name": "stderr",
     "output_type": "stream",
     "text": [
      "100%|██████████████████████████████████████████████████████████████████████████████| 1508/1508 [01:00<00:00, 24.94it/s]\n"
     ]
    },
    {
     "name": "stdout",
     "output_type": "stream",
     "text": [
      "epoch: 2 MSE loss: 0.5089 MSE valid loss: 0.6622\n",
      "          MAE loss: 0.5036 MAE valid loss: 0.5908\n"
     ]
    },
    {
     "name": "stderr",
     "output_type": "stream",
     "text": [
      "100%|██████████████████████████████████████████████████████████████████████████████| 1508/1508 [01:00<00:00, 24.92it/s]\n"
     ]
    },
    {
     "name": "stdout",
     "output_type": "stream",
     "text": [
      "epoch: 3 MSE loss: 0.5026 MSE valid loss: 0.6561\n",
      "          MAE loss: 0.5002 MAE valid loss: 0.5874\n"
     ]
    },
    {
     "name": "stderr",
     "output_type": "stream",
     "text": [
      "100%|██████████████████████████████████████████████████████████████████████████████| 1508/1508 [01:00<00:00, 24.74it/s]\n"
     ]
    },
    {
     "name": "stdout",
     "output_type": "stream",
     "text": [
      "epoch: 4 MSE loss: 0.4972 MSE valid loss: 0.6522\n",
      "          MAE loss: 0.4972 MAE valid loss: 0.5857\n"
     ]
    },
    {
     "name": "stderr",
     "output_type": "stream",
     "text": [
      "100%|██████████████████████████████████████████████████████████████████████████████| 1508/1508 [01:01<00:00, 24.48it/s]\n"
     ]
    },
    {
     "name": "stdout",
     "output_type": "stream",
     "text": [
      "epoch: 5 MSE loss: 0.4929 MSE valid loss: 0.6491\n",
      "          MAE loss: 0.4950 MAE valid loss: 0.5856\n"
     ]
    },
    {
     "name": "stderr",
     "output_type": "stream",
     "text": [
      "100%|██████████████████████████████████████████████████████████████████████████████| 1508/1508 [01:01<00:00, 24.43it/s]\n"
     ]
    },
    {
     "name": "stdout",
     "output_type": "stream",
     "text": [
      "epoch: 6 MSE loss: 0.4896 MSE valid loss: 0.6478\n",
      "          MAE loss: 0.4933 MAE valid loss: 0.5828\n"
     ]
    },
    {
     "name": "stderr",
     "output_type": "stream",
     "text": [
      "100%|██████████████████████████████████████████████████████████████████████████████| 1508/1508 [01:01<00:00, 24.61it/s]\n"
     ]
    },
    {
     "name": "stdout",
     "output_type": "stream",
     "text": [
      "epoch: 7 MSE loss: 0.4868 MSE valid loss: 0.6556\n",
      "          MAE loss: 0.4918 MAE valid loss: 0.5835\n"
     ]
    },
    {
     "name": "stderr",
     "output_type": "stream",
     "text": [
      "100%|██████████████████████████████████████████████████████████████████████████████| 1508/1508 [01:01<00:00, 24.34it/s]\n"
     ]
    },
    {
     "name": "stdout",
     "output_type": "stream",
     "text": [
      "epoch: 8 MSE loss: 0.4842 MSE valid loss: 0.6545\n",
      "          MAE loss: 0.4904 MAE valid loss: 0.5844\n"
     ]
    },
    {
     "name": "stderr",
     "output_type": "stream",
     "text": [
      "100%|██████████████████████████████████████████████████████████████████████████████| 1508/1508 [01:01<00:00, 24.47it/s]\n"
     ]
    },
    {
     "name": "stdout",
     "output_type": "stream",
     "text": [
      "epoch: 9 MSE loss: 0.4818 MSE valid loss: 0.6574\n",
      "          MAE loss: 0.4892 MAE valid loss: 0.5859\n"
     ]
    },
    {
     "name": "stderr",
     "output_type": "stream",
     "text": [
      "100%|██████████████████████████████████████████████████████████████████████████████| 1508/1508 [01:02<00:00, 24.06it/s]\n"
     ]
    },
    {
     "name": "stdout",
     "output_type": "stream",
     "text": [
      "epoch: 10 MSE loss: 0.4795 MSE valid loss: 0.6614\n",
      "          MAE loss: 0.4882 MAE valid loss: 0.5871\n"
     ]
    },
    {
     "name": "stderr",
     "output_type": "stream",
     "text": [
      "100%|██████████████████████████████████████████████████████████████████████████████| 1508/1508 [01:03<00:00, 23.64it/s]\n"
     ]
    },
    {
     "name": "stdout",
     "output_type": "stream",
     "text": [
      "epoch: 11 MSE loss: 0.4763 MSE valid loss: 0.6616\n",
      "          MAE loss: 0.4865 MAE valid loss: 0.5881\n"
     ]
    },
    {
     "name": "stderr",
     "output_type": "stream",
     "text": [
      "100%|██████████████████████████████████████████████████████████████████████████████| 1508/1508 [01:02<00:00, 24.26it/s]\n"
     ]
    },
    {
     "name": "stdout",
     "output_type": "stream",
     "text": [
      "epoch: 12 MSE loss: 0.4738 MSE valid loss: 0.6610\n",
      "          MAE loss: 0.4851 MAE valid loss: 0.5852\n"
     ]
    },
    {
     "name": "stderr",
     "output_type": "stream",
     "text": [
      "100%|██████████████████████████████████████████████████████████████████████████████| 1508/1508 [01:01<00:00, 24.56it/s]\n"
     ]
    },
    {
     "name": "stdout",
     "output_type": "stream",
     "text": [
      "epoch: 13 MSE loss: 0.4724 MSE valid loss: 0.6614\n",
      "          MAE loss: 0.4843 MAE valid loss: 0.5864\n"
     ]
    },
    {
     "name": "stderr",
     "output_type": "stream",
     "text": [
      "100%|██████████████████████████████████████████████████████████████████████████████| 1508/1508 [01:01<00:00, 24.51it/s]\n"
     ]
    },
    {
     "name": "stdout",
     "output_type": "stream",
     "text": [
      "epoch: 14 MSE loss: 0.4708 MSE valid loss: 0.6660\n",
      "          MAE loss: 0.4835 MAE valid loss: 0.5877\n"
     ]
    },
    {
     "name": "stderr",
     "output_type": "stream",
     "text": [
      "100%|██████████████████████████████████████████████████████████████████████████████| 1508/1508 [01:01<00:00, 24.48it/s]\n"
     ]
    },
    {
     "name": "stdout",
     "output_type": "stream",
     "text": [
      "epoch: 15 MSE loss: 0.4689 MSE valid loss: 0.6636\n",
      "          MAE loss: 0.4825 MAE valid loss: 0.5866\n"
     ]
    },
    {
     "name": "stderr",
     "output_type": "stream",
     "text": [
      "100%|██████████████████████████████████████████████████████████████████████████████| 1508/1508 [01:01<00:00, 24.50it/s]\n"
     ]
    },
    {
     "name": "stdout",
     "output_type": "stream",
     "text": [
      "epoch: 16 MSE loss: 0.4681 MSE valid loss: 0.6668\n",
      "          MAE loss: 0.4821 MAE valid loss: 0.5870\n"
     ]
    },
    {
     "name": "stderr",
     "output_type": "stream",
     "text": [
      "100%|██████████████████████████████████████████████████████████████████████████████| 1508/1508 [01:01<00:00, 24.45it/s]\n"
     ]
    },
    {
     "name": "stdout",
     "output_type": "stream",
     "text": [
      "epoch: 17 MSE loss: 0.4667 MSE valid loss: 0.6606\n",
      "          MAE loss: 0.4813 MAE valid loss: 0.5838\n"
     ]
    },
    {
     "name": "stderr",
     "output_type": "stream",
     "text": [
      "100%|██████████████████████████████████████████████████████████████████████████████| 1508/1508 [01:01<00:00, 24.54it/s]\n"
     ]
    },
    {
     "name": "stdout",
     "output_type": "stream",
     "text": [
      "epoch: 18 MSE loss: 0.4657 MSE valid loss: 0.6631\n",
      "          MAE loss: 0.4809 MAE valid loss: 0.5850\n"
     ]
    },
    {
     "name": "stderr",
     "output_type": "stream",
     "text": [
      "100%|██████████████████████████████████████████████████████████████████████████████| 1508/1508 [01:01<00:00, 24.33it/s]\n"
     ]
    },
    {
     "name": "stdout",
     "output_type": "stream",
     "text": [
      "epoch: 19 MSE loss: 0.4644 MSE valid loss: 0.6642\n",
      "          MAE loss: 0.4801 MAE valid loss: 0.5872\n"
     ]
    }
   ],
   "source": [
    "x.model_execute()"
   ]
  },
  {
   "cell_type": "code",
   "execution_count": 231,
   "id": "24989d45",
   "metadata": {},
   "outputs": [
    {
     "data": {
      "image/png": "[encoded data removed]",
      "text/plain": [
       "<Figure size 640x480 with 1 Axes>"
      ]
     },
     "metadata": {},
     "output_type": "display_data"
    },
    {
     "name": "stdout",
     "output_type": "stream",
     "text": [
      "MSE test loss:  0.485170769399389\n",
      "MAE test loss:  0.48576957206008886\n"
     ]
    }
   ],
   "source": [
    "x.test_plots(df_columns=df.columns[1:],scaler=scaler,column='WindDirection')"
   ]
  },
  {
   "cell_type": "code",
   "execution_count": null,
   "id": "c137bc01",
   "metadata": {},
   "outputs": [],
   "source": [
    "'''\n",
    "dat=torch.from_numpy(train_dataset[0][0])\n",
    "dat=dat.unsqueeze(dim=0)\n",
    "dat.shape\n",
    "model(dat).shape\n",
    "'''"
   ]
  },
  {
   "cell_type": "code",
   "execution_count": null,
   "id": "1bfe07c7",
   "metadata": {},
   "outputs": [],
   "source": []
  }
 ],
 "metadata": {
  "accelerator": "GPU",
  "colab": {
   "gpuType": "V100",
   "machine_shape": "hm",
   "provenance": []
  },
  "kernelspec": {
   "display_name": "gpu1",
   "language": "python",
   "name": "gpu1"
  },
  "language_info": {
   "codemirror_mode": {
    "name": "ipython",
    "version": 3
   },
   "file_extension": ".py",
   "mimetype": "text/x-python",
   "name": "python",
   "nbconvert_exporter": "python",
   "pygments_lexer": "ipython3",
   "version": "3.9.18"
  }
 },
 "nbformat": 4,
 "nbformat_minor": 5
}
