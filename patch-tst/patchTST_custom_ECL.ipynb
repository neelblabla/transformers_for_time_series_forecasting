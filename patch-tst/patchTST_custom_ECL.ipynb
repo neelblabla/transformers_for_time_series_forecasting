{
 "cells": [
  {
   "cell_type": "code",
   "execution_count": 1,
   "id": "ed103c66",
   "metadata": {
    "colab": {
     "base_uri": "https://localhost:8080/"
    },
    "id": "ed103c66",
    "outputId": "6d983b40-6a98-48fd-c1ef-875839b80915"
   },
   "outputs": [
    {
     "name": "stdout",
     "output_type": "stream",
     "text": [
      "2.0.1+cu118\n"
     ]
    }
   ],
   "source": [
    "import torch\n",
    "from torch.utils.data import Dataset\n",
    "\n",
    "import seaborn as sns\n",
    "import matplotlib.pyplot as plt\n",
    "import numpy as np\n",
    "import pandas as pd\n",
    "# !pip install wandb\n",
    "import wandb\n",
    "import random\n",
    "from tqdm import tqdm\n",
    "\n",
    "from sklearn.preprocessing import StandardScaler\n",
    "print(torch.__version__)"
   ]
  },
  {
   "cell_type": "code",
   "execution_count": 2,
   "id": "3855ec0c",
   "metadata": {
    "colab": {
     "base_uri": "https://localhost:8080/",
     "height": 471
    },
    "id": "3855ec0c",
    "outputId": "caf23e54-39a1-4de5-8a08-40a6b7c38400"
   },
   "outputs": [
    {
     "name": "stderr",
     "output_type": "stream",
     "text": [
      "Failed to detect the name of this notebook, you can set it manually with the WANDB_NOTEBOOK_NAME environment variable to enable code saving.\n",
      "\u001b[34m\u001b[1mwandb\u001b[0m: Currently logged in as: \u001b[33mkirteshpatel98\u001b[0m. Use \u001b[1m`wandb login --relogin`\u001b[0m to force relogin\n"
     ]
    },
    {
     "data": {
      "text/html": [
       "Tracking run with wandb version 0.15.12"
      ],
      "text/plain": [
       "<IPython.core.display.HTML object>"
      ]
     },
     "metadata": {},
     "output_type": "display_data"
    },
    {
     "data": {
      "text/html": [
       "Run data is saved locally in <code>C:\\Users\\hp\\OneDrive - fs-students.de\\FS\\Sem 3\\Deep Learning\\transformers_for_time_series_forecasting\\patch-tst\\wandb\\run-20231103_142058-2cjrly9p</code>"
      ],
      "text/plain": [
       "<IPython.core.display.HTML object>"
      ]
     },
     "metadata": {},
     "output_type": "display_data"
    },
    {
     "data": {
      "text/html": [
       "Syncing run <strong><a href='https://wandb.ai/kirteshpatel98/transformer_timeseries/runs/2cjrly9p' target=\"_blank\">super-galaxy-79</a></strong> to <a href='https://wandb.ai/kirteshpatel98/transformer_timeseries' target=\"_blank\">Weights & Biases</a> (<a href='https://wandb.me/run' target=\"_blank\">docs</a>)<br/>"
      ],
      "text/plain": [
       "<IPython.core.display.HTML object>"
      ]
     },
     "metadata": {},
     "output_type": "display_data"
    },
    {
     "data": {
      "text/html": [
       " View project at <a href='https://wandb.ai/kirteshpatel98/transformer_timeseries' target=\"_blank\">https://wandb.ai/kirteshpatel98/transformer_timeseries</a>"
      ],
      "text/plain": [
       "<IPython.core.display.HTML object>"
      ]
     },
     "metadata": {},
     "output_type": "display_data"
    },
    {
     "data": {
      "text/html": [
       " View run at <a href='https://wandb.ai/kirteshpatel98/transformer_timeseries/runs/2cjrly9p' target=\"_blank\">https://wandb.ai/kirteshpatel98/transformer_timeseries/runs/2cjrly9p</a>"
      ],
      "text/plain": [
       "<IPython.core.display.HTML object>"
      ]
     },
     "metadata": {},
     "output_type": "display_data"
    },
    {
     "data": {
      "text/html": [
       "<button onClick=\"this.nextSibling.style.display='block';this.style.display='none';\">Display W&B run</button><iframe src='https://wandb.ai/kirteshpatel98/transformer_timeseries/runs/2cjrly9p?jupyter=true' style='border:none;width:100%;height:420px;display:none;'></iframe>"
      ],
      "text/plain": [
       "<wandb.sdk.wandb_run.Run at 0x2005ae714f0>"
      ]
     },
     "execution_count": 2,
     "metadata": {},
     "output_type": "execute_result"
    }
   ],
   "source": [
    "# importing weight and biases api \n",
    "# start a new wandb run to track this script\n",
    "wandb.init(\n",
    "    # set the wandb project where this run will be logged\n",
    "    project=\"transformer_timeseries\",\n",
    ")\n"
   ]
  },
  {
   "cell_type": "code",
   "execution_count": 3,
   "id": "5522d111",
   "metadata": {
    "colab": {
     "base_uri": "https://localhost:8080/",
     "height": 634
    },
    "id": "5522d111",
    "outputId": "e7970d24-0ff5-4827-aa0c-b9fb80ce9051"
   },
   "outputs": [
    {
     "data": {
      "text/plain": [
       "\"\\nfrom google.colab import drive\\ndrive.mount('/content/drive')\\n\\nimport os\\nos.chdir('/content/drive/My Drive/')\\n\\n\\ndf=pd.read_csv('WTH.csv')\\n# df.drop('Unnamed: 0',axis=1,inplace=True)\\ndf\\n\""
      ]
     },
     "execution_count": 3,
     "metadata": {},
     "output_type": "execute_result"
    }
   ],
   "source": [
    "'''\n",
    "from google.colab import drive\n",
    "drive.mount('/content/drive')\n",
    "\n",
    "import os\n",
    "os.chdir('/content/drive/My Drive/')\n",
    "\n",
    "\n",
    "df=pd.read_csv('WTH.csv')\n",
    "# df.drop('Unnamed: 0',axis=1,inplace=True)\n",
    "df\n",
    "'''"
   ]
  },
  {
   "cell_type": "code",
   "execution_count": 4,
   "id": "bffcb3d9",
   "metadata": {
    "colab": {
     "base_uri": "https://localhost:8080/",
     "height": 36
    },
    "id": "bffcb3d9",
    "outputId": "0583a406-d5e9-4687-baf9-6e00500e03d9"
   },
   "outputs": [
    {
     "data": {
      "text/html": [
       "<div>\n",
       "<style scoped>\n",
       "    .dataframe tbody tr th:only-of-type {\n",
       "        vertical-align: middle;\n",
       "    }\n",
       "\n",
       "    .dataframe tbody tr th {\n",
       "        vertical-align: top;\n",
       "    }\n",
       "\n",
       "    .dataframe thead th {\n",
       "        text-align: right;\n",
       "    }\n",
       "</style>\n",
       "<table border=\"1\" class=\"dataframe\">\n",
       "  <thead>\n",
       "    <tr style=\"text-align: right;\">\n",
       "      <th></th>\n",
       "      <th>MT_000</th>\n",
       "      <th>MT_001</th>\n",
       "      <th>MT_002</th>\n",
       "      <th>MT_003</th>\n",
       "      <th>MT_004</th>\n",
       "      <th>MT_005</th>\n",
       "      <th>MT_006</th>\n",
       "      <th>MT_007</th>\n",
       "      <th>MT_008</th>\n",
       "      <th>MT_009</th>\n",
       "      <th>...</th>\n",
       "      <th>MT_311</th>\n",
       "      <th>MT_312</th>\n",
       "      <th>MT_313</th>\n",
       "      <th>MT_314</th>\n",
       "      <th>MT_315</th>\n",
       "      <th>MT_316</th>\n",
       "      <th>MT_317</th>\n",
       "      <th>MT_318</th>\n",
       "      <th>MT_319</th>\n",
       "      <th>MT_320</th>\n",
       "    </tr>\n",
       "  </thead>\n",
       "  <tbody>\n",
       "    <tr>\n",
       "      <th>0</th>\n",
       "      <td>14.0</td>\n",
       "      <td>69.0</td>\n",
       "      <td>234.0</td>\n",
       "      <td>415.0</td>\n",
       "      <td>215.0</td>\n",
       "      <td>1056.0</td>\n",
       "      <td>29.0</td>\n",
       "      <td>840.0</td>\n",
       "      <td>226.0</td>\n",
       "      <td>265.0</td>\n",
       "      <td>...</td>\n",
       "      <td>676.0</td>\n",
       "      <td>372.0</td>\n",
       "      <td>80100.0</td>\n",
       "      <td>4719.0</td>\n",
       "      <td>5002.0</td>\n",
       "      <td>48.0</td>\n",
       "      <td>38.0</td>\n",
       "      <td>1558.0</td>\n",
       "      <td>182.0</td>\n",
       "      <td>2162.0</td>\n",
       "    </tr>\n",
       "    <tr>\n",
       "      <th>1</th>\n",
       "      <td>18.0</td>\n",
       "      <td>92.0</td>\n",
       "      <td>312.0</td>\n",
       "      <td>556.0</td>\n",
       "      <td>292.0</td>\n",
       "      <td>1363.0</td>\n",
       "      <td>29.0</td>\n",
       "      <td>1102.0</td>\n",
       "      <td>271.0</td>\n",
       "      <td>340.0</td>\n",
       "      <td>...</td>\n",
       "      <td>805.0</td>\n",
       "      <td>452.0</td>\n",
       "      <td>95200.0</td>\n",
       "      <td>4643.0</td>\n",
       "      <td>6617.0</td>\n",
       "      <td>65.0</td>\n",
       "      <td>47.0</td>\n",
       "      <td>2177.0</td>\n",
       "      <td>253.0</td>\n",
       "      <td>2835.0</td>\n",
       "    </tr>\n",
       "    <tr>\n",
       "      <th>2</th>\n",
       "      <td>21.0</td>\n",
       "      <td>96.0</td>\n",
       "      <td>312.0</td>\n",
       "      <td>560.0</td>\n",
       "      <td>272.0</td>\n",
       "      <td>1240.0</td>\n",
       "      <td>29.0</td>\n",
       "      <td>1025.0</td>\n",
       "      <td>270.0</td>\n",
       "      <td>300.0</td>\n",
       "      <td>...</td>\n",
       "      <td>817.0</td>\n",
       "      <td>430.0</td>\n",
       "      <td>96600.0</td>\n",
       "      <td>4285.0</td>\n",
       "      <td>6571.0</td>\n",
       "      <td>64.0</td>\n",
       "      <td>43.0</td>\n",
       "      <td>2193.0</td>\n",
       "      <td>218.0</td>\n",
       "      <td>2764.0</td>\n",
       "    </tr>\n",
       "    <tr>\n",
       "      <th>3</th>\n",
       "      <td>20.0</td>\n",
       "      <td>92.0</td>\n",
       "      <td>312.0</td>\n",
       "      <td>443.0</td>\n",
       "      <td>213.0</td>\n",
       "      <td>845.0</td>\n",
       "      <td>24.0</td>\n",
       "      <td>833.0</td>\n",
       "      <td>179.0</td>\n",
       "      <td>211.0</td>\n",
       "      <td>...</td>\n",
       "      <td>801.0</td>\n",
       "      <td>291.0</td>\n",
       "      <td>94500.0</td>\n",
       "      <td>4222.0</td>\n",
       "      <td>6365.0</td>\n",
       "      <td>65.0</td>\n",
       "      <td>39.0</td>\n",
       "      <td>1315.0</td>\n",
       "      <td>195.0</td>\n",
       "      <td>2735.0</td>\n",
       "    </tr>\n",
       "    <tr>\n",
       "      <th>4</th>\n",
       "      <td>22.0</td>\n",
       "      <td>91.0</td>\n",
       "      <td>312.0</td>\n",
       "      <td>346.0</td>\n",
       "      <td>190.0</td>\n",
       "      <td>647.0</td>\n",
       "      <td>16.0</td>\n",
       "      <td>733.0</td>\n",
       "      <td>186.0</td>\n",
       "      <td>179.0</td>\n",
       "      <td>...</td>\n",
       "      <td>807.0</td>\n",
       "      <td>279.0</td>\n",
       "      <td>91300.0</td>\n",
       "      <td>4116.0</td>\n",
       "      <td>6298.0</td>\n",
       "      <td>75.0</td>\n",
       "      <td>40.0</td>\n",
       "      <td>1378.0</td>\n",
       "      <td>191.0</td>\n",
       "      <td>2721.0</td>\n",
       "    </tr>\n",
       "    <tr>\n",
       "      <th>...</th>\n",
       "      <td>...</td>\n",
       "      <td>...</td>\n",
       "      <td>...</td>\n",
       "      <td>...</td>\n",
       "      <td>...</td>\n",
       "      <td>...</td>\n",
       "      <td>...</td>\n",
       "      <td>...</td>\n",
       "      <td>...</td>\n",
       "      <td>...</td>\n",
       "      <td>...</td>\n",
       "      <td>...</td>\n",
       "      <td>...</td>\n",
       "      <td>...</td>\n",
       "      <td>...</td>\n",
       "      <td>...</td>\n",
       "      <td>...</td>\n",
       "      <td>...</td>\n",
       "      <td>...</td>\n",
       "      <td>...</td>\n",
       "      <td>...</td>\n",
       "    </tr>\n",
       "    <tr>\n",
       "      <th>26299</th>\n",
       "      <td>11.0</td>\n",
       "      <td>116.0</td>\n",
       "      <td>8.0</td>\n",
       "      <td>844.0</td>\n",
       "      <td>384.0</td>\n",
       "      <td>1590.0</td>\n",
       "      <td>51.0</td>\n",
       "      <td>1412.0</td>\n",
       "      <td>407.0</td>\n",
       "      <td>351.0</td>\n",
       "      <td>...</td>\n",
       "      <td>1897.0</td>\n",
       "      <td>1589.0</td>\n",
       "      <td>166500.0</td>\n",
       "      <td>9917.0</td>\n",
       "      <td>10412.0</td>\n",
       "      <td>324.0</td>\n",
       "      <td>21.0</td>\n",
       "      <td>1870.0</td>\n",
       "      <td>162.0</td>\n",
       "      <td>2773.0</td>\n",
       "    </tr>\n",
       "    <tr>\n",
       "      <th>26300</th>\n",
       "      <td>11.0</td>\n",
       "      <td>103.0</td>\n",
       "      <td>8.0</td>\n",
       "      <td>749.0</td>\n",
       "      <td>371.0</td>\n",
       "      <td>1366.0</td>\n",
       "      <td>47.0</td>\n",
       "      <td>1265.0</td>\n",
       "      <td>369.0</td>\n",
       "      <td>327.0</td>\n",
       "      <td>...</td>\n",
       "      <td>1374.0</td>\n",
       "      <td>1336.0</td>\n",
       "      <td>158800.0</td>\n",
       "      <td>6812.0</td>\n",
       "      <td>8956.0</td>\n",
       "      <td>302.0</td>\n",
       "      <td>20.0</td>\n",
       "      <td>1506.0</td>\n",
       "      <td>438.0</td>\n",
       "      <td>2755.0</td>\n",
       "    </tr>\n",
       "    <tr>\n",
       "      <th>26301</th>\n",
       "      <td>12.0</td>\n",
       "      <td>93.0</td>\n",
       "      <td>8.0</td>\n",
       "      <td>650.0</td>\n",
       "      <td>346.0</td>\n",
       "      <td>1282.0</td>\n",
       "      <td>48.0</td>\n",
       "      <td>1079.0</td>\n",
       "      <td>308.0</td>\n",
       "      <td>283.0</td>\n",
       "      <td>...</td>\n",
       "      <td>938.0</td>\n",
       "      <td>1311.0</td>\n",
       "      <td>154300.0</td>\n",
       "      <td>6602.0</td>\n",
       "      <td>5910.0</td>\n",
       "      <td>302.0</td>\n",
       "      <td>18.0</td>\n",
       "      <td>1864.0</td>\n",
       "      <td>621.0</td>\n",
       "      <td>2650.0</td>\n",
       "    </tr>\n",
       "    <tr>\n",
       "      <th>26302</th>\n",
       "      <td>10.0</td>\n",
       "      <td>92.0</td>\n",
       "      <td>8.0</td>\n",
       "      <td>646.0</td>\n",
       "      <td>349.0</td>\n",
       "      <td>1261.0</td>\n",
       "      <td>48.0</td>\n",
       "      <td>1009.0</td>\n",
       "      <td>288.0</td>\n",
       "      <td>292.0</td>\n",
       "      <td>...</td>\n",
       "      <td>833.0</td>\n",
       "      <td>1227.0</td>\n",
       "      <td>141900.0</td>\n",
       "      <td>6546.0</td>\n",
       "      <td>5502.0</td>\n",
       "      <td>259.0</td>\n",
       "      <td>33.0</td>\n",
       "      <td>2623.0</td>\n",
       "      <td>783.0</td>\n",
       "      <td>2719.0</td>\n",
       "    </tr>\n",
       "    <tr>\n",
       "      <th>26303</th>\n",
       "      <td>11.0</td>\n",
       "      <td>88.0</td>\n",
       "      <td>8.0</td>\n",
       "      <td>648.0</td>\n",
       "      <td>337.0</td>\n",
       "      <td>1234.0</td>\n",
       "      <td>46.0</td>\n",
       "      <td>1005.0</td>\n",
       "      <td>261.0</td>\n",
       "      <td>294.0</td>\n",
       "      <td>...</td>\n",
       "      <td>783.0</td>\n",
       "      <td>1089.0</td>\n",
       "      <td>112300.0</td>\n",
       "      <td>6188.0</td>\n",
       "      <td>4934.0</td>\n",
       "      <td>115.0</td>\n",
       "      <td>31.0</td>\n",
       "      <td>2706.0</td>\n",
       "      <td>647.0</td>\n",
       "      <td>2640.0</td>\n",
       "    </tr>\n",
       "  </tbody>\n",
       "</table>\n",
       "<p>26304 rows × 321 columns</p>\n",
       "</div>"
      ],
      "text/plain": [
       "       MT_000  MT_001  MT_002  MT_003  MT_004  MT_005  MT_006  MT_007  MT_008  \\\n",
       "0        14.0    69.0   234.0   415.0   215.0  1056.0    29.0   840.0   226.0   \n",
       "1        18.0    92.0   312.0   556.0   292.0  1363.0    29.0  1102.0   271.0   \n",
       "2        21.0    96.0   312.0   560.0   272.0  1240.0    29.0  1025.0   270.0   \n",
       "3        20.0    92.0   312.0   443.0   213.0   845.0    24.0   833.0   179.0   \n",
       "4        22.0    91.0   312.0   346.0   190.0   647.0    16.0   733.0   186.0   \n",
       "...       ...     ...     ...     ...     ...     ...     ...     ...     ...   \n",
       "26299    11.0   116.0     8.0   844.0   384.0  1590.0    51.0  1412.0   407.0   \n",
       "26300    11.0   103.0     8.0   749.0   371.0  1366.0    47.0  1265.0   369.0   \n",
       "26301    12.0    93.0     8.0   650.0   346.0  1282.0    48.0  1079.0   308.0   \n",
       "26302    10.0    92.0     8.0   646.0   349.0  1261.0    48.0  1009.0   288.0   \n",
       "26303    11.0    88.0     8.0   648.0   337.0  1234.0    46.0  1005.0   261.0   \n",
       "\n",
       "       MT_009  ...  MT_311  MT_312    MT_313  MT_314   MT_315  MT_316  MT_317  \\\n",
       "0       265.0  ...   676.0   372.0   80100.0  4719.0   5002.0    48.0    38.0   \n",
       "1       340.0  ...   805.0   452.0   95200.0  4643.0   6617.0    65.0    47.0   \n",
       "2       300.0  ...   817.0   430.0   96600.0  4285.0   6571.0    64.0    43.0   \n",
       "3       211.0  ...   801.0   291.0   94500.0  4222.0   6365.0    65.0    39.0   \n",
       "4       179.0  ...   807.0   279.0   91300.0  4116.0   6298.0    75.0    40.0   \n",
       "...       ...  ...     ...     ...       ...     ...      ...     ...     ...   \n",
       "26299   351.0  ...  1897.0  1589.0  166500.0  9917.0  10412.0   324.0    21.0   \n",
       "26300   327.0  ...  1374.0  1336.0  158800.0  6812.0   8956.0   302.0    20.0   \n",
       "26301   283.0  ...   938.0  1311.0  154300.0  6602.0   5910.0   302.0    18.0   \n",
       "26302   292.0  ...   833.0  1227.0  141900.0  6546.0   5502.0   259.0    33.0   \n",
       "26303   294.0  ...   783.0  1089.0  112300.0  6188.0   4934.0   115.0    31.0   \n",
       "\n",
       "       MT_318  MT_319  MT_320  \n",
       "0      1558.0   182.0  2162.0  \n",
       "1      2177.0   253.0  2835.0  \n",
       "2      2193.0   218.0  2764.0  \n",
       "3      1315.0   195.0  2735.0  \n",
       "4      1378.0   191.0  2721.0  \n",
       "...       ...     ...     ...  \n",
       "26299  1870.0   162.0  2773.0  \n",
       "26300  1506.0   438.0  2755.0  \n",
       "26301  1864.0   621.0  2650.0  \n",
       "26302  2623.0   783.0  2719.0  \n",
       "26303  2706.0   647.0  2640.0  \n",
       "\n",
       "[26304 rows x 321 columns]"
      ]
     },
     "execution_count": 4,
     "metadata": {},
     "output_type": "execute_result"
    }
   ],
   "source": [
    "# importing data\n",
    "df=pd.read_csv('ECL.csv',index_col=None)\n",
    "# df.drop('Unnamed: 0',axis=1,inplace=True)\n",
    "df.iloc[:,1:]"
   ]
  },
  {
   "cell_type": "code",
   "execution_count": 5,
   "id": "273ef681",
   "metadata": {},
   "outputs": [
    {
     "data": {
      "text/html": [
       "<div>\n",
       "<style scoped>\n",
       "    .dataframe tbody tr th:only-of-type {\n",
       "        vertical-align: middle;\n",
       "    }\n",
       "\n",
       "    .dataframe tbody tr th {\n",
       "        vertical-align: top;\n",
       "    }\n",
       "\n",
       "    .dataframe thead th {\n",
       "        text-align: right;\n",
       "    }\n",
       "</style>\n",
       "<table border=\"1\" class=\"dataframe\">\n",
       "  <thead>\n",
       "    <tr style=\"text-align: right;\">\n",
       "      <th></th>\n",
       "      <th>date</th>\n",
       "      <th>MT_000</th>\n",
       "      <th>MT_001</th>\n",
       "      <th>MT_002</th>\n",
       "      <th>MT_003</th>\n",
       "      <th>MT_004</th>\n",
       "      <th>MT_005</th>\n",
       "      <th>MT_006</th>\n",
       "      <th>MT_007</th>\n",
       "      <th>MT_008</th>\n",
       "      <th>...</th>\n",
       "      <th>MT_311</th>\n",
       "      <th>MT_312</th>\n",
       "      <th>MT_313</th>\n",
       "      <th>MT_314</th>\n",
       "      <th>MT_315</th>\n",
       "      <th>MT_316</th>\n",
       "      <th>MT_317</th>\n",
       "      <th>MT_318</th>\n",
       "      <th>MT_319</th>\n",
       "      <th>MT_320</th>\n",
       "    </tr>\n",
       "  </thead>\n",
       "  <tbody>\n",
       "    <tr>\n",
       "      <th>0</th>\n",
       "      <td>2012-01-01 00:00:00</td>\n",
       "      <td>-0.383963</td>\n",
       "      <td>-1.717456</td>\n",
       "      <td>4.415142</td>\n",
       "      <td>-0.166026</td>\n",
       "      <td>0.207430</td>\n",
       "      <td>1.205817</td>\n",
       "      <td>0.111579</td>\n",
       "      <td>-0.788632</td>\n",
       "      <td>0.132863</td>\n",
       "      <td>...</td>\n",
       "      <td>-1.152405</td>\n",
       "      <td>-1.078146</td>\n",
       "      <td>-0.824564</td>\n",
       "      <td>-0.814015</td>\n",
       "      <td>-1.096380</td>\n",
       "      <td>-1.254792</td>\n",
       "      <td>-0.362370</td>\n",
       "      <td>-1.295120</td>\n",
       "      <td>-1.215257</td>\n",
       "      <td>-2.123739</td>\n",
       "    </tr>\n",
       "    <tr>\n",
       "      <th>1</th>\n",
       "      <td>2012-01-01 01:00:00</td>\n",
       "      <td>-0.218172</td>\n",
       "      <td>-0.817354</td>\n",
       "      <td>6.000848</td>\n",
       "      <td>0.757970</td>\n",
       "      <td>1.311752</td>\n",
       "      <td>2.435814</td>\n",
       "      <td>0.111579</td>\n",
       "      <td>0.343236</td>\n",
       "      <td>0.669914</td>\n",
       "      <td>...</td>\n",
       "      <td>-1.045917</td>\n",
       "      <td>-0.969454</td>\n",
       "      <td>-0.721176</td>\n",
       "      <td>-0.825585</td>\n",
       "      <td>-0.930532</td>\n",
       "      <td>-1.184322</td>\n",
       "      <td>-0.120617</td>\n",
       "      <td>-0.159900</td>\n",
       "      <td>-0.949777</td>\n",
       "      <td>-0.906177</td>\n",
       "    </tr>\n",
       "    <tr>\n",
       "      <th>2</th>\n",
       "      <td>2012-01-01 02:00:00</td>\n",
       "      <td>-0.093828</td>\n",
       "      <td>-0.660815</td>\n",
       "      <td>6.000848</td>\n",
       "      <td>0.784183</td>\n",
       "      <td>1.024915</td>\n",
       "      <td>1.943014</td>\n",
       "      <td>0.111579</td>\n",
       "      <td>0.010587</td>\n",
       "      <td>0.657979</td>\n",
       "      <td>...</td>\n",
       "      <td>-1.036011</td>\n",
       "      <td>-0.999344</td>\n",
       "      <td>-0.711591</td>\n",
       "      <td>-0.880087</td>\n",
       "      <td>-0.935256</td>\n",
       "      <td>-1.188467</td>\n",
       "      <td>-0.228063</td>\n",
       "      <td>-0.130557</td>\n",
       "      <td>-1.080648</td>\n",
       "      <td>-1.034627</td>\n",
       "    </tr>\n",
       "    <tr>\n",
       "      <th>3</th>\n",
       "      <td>2012-01-01 03:00:00</td>\n",
       "      <td>-0.135276</td>\n",
       "      <td>-0.817354</td>\n",
       "      <td>6.000848</td>\n",
       "      <td>0.017463</td>\n",
       "      <td>0.178746</td>\n",
       "      <td>0.360445</td>\n",
       "      <td>-0.070958</td>\n",
       "      <td>-0.818873</td>\n",
       "      <td>-0.428057</td>\n",
       "      <td>...</td>\n",
       "      <td>-1.049219</td>\n",
       "      <td>-1.188197</td>\n",
       "      <td>-0.725969</td>\n",
       "      <td>-0.889679</td>\n",
       "      <td>-0.956411</td>\n",
       "      <td>-1.184322</td>\n",
       "      <td>-0.335508</td>\n",
       "      <td>-1.740771</td>\n",
       "      <td>-1.166648</td>\n",
       "      <td>-1.087093</td>\n",
       "    </tr>\n",
       "    <tr>\n",
       "      <th>4</th>\n",
       "      <td>2012-01-01 04:00:00</td>\n",
       "      <td>-0.052380</td>\n",
       "      <td>-0.856489</td>\n",
       "      <td>6.000848</td>\n",
       "      <td>-0.618194</td>\n",
       "      <td>-0.151116</td>\n",
       "      <td>-0.432843</td>\n",
       "      <td>-0.363016</td>\n",
       "      <td>-1.250883</td>\n",
       "      <td>-0.344516</td>\n",
       "      <td>...</td>\n",
       "      <td>-1.044266</td>\n",
       "      <td>-1.204501</td>\n",
       "      <td>-0.747879</td>\n",
       "      <td>-0.905816</td>\n",
       "      <td>-0.963291</td>\n",
       "      <td>-1.142869</td>\n",
       "      <td>-0.308647</td>\n",
       "      <td>-1.625232</td>\n",
       "      <td>-1.181605</td>\n",
       "      <td>-1.112421</td>\n",
       "    </tr>\n",
       "    <tr>\n",
       "      <th>...</th>\n",
       "      <td>...</td>\n",
       "      <td>...</td>\n",
       "      <td>...</td>\n",
       "      <td>...</td>\n",
       "      <td>...</td>\n",
       "      <td>...</td>\n",
       "      <td>...</td>\n",
       "      <td>...</td>\n",
       "      <td>...</td>\n",
       "      <td>...</td>\n",
       "      <td>...</td>\n",
       "      <td>...</td>\n",
       "      <td>...</td>\n",
       "      <td>...</td>\n",
       "      <td>...</td>\n",
       "      <td>...</td>\n",
       "      <td>...</td>\n",
       "      <td>...</td>\n",
       "      <td>...</td>\n",
       "      <td>...</td>\n",
       "      <td>...</td>\n",
       "    </tr>\n",
       "    <tr>\n",
       "      <th>26299</th>\n",
       "      <td>2014-12-31 19:00:00</td>\n",
       "      <td>-0.508307</td>\n",
       "      <td>0.121883</td>\n",
       "      <td>-0.179340</td>\n",
       "      <td>2.645280</td>\n",
       "      <td>2.631202</td>\n",
       "      <td>3.345291</td>\n",
       "      <td>0.914738</td>\n",
       "      <td>1.682468</td>\n",
       "      <td>2.293001</td>\n",
       "      <td>...</td>\n",
       "      <td>-0.144486</td>\n",
       "      <td>0.575338</td>\n",
       "      <td>-0.232993</td>\n",
       "      <td>-0.022671</td>\n",
       "      <td>-0.540815</td>\n",
       "      <td>-0.110688</td>\n",
       "      <td>-0.819014</td>\n",
       "      <td>-0.722925</td>\n",
       "      <td>-1.290040</td>\n",
       "      <td>-1.018345</td>\n",
       "    </tr>\n",
       "    <tr>\n",
       "      <th>26300</th>\n",
       "      <td>2014-12-31 20:00:00</td>\n",
       "      <td>-0.508307</td>\n",
       "      <td>-0.386871</td>\n",
       "      <td>-0.179340</td>\n",
       "      <td>2.022730</td>\n",
       "      <td>2.444758</td>\n",
       "      <td>2.447833</td>\n",
       "      <td>0.768709</td>\n",
       "      <td>1.047413</td>\n",
       "      <td>1.839491</td>\n",
       "      <td>...</td>\n",
       "      <td>-0.576215</td>\n",
       "      <td>0.231598</td>\n",
       "      <td>-0.285714</td>\n",
       "      <td>-0.495377</td>\n",
       "      <td>-0.690335</td>\n",
       "      <td>-0.201885</td>\n",
       "      <td>-0.845875</td>\n",
       "      <td>-1.390485</td>\n",
       "      <td>-0.258035</td>\n",
       "      <td>-1.050910</td>\n",
       "    </tr>\n",
       "    <tr>\n",
       "      <th>26301</th>\n",
       "      <td>2014-12-31 21:00:00</td>\n",
       "      <td>-0.466859</td>\n",
       "      <td>-0.778219</td>\n",
       "      <td>-0.179340</td>\n",
       "      <td>1.373967</td>\n",
       "      <td>2.086212</td>\n",
       "      <td>2.111287</td>\n",
       "      <td>0.805216</td>\n",
       "      <td>0.243873</td>\n",
       "      <td>1.111489</td>\n",
       "      <td>...</td>\n",
       "      <td>-0.936127</td>\n",
       "      <td>0.197632</td>\n",
       "      <td>-0.316525</td>\n",
       "      <td>-0.527347</td>\n",
       "      <td>-1.003136</td>\n",
       "      <td>-0.201885</td>\n",
       "      <td>-0.899598</td>\n",
       "      <td>-0.733929</td>\n",
       "      <td>0.426230</td>\n",
       "      <td>-1.240871</td>\n",
       "    </tr>\n",
       "    <tr>\n",
       "      <th>26302</th>\n",
       "      <td>2014-12-31 22:00:00</td>\n",
       "      <td>-0.549754</td>\n",
       "      <td>-0.817354</td>\n",
       "      <td>-0.179340</td>\n",
       "      <td>1.347754</td>\n",
       "      <td>2.129238</td>\n",
       "      <td>2.027150</td>\n",
       "      <td>0.805216</td>\n",
       "      <td>-0.058534</td>\n",
       "      <td>0.872800</td>\n",
       "      <td>...</td>\n",
       "      <td>-1.022803</td>\n",
       "      <td>0.083505</td>\n",
       "      <td>-0.401427</td>\n",
       "      <td>-0.535873</td>\n",
       "      <td>-1.045034</td>\n",
       "      <td>-0.380133</td>\n",
       "      <td>-0.496677</td>\n",
       "      <td>0.658045</td>\n",
       "      <td>1.031973</td>\n",
       "      <td>-1.116039</td>\n",
       "    </tr>\n",
       "    <tr>\n",
       "      <th>26303</th>\n",
       "      <td>2014-12-31 23:00:00</td>\n",
       "      <td>-0.508307</td>\n",
       "      <td>-0.973894</td>\n",
       "      <td>-0.179340</td>\n",
       "      <td>1.360861</td>\n",
       "      <td>1.957136</td>\n",
       "      <td>1.918975</td>\n",
       "      <td>0.732202</td>\n",
       "      <td>-0.075815</td>\n",
       "      <td>0.550569</td>\n",
       "      <td>...</td>\n",
       "      <td>-1.064078</td>\n",
       "      <td>-0.103990</td>\n",
       "      <td>-0.604095</td>\n",
       "      <td>-0.590375</td>\n",
       "      <td>-1.103363</td>\n",
       "      <td>-0.977057</td>\n",
       "      <td>-0.550399</td>\n",
       "      <td>0.810263</td>\n",
       "      <td>0.523448</td>\n",
       "      <td>-1.258962</td>\n",
       "    </tr>\n",
       "  </tbody>\n",
       "</table>\n",
       "<p>26304 rows × 322 columns</p>\n",
       "</div>"
      ],
      "text/plain": [
       "                      date    MT_000    MT_001    MT_002    MT_003    MT_004  \\\n",
       "0      2012-01-01 00:00:00 -0.383963 -1.717456  4.415142 -0.166026  0.207430   \n",
       "1      2012-01-01 01:00:00 -0.218172 -0.817354  6.000848  0.757970  1.311752   \n",
       "2      2012-01-01 02:00:00 -0.093828 -0.660815  6.000848  0.784183  1.024915   \n",
       "3      2012-01-01 03:00:00 -0.135276 -0.817354  6.000848  0.017463  0.178746   \n",
       "4      2012-01-01 04:00:00 -0.052380 -0.856489  6.000848 -0.618194 -0.151116   \n",
       "...                    ...       ...       ...       ...       ...       ...   \n",
       "26299  2014-12-31 19:00:00 -0.508307  0.121883 -0.179340  2.645280  2.631202   \n",
       "26300  2014-12-31 20:00:00 -0.508307 -0.386871 -0.179340  2.022730  2.444758   \n",
       "26301  2014-12-31 21:00:00 -0.466859 -0.778219 -0.179340  1.373967  2.086212   \n",
       "26302  2014-12-31 22:00:00 -0.549754 -0.817354 -0.179340  1.347754  2.129238   \n",
       "26303  2014-12-31 23:00:00 -0.508307 -0.973894 -0.179340  1.360861  1.957136   \n",
       "\n",
       "         MT_005    MT_006    MT_007    MT_008  ...    MT_311    MT_312  \\\n",
       "0      1.205817  0.111579 -0.788632  0.132863  ... -1.152405 -1.078146   \n",
       "1      2.435814  0.111579  0.343236  0.669914  ... -1.045917 -0.969454   \n",
       "2      1.943014  0.111579  0.010587  0.657979  ... -1.036011 -0.999344   \n",
       "3      0.360445 -0.070958 -0.818873 -0.428057  ... -1.049219 -1.188197   \n",
       "4     -0.432843 -0.363016 -1.250883 -0.344516  ... -1.044266 -1.204501   \n",
       "...         ...       ...       ...       ...  ...       ...       ...   \n",
       "26299  3.345291  0.914738  1.682468  2.293001  ... -0.144486  0.575338   \n",
       "26300  2.447833  0.768709  1.047413  1.839491  ... -0.576215  0.231598   \n",
       "26301  2.111287  0.805216  0.243873  1.111489  ... -0.936127  0.197632   \n",
       "26302  2.027150  0.805216 -0.058534  0.872800  ... -1.022803  0.083505   \n",
       "26303  1.918975  0.732202 -0.075815  0.550569  ... -1.064078 -0.103990   \n",
       "\n",
       "         MT_313    MT_314    MT_315    MT_316    MT_317    MT_318    MT_319  \\\n",
       "0     -0.824564 -0.814015 -1.096380 -1.254792 -0.362370 -1.295120 -1.215257   \n",
       "1     -0.721176 -0.825585 -0.930532 -1.184322 -0.120617 -0.159900 -0.949777   \n",
       "2     -0.711591 -0.880087 -0.935256 -1.188467 -0.228063 -0.130557 -1.080648   \n",
       "3     -0.725969 -0.889679 -0.956411 -1.184322 -0.335508 -1.740771 -1.166648   \n",
       "4     -0.747879 -0.905816 -0.963291 -1.142869 -0.308647 -1.625232 -1.181605   \n",
       "...         ...       ...       ...       ...       ...       ...       ...   \n",
       "26299 -0.232993 -0.022671 -0.540815 -0.110688 -0.819014 -0.722925 -1.290040   \n",
       "26300 -0.285714 -0.495377 -0.690335 -0.201885 -0.845875 -1.390485 -0.258035   \n",
       "26301 -0.316525 -0.527347 -1.003136 -0.201885 -0.899598 -0.733929  0.426230   \n",
       "26302 -0.401427 -0.535873 -1.045034 -0.380133 -0.496677  0.658045  1.031973   \n",
       "26303 -0.604095 -0.590375 -1.103363 -0.977057 -0.550399  0.810263  0.523448   \n",
       "\n",
       "         MT_320  \n",
       "0     -2.123739  \n",
       "1     -0.906177  \n",
       "2     -1.034627  \n",
       "3     -1.087093  \n",
       "4     -1.112421  \n",
       "...         ...  \n",
       "26299 -1.018345  \n",
       "26300 -1.050910  \n",
       "26301 -1.240871  \n",
       "26302 -1.116039  \n",
       "26303 -1.258962  \n",
       "\n",
       "[26304 rows x 322 columns]"
      ]
     },
     "execution_count": 5,
     "metadata": {},
     "output_type": "execute_result"
    }
   ],
   "source": [
    "# standard scalar normalisation \n",
    "scaler = StandardScaler()\n",
    "df.iloc[:,1:] = scaler.fit_transform(df.iloc[:,1:])\n",
    "df"
   ]
  },
  {
   "cell_type": "code",
   "execution_count": 6,
   "id": "IMhozIdUX4fg",
   "metadata": {
    "id": "IMhozIdUX4fg"
   },
   "outputs": [],
   "source": [
    "# pytorch dataset class\n",
    "class weather_data(torch.utils.data.Dataset):\n",
    "    def __init__(self, df, mode=\"train\", seq_len=336, pred_len=96,num_feat=321):\n",
    "        super().__init__()\n",
    "        self.num_feat=num_feat\n",
    "        self.df = df.iloc[:,1:num_feat+1]\n",
    "        # time_stamp = df.iloc[:,0]\n",
    "\n",
    "        assert mode in ['train', 'test', 'val']\n",
    "        type_map = {'train': 0, 'val': 1, 'test': 2}\n",
    "        self.set_type = type_map[mode]\n",
    "\n",
    "        self.seq_len = seq_len\n",
    "        self.pred_len = pred_len\n",
    "        dataset_len=len(df)\n",
    "\n",
    "        border1s = [0, int(round(0.7*dataset_len,0)) - self.seq_len, int(round(0.7*dataset_len,0)) + int(round(0.1*dataset_len,0)) - self.seq_len]\n",
    "        border2s = [int(round(0.7*dataset_len,0)), int(round(0.7*dataset_len,0)) + int(round(0.1*dataset_len,0)), int(round(0.7*dataset_len,0)) + int(round(0.1*dataset_len,0)) + int(round(0.2*dataset_len,0))]\n",
    "        border1 = border1s[self.set_type]\n",
    "        border2 = border2s[self.set_type]\n",
    "\n",
    "\n",
    "\n",
    "\n",
    "        self.df = self.df.to_numpy(dtype=np.float32)\n",
    "        # time_stamp = time_stamp.to_numpy()\n",
    "\n",
    "        self.data_x = self.df[border1: border2, :]\n",
    "        self.data_y = self.df[border1: border2, :]\n",
    "\n",
    "        # self.data_stamp = time_stamp[border1: border2]\n",
    "\n",
    "    def __getitem__(self, index):\n",
    "        s_begin = index\n",
    "        s_end = s_begin + self.seq_len\n",
    "        r_begin = s_end\n",
    "        r_end = r_begin + self.pred_len\n",
    "\n",
    "        seq_x = self.data_x[s_begin:s_end]\n",
    "        seq_y = self.data_y[r_begin:r_end]\n",
    "        return seq_x, seq_y\n",
    "\n",
    "\n",
    "    def __len__(self):\n",
    "        return len(self.data_x) - self.seq_len - self.pred_len + 1"
   ]
  },
  {
   "cell_type": "code",
   "execution_count": 7,
   "id": "Ds8C5Wv1TZJy",
   "metadata": {
    "colab": {
     "base_uri": "https://localhost:8080/"
    },
    "id": "Ds8C5Wv1TZJy",
    "outputId": "3523cc60-dc4f-4830-acb8-8140b52c92dd"
   },
   "outputs": [
    {
     "name": "stdout",
     "output_type": "stream",
     "text": [
      "17982 2535 5166\n"
     ]
    }
   ],
   "source": [
    "from torch.utils.data import DataLoader\n",
    "\n",
    "train_dataset = weather_data(df=df)\n",
    "valid_dataset = weather_data(df=df,mode=\"val\")\n",
    "test_dataset = weather_data(df=df,mode=\"test\")\n",
    "\n",
    "print(len(train_dataset),len(valid_dataset),len(test_dataset))"
   ]
  },
  {
   "cell_type": "code",
   "execution_count": 8,
   "id": "70a18f29",
   "metadata": {
    "id": "70a18f29"
   },
   "outputs": [
    {
     "data": {
      "text/plain": [
       "(96, 321)"
      ]
     },
     "execution_count": 8,
     "metadata": {},
     "output_type": "execute_result"
    }
   ],
   "source": [
    "train_dataset[1][1].shape"
   ]
  },
  {
   "cell_type": "code",
   "execution_count": 9,
   "id": "a2c85a51",
   "metadata": {},
   "outputs": [
    {
     "data": {
      "text/plain": [
       "PatchTST.PatchTST_supervised.models.PatchTST.Model"
      ]
     },
     "execution_count": 9,
     "metadata": {},
     "output_type": "execute_result"
    }
   ],
   "source": [
    "import os\n",
    "current_directory = os.getcwd()\n",
    "os.chdir(current_directory+r\"\\PatchTST\\PatchTST_supervised\")\n",
    "from PatchTST.PatchTST_supervised.models.PatchTST import Model\n",
    "os.chdir(current_directory)\n",
    "Model"
   ]
  },
  {
   "cell_type": "code",
   "execution_count": 10,
   "id": "322a0ff3",
   "metadata": {},
   "outputs": [],
   "source": [
    "# input configerations of model\n",
    "class Configs:\n",
    "    def __init__(self):\n",
    "        self.enc_in = 321\n",
    "        self.seq_len = 336\n",
    "        self.pred_len = 96\n",
    "        self.e_layers = 3\n",
    "        self.n_heads = 4\n",
    "        self.d_model = 16\n",
    "        self.d_ff = 128\n",
    "        self.dropout = 0.4\n",
    "        self.fc_dropout = 0.\n",
    "        self.head_dropout = 0.\n",
    "        self.individual = True\n",
    "        self.patch_len = 24\n",
    "        self.stride = 6\n",
    "        self.padding_patch = True\n",
    "        self.revin = True\n",
    "        self.affine = False\n",
    "        self.subtract_last = False\n",
    "        self.decomposition = False\n",
    "        self.kernel_size = 25\n",
    "        \n",
    "my_configs = Configs()\n",
    "model=Model(configs=my_configs)\n"
   ]
  },
  {
   "cell_type": "code",
   "execution_count": 11,
   "id": "ae7d340f",
   "metadata": {},
   "outputs": [
    {
     "data": {
      "text/plain": [
       "'\\nclass Configs:\\n    def __init__(self):\\n        self.enc_in = 12\\n        self.seq_len = 336\\n        self.pred_len = 96\\n        self.e_layers = 3\\n        self.n_heads = 8\\n        self.d_model = 32*2\\n        self.d_ff = 1052\\n        self.dropout = 0.4\\n        self.fc_dropout = 0.\\n        self.head_dropout = 0.\\n        self.individual = True\\n        self.patch_len = 24\\n        self.stride = 8\\n        self.padding_patch = True\\n        self.revin = True\\n        self.affine = False\\n        self.subtract_last = False\\n        self.decomposition = False\\n        self.kernel_size = 25\\n        \\nmy_configs = Configs()\\nmodel=Model(configs=my_configs)\\n'"
      ]
     },
     "execution_count": 11,
     "metadata": {},
     "output_type": "execute_result"
    }
   ],
   "source": [
    "'''\n",
    "class Configs:\n",
    "    def __init__(self):\n",
    "        self.enc_in = 12\n",
    "        self.seq_len = 336\n",
    "        self.pred_len = 96\n",
    "        self.e_layers = 3\n",
    "        self.n_heads = 8\n",
    "        self.d_model = 32*2\n",
    "        self.d_ff = 1052\n",
    "        self.dropout = 0.4\n",
    "        self.fc_dropout = 0.\n",
    "        self.head_dropout = 0.\n",
    "        self.individual = True\n",
    "        self.patch_len = 24\n",
    "        self.stride = 8\n",
    "        self.padding_patch = True\n",
    "        self.revin = True\n",
    "        self.affine = False\n",
    "        self.subtract_last = False\n",
    "        self.decomposition = False\n",
    "        self.kernel_size = 25\n",
    "        \n",
    "my_configs = Configs()\n",
    "model=Model(configs=my_configs)\n",
    "'''"
   ]
  },
  {
   "cell_type": "code",
   "execution_count": 12,
   "id": "94fdb9c2",
   "metadata": {},
   "outputs": [
    {
     "data": {
      "text/plain": [
       "torch.Size([1, 96, 321])"
      ]
     },
     "execution_count": 12,
     "metadata": {},
     "output_type": "execute_result"
    }
   ],
   "source": [
    "dat=torch.from_numpy(train_dataset[0][0])\n",
    "dat=dat.unsqueeze(dim=0)\n",
    "dat.shape\n",
    "model(dat).shape"
   ]
  },
  {
   "cell_type": "code",
   "execution_count": 14,
   "id": "4e2b4427",
   "metadata": {
    "colab": {
     "base_uri": "https://localhost:8080/"
    },
    "id": "4e2b4427",
    "outputId": "be9af307-b172-4a69-ffd9-61220cb69e4e"
   },
   "outputs": [
    {
     "data": {
      "text/plain": [
       "0"
      ]
     },
     "execution_count": 14,
     "metadata": {},
     "output_type": "execute_result"
    }
   ],
   "source": [
    "# clearing gpu cache\n",
    "import gc\n",
    "torch.cuda.empty_cache()\n",
    "gc.collect()"
   ]
  },
  {
   "cell_type": "code",
   "execution_count": 15,
   "id": "032b97a3",
   "metadata": {
    "id": "032b97a3"
   },
   "outputs": [
    {
     "data": {
      "text/plain": [
       "'\\n            # plotting\\n            \\n            for i,j in zip(test_pred[0],test_y[0]):\\n                pass\\n            # print(i[ind].item())\\n                test_pred_plot.append(i[ind].item())\\n            # print(j[ind].item())\\n                test_y_plot.append(j[ind].item())\\n        sns.lineplot(x=list(range(len(test_pred_plot)))[:96], y=test_pred_plot[:96], label=\"predicted\")\\n        sns.lineplot(x=list(range(len(test_y_plot)))[:96], y=test_y_plot[:96], label=\"actual\")\\n        plt.legend(title=\\'Lines\\')\\n        plt.show()\\n        test_total_loss/= test_iter_count\\n        print(\"MSE test loss: \",test_total_loss)\\n\\n        '"
      ]
     },
     "execution_count": 15,
     "metadata": {},
     "output_type": "execute_result"
    }
   ],
   "source": [
    "# custom model class\n",
    "class model_run:\n",
    "    def __init__(self,model=model):\n",
    "        self.patchtst_model = model\n",
    "    # to display model architecture  \n",
    "    def model_architecture(self):\n",
    "        n=0\n",
    "        for x in self.patchtst_model.state_dict():\n",
    "            n=n+1\n",
    "            print(x)\n",
    "        print(\"layers= \",n)\n",
    "    # loading datasets into batches\n",
    "    def load_datasets(self,train_dataset=train_dataset,valid_dataset=valid_dataset,test_dataset=test_dataset):\n",
    "        self.train_dataset=train_dataset\n",
    "        self.valid_dataset=valid_dataset\n",
    "        self.test_dataset=test_dataset\n",
    "\n",
    "\n",
    "    # setting hyperparameters\n",
    "    def model_hyperparameters(self,batch_size=16,lr=0.00005,epochs=100,cuda=True,Dataloader=DataLoader):\n",
    "        self.batch_size = batch_size\n",
    "        self.lr=lr # learning rate\n",
    "        self.epochs=epochs # number of epochs\n",
    "\n",
    "        self.train_dataloader = DataLoader(self.train_dataset, batch_size=batch_size, shuffle=True)\n",
    "        self.test_dataloader = DataLoader(self.test_dataset, batch_size=1, shuffle=False)\n",
    "        self.valid_dataloader = DataLoader(self.valid_dataset, batch_size=batch_size, shuffle=True)\n",
    "\n",
    "        # model to cuda gpu format\n",
    "        if cuda:\n",
    "            self.patchtst_model=self.patchtst_model.to(\"cuda\")\n",
    "\n",
    "        self.optimizer = torch.optim.Adam(self.patchtst_model.parameters(), lr=self.lr)\n",
    "        self.loss = torch.nn.MSELoss() # mean squared error loss\n",
    "        self.loss_mae=torch.nn.L1Loss() # mean absolute error\n",
    "\n",
    "    def model_execute(self,):\n",
    "        self.load_datasets()\n",
    "        self.model_hyperparameters()\n",
    "\n",
    "        for epoch in range(self.epochs):\n",
    "            iter_count = 0\n",
    "            total_loss = 0\n",
    "            train_steps=0\n",
    "            total_train_mae_loss=0\n",
    "\n",
    "            for train_x, train_y in tqdm(self.train_dataloader):\n",
    "                train_x = train_x.to(\"cuda\")\n",
    "                train_y = train_y.to(\"cuda\")\n",
    "                \n",
    "                self.i=train_x\n",
    "                pred_y = self.patchtst_model(train_x)\n",
    "                # print(train_x.shape)\n",
    "                # print(train_y.shape)\n",
    "                # print(pred_y.shape)\n",
    "                train_mae_loss=self.loss_mae(pred_y, train_y)\n",
    "\n",
    "                loss_t = self.loss(pred_y, train_y)\n",
    "                self.optimizer.zero_grad()\n",
    "                loss_t.backward()\n",
    "                self.optimizer.step()\n",
    "                total_loss += loss_t.item()\n",
    "                total_train_mae_loss += train_mae_loss.item()\n",
    "                iter_count += 1\n",
    "                train_steps += 1\n",
    "\n",
    "            valid_iter_count = 0\n",
    "            valid_total_loss = 0\n",
    "            valid_total_mae = 0\n",
    "            with torch.no_grad():\n",
    "                for valid_x, valid_y in self.valid_dataloader:\n",
    "                    valid_x = valid_x.to(\"cuda\")\n",
    "                    valid_y = valid_y.to(\"cuda\")\n",
    "                    pred_y = self.patchtst_model(valid_x)\n",
    "                    loss_v = self.loss(pred_y, valid_y)\n",
    "                    valid_loss_mae=self.loss_mae(pred_y, valid_y)\n",
    "\n",
    "                    valid_total_loss += loss_v.item()\n",
    "                    valid_iter_count += 1\n",
    "\n",
    "                    valid_total_mae+=valid_loss_mae.item()\n",
    "\n",
    "                total_loss /= iter_count\n",
    "                total_train_mae_loss /= iter_count\n",
    "\n",
    "                valid_total_loss /= valid_iter_count\n",
    "                valid_total_mae /= valid_iter_count\n",
    "                wandb.log({\"MSE Train\": total_loss, \"MSE Test\": valid_total_loss,\"MAE Train\": total_train_mae_loss,\"MAE Test\": valid_total_mae})\n",
    "\n",
    "                print(\"epoch: {} MSE loss: {:.4f} MSE valid loss: {:.4f}\".format(epoch, total_loss, valid_total_loss))\n",
    "                print(\"          MAE loss: {:.4f} MAE valid loss: {:.4f}\".format(total_train_mae_loss, valid_total_mae))\n",
    "\n",
    "    def save_model(self,name):\n",
    "        torch.save(self.patchtst_model.state_dict(), name+'.pth')\n",
    "\n",
    "\n",
    "    def test_plots(self,ind=3,df_columns=None,scaler=None,column=None):\n",
    "        test_total_loss = 0\n",
    "        test_total_loss_mae=0\n",
    "        test_iter_count = 0\n",
    "        test_pred_plot=[]\n",
    "        test_y_plot=[]\n",
    "        \n",
    "        df_y_final=pd.DataFrame(columns=df_columns)\n",
    "        df_pred_final=pd.DataFrame(columns=df_columns)\n",
    "        \n",
    "        for test_x, test_y in self.test_dataloader:\n",
    "            test_x = test_x.to(\"cuda\")\n",
    "            test_y = test_y.to(\"cuda\")\n",
    "            test_pred=self.patchtst_model(test_x.to(\"cuda\"))\n",
    "            # print(test_pred.shape)\n",
    "            # print(test_y.shape)\n",
    "            loss_test=self.loss(test_pred, test_y)\n",
    "            test_total_loss += loss_test.item()\n",
    "            \n",
    "            loss_test_mae=self.loss_mae(test_pred, test_y)\n",
    "            test_total_loss_mae+=loss_test_mae.item()\n",
    "            \n",
    "            test_iter_count += 1\n",
    "              \n",
    "            df_y=pd.DataFrame(test_y[0].to(\"cpu\").numpy(),columns=df_columns)\n",
    "            df_pred=pd.DataFrame(test_pred[0].to(\"cpu\").detach().numpy(),columns=df_columns)\n",
    "            \n",
    "            df_y_final = pd.concat([df_y_final, df_y], axis=0)\n",
    "            df_pred_final = pd.concat([df_pred_final, df_pred], axis=0)\n",
    "        df_pred_final=scaler.inverse_transform(df_pred_final)   \n",
    "        df_y_final=scaler.inverse_transform(df_y_final)\n",
    "        \n",
    "        df_pred_final=pd.DataFrame(df_pred_final,columns=df_columns)\n",
    "        df_y_final=pd.DataFrame(df_y_final,columns=df_columns)\n",
    "        \n",
    "        \n",
    "        sns.lineplot(x=list(range(len(df_y_final)))[:96], y=df_y_final[column][:96], label=\"GroundTruth\")\n",
    "        sns.lineplot(x=list(range(len(df_pred_final)))[:96], y=df_pred_final[column][:96], label=\"Prediction\")\n",
    "        plt.legend(title='Type')\n",
    "        plt.xlabel('Time Step')\n",
    "        plt.title(\"Predicted vs Actual\")\n",
    "        plt.show()\n",
    "        \n",
    "        \n",
    "        test_total_loss/= test_iter_count\n",
    "        test_total_loss_mae/=test_iter_count\n",
    "        print(\"MSE test loss: \",test_total_loss)\n",
    "        print(\"MAE test loss: \",test_total_loss_mae)\n",
    "         \n",
    "'''\n",
    "            # plotting\n",
    "            \n",
    "            for i,j in zip(test_pred[0],test_y[0]):\n",
    "                pass\n",
    "            # print(i[ind].item())\n",
    "                test_pred_plot.append(i[ind].item())\n",
    "            # print(j[ind].item())\n",
    "                test_y_plot.append(j[ind].item())\n",
    "        sns.lineplot(x=list(range(len(test_pred_plot)))[:96], y=test_pred_plot[:96], label=\"predicted\")\n",
    "        sns.lineplot(x=list(range(len(test_y_plot)))[:96], y=test_y_plot[:96], label=\"actual\")\n",
    "        plt.legend(title='Lines')\n",
    "        plt.show()\n",
    "        test_total_loss/= test_iter_count\n",
    "        print(\"MSE test loss: \",test_total_loss)\n",
    "\n",
    "        '''\n"
   ]
  },
  {
   "cell_type": "code",
   "execution_count": 16,
   "id": "c4be2e6f",
   "metadata": {
    "id": "c4be2e6f"
   },
   "outputs": [],
   "source": [
    "x=model_run(model=model)"
   ]
  },
  {
   "cell_type": "code",
   "execution_count": 17,
   "id": "PRq_t36mOl4T",
   "metadata": {
    "colab": {
     "base_uri": "https://localhost:8080/",
     "height": 1000
    },
    "id": "PRq_t36mOl4T",
    "outputId": "36d03252-4ea5-48cc-b8ce-66ec139f0b65"
   },
   "outputs": [
    {
     "name": "stderr",
     "output_type": "stream",
     "text": [
      "100%|██████████████████████████████████████████████████████████████████████████████| 1124/1124 [06:42<00:00,  2.79it/s]\n"
     ]
    },
    {
     "name": "stdout",
     "output_type": "stream",
     "text": [
      "epoch: 0 MSE loss: 0.3346 MSE valid loss: 0.1996\n",
      "          MAE loss: 0.4198 MAE valid loss: 0.3192\n"
     ]
    },
    {
     "name": "stderr",
     "output_type": "stream",
     "text": [
      "100%|██████████████████████████████████████████████████████████████████████████████| 1124/1124 [06:44<00:00,  2.78it/s]\n"
     ]
    },
    {
     "name": "stdout",
     "output_type": "stream",
     "text": [
      "epoch: 1 MSE loss: 0.2063 MSE valid loss: 0.1652\n",
      "          MAE loss: 0.3214 MAE valid loss: 0.2819\n"
     ]
    },
    {
     "name": "stderr",
     "output_type": "stream",
     "text": [
      "100%|██████████████████████████████████████████████████████████████████████████████| 1124/1124 [06:44<00:00,  2.78it/s]\n"
     ]
    },
    {
     "name": "stdout",
     "output_type": "stream",
     "text": [
      "epoch: 2 MSE loss: 0.1826 MSE valid loss: 0.1535\n",
      "          MAE loss: 0.2967 MAE valid loss: 0.2675\n"
     ]
    },
    {
     "name": "stderr",
     "output_type": "stream",
     "text": [
      "100%|██████████████████████████████████████████████████████████████████████████████| 1124/1124 [06:44<00:00,  2.78it/s]\n"
     ]
    },
    {
     "name": "stdout",
     "output_type": "stream",
     "text": [
      "epoch: 3 MSE loss: 0.1727 MSE valid loss: 0.1471\n",
      "          MAE loss: 0.2854 MAE valid loss: 0.2593\n"
     ]
    },
    {
     "name": "stderr",
     "output_type": "stream",
     "text": [
      "100%|██████████████████████████████████████████████████████████████████████████████| 1124/1124 [06:44<00:00,  2.78it/s]\n"
     ]
    },
    {
     "name": "stdout",
     "output_type": "stream",
     "text": [
      "epoch: 4 MSE loss: 0.1671 MSE valid loss: 0.1434\n",
      "          MAE loss: 0.2787 MAE valid loss: 0.2544\n"
     ]
    },
    {
     "name": "stderr",
     "output_type": "stream",
     "text": [
      "100%|██████████████████████████████████████████████████████████████████████████████| 1124/1124 [06:48<00:00,  2.75it/s]\n"
     ]
    },
    {
     "name": "stdout",
     "output_type": "stream",
     "text": [
      "epoch: 5 MSE loss: 0.1632 MSE valid loss: 0.1407\n",
      "          MAE loss: 0.2741 MAE valid loss: 0.2506\n"
     ]
    },
    {
     "name": "stderr",
     "output_type": "stream",
     "text": [
      "100%|██████████████████████████████████████████████████████████████████████████████| 1124/1124 [06:50<00:00,  2.74it/s]\n"
     ]
    },
    {
     "name": "stdout",
     "output_type": "stream",
     "text": [
      "epoch: 6 MSE loss: 0.1603 MSE valid loss: 0.1383\n",
      "          MAE loss: 0.2706 MAE valid loss: 0.2475\n"
     ]
    },
    {
     "name": "stderr",
     "output_type": "stream",
     "text": [
      "100%|██████████████████████████████████████████████████████████████████████████████| 1124/1124 [06:51<00:00,  2.73it/s]\n"
     ]
    },
    {
     "name": "stdout",
     "output_type": "stream",
     "text": [
      "epoch: 7 MSE loss: 0.1580 MSE valid loss: 0.1369\n",
      "          MAE loss: 0.2679 MAE valid loss: 0.2454\n"
     ]
    },
    {
     "name": "stderr",
     "output_type": "stream",
     "text": [
      "100%|██████████████████████████████████████████████████████████████████████████████| 1124/1124 [06:50<00:00,  2.74it/s]\n"
     ]
    },
    {
     "name": "stdout",
     "output_type": "stream",
     "text": [
      "epoch: 8 MSE loss: 0.1562 MSE valid loss: 0.1358\n",
      "          MAE loss: 0.2658 MAE valid loss: 0.2440\n"
     ]
    },
    {
     "name": "stderr",
     "output_type": "stream",
     "text": [
      "100%|██████████████████████████████████████████████████████████████████████████████| 1124/1124 [06:50<00:00,  2.74it/s]\n"
     ]
    },
    {
     "name": "stdout",
     "output_type": "stream",
     "text": [
      "epoch: 9 MSE loss: 0.1547 MSE valid loss: 0.1344\n",
      "          MAE loss: 0.2640 MAE valid loss: 0.2423\n"
     ]
    },
    {
     "name": "stderr",
     "output_type": "stream",
     "text": [
      "100%|██████████████████████████████████████████████████████████████████████████████| 1124/1124 [06:53<00:00,  2.72it/s]\n"
     ]
    },
    {
     "name": "stdout",
     "output_type": "stream",
     "text": [
      "epoch: 10 MSE loss: 0.1534 MSE valid loss: 0.1338\n",
      "          MAE loss: 0.2626 MAE valid loss: 0.2413\n"
     ]
    },
    {
     "name": "stderr",
     "output_type": "stream",
     "text": [
      "100%|██████████████████████████████████████████████████████████████████████████████| 1124/1124 [06:50<00:00,  2.74it/s]\n"
     ]
    },
    {
     "name": "stdout",
     "output_type": "stream",
     "text": [
      "epoch: 11 MSE loss: 0.1523 MSE valid loss: 0.1328\n",
      "          MAE loss: 0.2613 MAE valid loss: 0.2400\n"
     ]
    },
    {
     "name": "stderr",
     "output_type": "stream",
     "text": [
      "100%|██████████████████████████████████████████████████████████████████████████████| 1124/1124 [06:51<00:00,  2.73it/s]\n"
     ]
    },
    {
     "name": "stdout",
     "output_type": "stream",
     "text": [
      "epoch: 12 MSE loss: 0.1513 MSE valid loss: 0.1321\n",
      "          MAE loss: 0.2602 MAE valid loss: 0.2392\n"
     ]
    },
    {
     "name": "stderr",
     "output_type": "stream",
     "text": [
      "100%|██████████████████████████████████████████████████████████████████████████████| 1124/1124 [06:50<00:00,  2.74it/s]\n"
     ]
    },
    {
     "name": "stdout",
     "output_type": "stream",
     "text": [
      "epoch: 13 MSE loss: 0.1504 MSE valid loss: 0.1318\n",
      "          MAE loss: 0.2592 MAE valid loss: 0.2385\n"
     ]
    },
    {
     "name": "stderr",
     "output_type": "stream",
     "text": [
      "100%|██████████████████████████████████████████████████████████████████████████████| 1124/1124 [06:51<00:00,  2.73it/s]\n"
     ]
    },
    {
     "name": "stdout",
     "output_type": "stream",
     "text": [
      "epoch: 14 MSE loss: 0.1495 MSE valid loss: 0.1311\n",
      "          MAE loss: 0.2582 MAE valid loss: 0.2378\n"
     ]
    },
    {
     "name": "stderr",
     "output_type": "stream",
     "text": [
      "100%|██████████████████████████████████████████████████████████████████████████████| 1124/1124 [06:51<00:00,  2.73it/s]\n"
     ]
    },
    {
     "name": "stdout",
     "output_type": "stream",
     "text": [
      "epoch: 15 MSE loss: 0.1487 MSE valid loss: 0.1306\n",
      "          MAE loss: 0.2574 MAE valid loss: 0.2371\n"
     ]
    },
    {
     "name": "stderr",
     "output_type": "stream",
     "text": [
      "100%|██████████████████████████████████████████████████████████████████████████████| 1124/1124 [06:51<00:00,  2.73it/s]\n"
     ]
    },
    {
     "name": "stdout",
     "output_type": "stream",
     "text": [
      "epoch: 16 MSE loss: 0.1479 MSE valid loss: 0.1301\n",
      "          MAE loss: 0.2565 MAE valid loss: 0.2364\n"
     ]
    },
    {
     "name": "stderr",
     "output_type": "stream",
     "text": [
      "100%|██████████████████████████████████████████████████████████████████████████████| 1124/1124 [06:51<00:00,  2.73it/s]\n"
     ]
    },
    {
     "name": "stdout",
     "output_type": "stream",
     "text": [
      "epoch: 17 MSE loss: 0.1472 MSE valid loss: 0.1296\n",
      "          MAE loss: 0.2557 MAE valid loss: 0.2357\n"
     ]
    },
    {
     "name": "stderr",
     "output_type": "stream",
     "text": [
      "100%|██████████████████████████████████████████████████████████████████████████████| 1124/1124 [06:46<00:00,  2.77it/s]\n"
     ]
    },
    {
     "name": "stdout",
     "output_type": "stream",
     "text": [
      "epoch: 18 MSE loss: 0.1465 MSE valid loss: 0.1293\n",
      "          MAE loss: 0.2549 MAE valid loss: 0.2352\n"
     ]
    },
    {
     "name": "stderr",
     "output_type": "stream",
     "text": [
      "100%|██████████████████████████████████████████████████████████████████████████████| 1124/1124 [06:44<00:00,  2.78it/s]\n"
     ]
    },
    {
     "name": "stdout",
     "output_type": "stream",
     "text": [
      "epoch: 19 MSE loss: 0.1458 MSE valid loss: 0.1289\n",
      "          MAE loss: 0.2541 MAE valid loss: 0.2346\n"
     ]
    },
    {
     "name": "stderr",
     "output_type": "stream",
     "text": [
      "100%|██████████████████████████████████████████████████████████████████████████████| 1124/1124 [06:44<00:00,  2.78it/s]\n"
     ]
    },
    {
     "name": "stdout",
     "output_type": "stream",
     "text": [
      "epoch: 20 MSE loss: 0.1452 MSE valid loss: 0.1285\n",
      "          MAE loss: 0.2534 MAE valid loss: 0.2343\n"
     ]
    },
    {
     "name": "stderr",
     "output_type": "stream",
     "text": [
      "100%|██████████████████████████████████████████████████████████████████████████████| 1124/1124 [06:45<00:00,  2.77it/s]\n"
     ]
    },
    {
     "name": "stdout",
     "output_type": "stream",
     "text": [
      "epoch: 21 MSE loss: 0.1446 MSE valid loss: 0.1282\n",
      "          MAE loss: 0.2528 MAE valid loss: 0.2337\n"
     ]
    },
    {
     "name": "stderr",
     "output_type": "stream",
     "text": [
      "  1%|▉                                                                               | 13/1124 [00:04<06:40,  2.77it/s]\n"
     ]
    },
    {
     "ename": "KeyboardInterrupt",
     "evalue": "",
     "output_type": "error",
     "traceback": [
      "\u001b[1;31m---------------------------------------------------------------------------\u001b[0m",
      "\u001b[1;31mKeyboardInterrupt\u001b[0m                         Traceback (most recent call last)",
      "Cell \u001b[1;32mIn[17], line 1\u001b[0m\n\u001b[1;32m----> 1\u001b[0m \u001b[43mx\u001b[49m\u001b[38;5;241;43m.\u001b[39;49m\u001b[43mmodel_execute\u001b[49m\u001b[43m(\u001b[49m\u001b[43m)\u001b[49m\n",
      "Cell \u001b[1;32mIn[15], line 46\u001b[0m, in \u001b[0;36mmodel_run.model_execute\u001b[1;34m(self)\u001b[0m\n\u001b[0;32m     43\u001b[0m train_steps\u001b[38;5;241m=\u001b[39m\u001b[38;5;241m0\u001b[39m\n\u001b[0;32m     44\u001b[0m total_train_mae_loss\u001b[38;5;241m=\u001b[39m\u001b[38;5;241m0\u001b[39m\n\u001b[1;32m---> 46\u001b[0m \u001b[38;5;28;01mfor\u001b[39;00m train_x, train_y \u001b[38;5;129;01min\u001b[39;00m tqdm(\u001b[38;5;28mself\u001b[39m\u001b[38;5;241m.\u001b[39mtrain_dataloader):\n\u001b[0;32m     47\u001b[0m     train_x \u001b[38;5;241m=\u001b[39m train_x\u001b[38;5;241m.\u001b[39mto(\u001b[38;5;124m\"\u001b[39m\u001b[38;5;124mcuda\u001b[39m\u001b[38;5;124m\"\u001b[39m)\n\u001b[0;32m     48\u001b[0m     train_y \u001b[38;5;241m=\u001b[39m train_y\u001b[38;5;241m.\u001b[39mto(\u001b[38;5;124m\"\u001b[39m\u001b[38;5;124mcuda\u001b[39m\u001b[38;5;124m\"\u001b[39m)\n",
      "File \u001b[1;32m~\\miniconda3\\envs\\tf_gpu\\lib\\site-packages\\tqdm\\std.py:1188\u001b[0m, in \u001b[0;36mtqdm.__iter__\u001b[1;34m(self)\u001b[0m\n\u001b[0;32m   1186\u001b[0m dt \u001b[38;5;241m=\u001b[39m cur_t \u001b[38;5;241m-\u001b[39m last_print_t\n\u001b[0;32m   1187\u001b[0m \u001b[38;5;28;01mif\u001b[39;00m dt \u001b[38;5;241m>\u001b[39m\u001b[38;5;241m=\u001b[39m mininterval \u001b[38;5;129;01mand\u001b[39;00m cur_t \u001b[38;5;241m>\u001b[39m\u001b[38;5;241m=\u001b[39m min_start_t:\n\u001b[1;32m-> 1188\u001b[0m     \u001b[38;5;28;43mself\u001b[39;49m\u001b[38;5;241;43m.\u001b[39;49m\u001b[43mupdate\u001b[49m\u001b[43m(\u001b[49m\u001b[43mn\u001b[49m\u001b[43m \u001b[49m\u001b[38;5;241;43m-\u001b[39;49m\u001b[43m \u001b[49m\u001b[43mlast_print_n\u001b[49m\u001b[43m)\u001b[49m\n\u001b[0;32m   1189\u001b[0m     last_print_n \u001b[38;5;241m=\u001b[39m \u001b[38;5;28mself\u001b[39m\u001b[38;5;241m.\u001b[39mlast_print_n\n\u001b[0;32m   1190\u001b[0m     last_print_t \u001b[38;5;241m=\u001b[39m \u001b[38;5;28mself\u001b[39m\u001b[38;5;241m.\u001b[39mlast_print_t\n",
      "File \u001b[1;32m~\\miniconda3\\envs\\tf_gpu\\lib\\site-packages\\tqdm\\std.py:1239\u001b[0m, in \u001b[0;36mtqdm.update\u001b[1;34m(self, n)\u001b[0m\n\u001b[0;32m   1237\u001b[0m     \u001b[38;5;28mself\u001b[39m\u001b[38;5;241m.\u001b[39m_ema_dn(dn)\n\u001b[0;32m   1238\u001b[0m     \u001b[38;5;28mself\u001b[39m\u001b[38;5;241m.\u001b[39m_ema_dt(dt)\n\u001b[1;32m-> 1239\u001b[0m \u001b[38;5;28;43mself\u001b[39;49m\u001b[38;5;241;43m.\u001b[39;49m\u001b[43mrefresh\u001b[49m\u001b[43m(\u001b[49m\u001b[43mlock_args\u001b[49m\u001b[38;5;241;43m=\u001b[39;49m\u001b[38;5;28;43mself\u001b[39;49m\u001b[38;5;241;43m.\u001b[39;49m\u001b[43mlock_args\u001b[49m\u001b[43m)\u001b[49m\n\u001b[0;32m   1240\u001b[0m \u001b[38;5;28;01mif\u001b[39;00m \u001b[38;5;28mself\u001b[39m\u001b[38;5;241m.\u001b[39mdynamic_miniters:\n\u001b[0;32m   1241\u001b[0m     \u001b[38;5;66;03m# If no `miniters` was specified, adjust automatically to the\u001b[39;00m\n\u001b[0;32m   1242\u001b[0m     \u001b[38;5;66;03m# maximum iteration rate seen so far between two prints.\u001b[39;00m\n\u001b[0;32m   1243\u001b[0m     \u001b[38;5;66;03m# e.g.: After running `tqdm.update(5)`, subsequent\u001b[39;00m\n\u001b[0;32m   1244\u001b[0m     \u001b[38;5;66;03m# calls to `tqdm.update()` will only cause an update after\u001b[39;00m\n\u001b[0;32m   1245\u001b[0m     \u001b[38;5;66;03m# at least 5 more iterations.\u001b[39;00m\n\u001b[0;32m   1246\u001b[0m     \u001b[38;5;28;01mif\u001b[39;00m \u001b[38;5;28mself\u001b[39m\u001b[38;5;241m.\u001b[39mmaxinterval \u001b[38;5;129;01mand\u001b[39;00m dt \u001b[38;5;241m>\u001b[39m\u001b[38;5;241m=\u001b[39m \u001b[38;5;28mself\u001b[39m\u001b[38;5;241m.\u001b[39mmaxinterval:\n",
      "File \u001b[1;32m~\\miniconda3\\envs\\tf_gpu\\lib\\site-packages\\tqdm\\std.py:1344\u001b[0m, in \u001b[0;36mtqdm.refresh\u001b[1;34m(self, nolock, lock_args)\u001b[0m\n\u001b[0;32m   1342\u001b[0m     \u001b[38;5;28;01melse\u001b[39;00m:\n\u001b[0;32m   1343\u001b[0m         \u001b[38;5;28mself\u001b[39m\u001b[38;5;241m.\u001b[39m_lock\u001b[38;5;241m.\u001b[39macquire()\n\u001b[1;32m-> 1344\u001b[0m \u001b[38;5;28;43mself\u001b[39;49m\u001b[38;5;241;43m.\u001b[39;49m\u001b[43mdisplay\u001b[49m\u001b[43m(\u001b[49m\u001b[43m)\u001b[49m\n\u001b[0;32m   1345\u001b[0m \u001b[38;5;28;01mif\u001b[39;00m \u001b[38;5;129;01mnot\u001b[39;00m nolock:\n\u001b[0;32m   1346\u001b[0m     \u001b[38;5;28mself\u001b[39m\u001b[38;5;241m.\u001b[39m_lock\u001b[38;5;241m.\u001b[39mrelease()\n",
      "File \u001b[1;32m~\\miniconda3\\envs\\tf_gpu\\lib\\site-packages\\tqdm\\std.py:1492\u001b[0m, in \u001b[0;36mtqdm.display\u001b[1;34m(self, msg, pos)\u001b[0m\n\u001b[0;32m   1490\u001b[0m \u001b[38;5;28;01mif\u001b[39;00m pos:\n\u001b[0;32m   1491\u001b[0m     \u001b[38;5;28mself\u001b[39m\u001b[38;5;241m.\u001b[39mmoveto(pos)\n\u001b[1;32m-> 1492\u001b[0m \u001b[38;5;28;43mself\u001b[39;49m\u001b[38;5;241;43m.\u001b[39;49m\u001b[43msp\u001b[49m\u001b[43m(\u001b[49m\u001b[38;5;28;43mself\u001b[39;49m\u001b[38;5;241;43m.\u001b[39;49m\u001b[38;5;21;43m__str__\u001b[39;49m\u001b[43m(\u001b[49m\u001b[43m)\u001b[49m\u001b[43m \u001b[49m\u001b[38;5;28;43;01mif\u001b[39;49;00m\u001b[43m \u001b[49m\u001b[43mmsg\u001b[49m\u001b[43m \u001b[49m\u001b[38;5;129;43;01mis\u001b[39;49;00m\u001b[43m \u001b[49m\u001b[38;5;28;43;01mNone\u001b[39;49;00m\u001b[43m \u001b[49m\u001b[38;5;28;43;01melse\u001b[39;49;00m\u001b[43m \u001b[49m\u001b[43mmsg\u001b[49m\u001b[43m)\u001b[49m\n\u001b[0;32m   1493\u001b[0m \u001b[38;5;28;01mif\u001b[39;00m pos:\n\u001b[0;32m   1494\u001b[0m     \u001b[38;5;28mself\u001b[39m\u001b[38;5;241m.\u001b[39mmoveto(\u001b[38;5;241m-\u001b[39mpos)\n",
      "File \u001b[1;32m~\\miniconda3\\envs\\tf_gpu\\lib\\site-packages\\tqdm\\std.py:347\u001b[0m, in \u001b[0;36mtqdm.status_printer.<locals>.print_status\u001b[1;34m(s)\u001b[0m\n\u001b[0;32m    345\u001b[0m \u001b[38;5;28;01mdef\u001b[39;00m \u001b[38;5;21mprint_status\u001b[39m(s):\n\u001b[0;32m    346\u001b[0m     len_s \u001b[38;5;241m=\u001b[39m disp_len(s)\n\u001b[1;32m--> 347\u001b[0m     \u001b[43mfp_write\u001b[49m\u001b[43m(\u001b[49m\u001b[38;5;124;43m'\u001b[39;49m\u001b[38;5;130;43;01m\\r\u001b[39;49;00m\u001b[38;5;124;43m'\u001b[39;49m\u001b[43m \u001b[49m\u001b[38;5;241;43m+\u001b[39;49m\u001b[43m \u001b[49m\u001b[43ms\u001b[49m\u001b[43m \u001b[49m\u001b[38;5;241;43m+\u001b[39;49m\u001b[43m \u001b[49m\u001b[43m(\u001b[49m\u001b[38;5;124;43m'\u001b[39;49m\u001b[38;5;124;43m \u001b[39;49m\u001b[38;5;124;43m'\u001b[39;49m\u001b[43m \u001b[49m\u001b[38;5;241;43m*\u001b[39;49m\u001b[43m \u001b[49m\u001b[38;5;28;43mmax\u001b[39;49m\u001b[43m(\u001b[49m\u001b[43mlast_len\u001b[49m\u001b[43m[\u001b[49m\u001b[38;5;241;43m0\u001b[39;49m\u001b[43m]\u001b[49m\u001b[43m \u001b[49m\u001b[38;5;241;43m-\u001b[39;49m\u001b[43m \u001b[49m\u001b[43mlen_s\u001b[49m\u001b[43m,\u001b[49m\u001b[43m \u001b[49m\u001b[38;5;241;43m0\u001b[39;49m\u001b[43m)\u001b[49m\u001b[43m)\u001b[49m\u001b[43m)\u001b[49m\n\u001b[0;32m    348\u001b[0m     last_len[\u001b[38;5;241m0\u001b[39m] \u001b[38;5;241m=\u001b[39m len_s\n",
      "File \u001b[1;32m~\\miniconda3\\envs\\tf_gpu\\lib\\site-packages\\tqdm\\std.py:340\u001b[0m, in \u001b[0;36mtqdm.status_printer.<locals>.fp_write\u001b[1;34m(s)\u001b[0m\n\u001b[0;32m    339\u001b[0m \u001b[38;5;28;01mdef\u001b[39;00m \u001b[38;5;21mfp_write\u001b[39m(s):\n\u001b[1;32m--> 340\u001b[0m     \u001b[43mfp\u001b[49m\u001b[38;5;241;43m.\u001b[39;49m\u001b[43mwrite\u001b[49m\u001b[43m(\u001b[49m\u001b[38;5;28;43mstr\u001b[39;49m\u001b[43m(\u001b[49m\u001b[43ms\u001b[49m\u001b[43m)\u001b[49m\u001b[43m)\u001b[49m\n\u001b[0;32m    341\u001b[0m     fp_flush()\n",
      "File \u001b[1;32m~\\miniconda3\\envs\\tf_gpu\\lib\\site-packages\\tqdm\\utils.py:127\u001b[0m, in \u001b[0;36mDisableOnWriteError.disable_on_exception.<locals>.inner\u001b[1;34m(*args, **kwargs)\u001b[0m\n\u001b[0;32m    125\u001b[0m \u001b[38;5;28;01mdef\u001b[39;00m \u001b[38;5;21minner\u001b[39m(\u001b[38;5;241m*\u001b[39margs, \u001b[38;5;241m*\u001b[39m\u001b[38;5;241m*\u001b[39mkwargs):\n\u001b[0;32m    126\u001b[0m     \u001b[38;5;28;01mtry\u001b[39;00m:\n\u001b[1;32m--> 127\u001b[0m         \u001b[38;5;28;01mreturn\u001b[39;00m func(\u001b[38;5;241m*\u001b[39margs, \u001b[38;5;241m*\u001b[39m\u001b[38;5;241m*\u001b[39mkwargs)\n\u001b[0;32m    128\u001b[0m     \u001b[38;5;28;01mexcept\u001b[39;00m \u001b[38;5;167;01mOSError\u001b[39;00m \u001b[38;5;28;01mas\u001b[39;00m e:\n\u001b[0;32m    129\u001b[0m         \u001b[38;5;28;01mif\u001b[39;00m e\u001b[38;5;241m.\u001b[39merrno \u001b[38;5;241m!=\u001b[39m \u001b[38;5;241m5\u001b[39m:\n",
      "File \u001b[1;32m~\\miniconda3\\envs\\tf_gpu\\lib\\site-packages\\wandb\\sdk\\lib\\redirect.py:640\u001b[0m, in \u001b[0;36mStreamRawWrapper.install.<locals>.write\u001b[1;34m(data)\u001b[0m\n\u001b[0;32m    639\u001b[0m \u001b[38;5;28;01mdef\u001b[39;00m \u001b[38;5;21mwrite\u001b[39m(data):\n\u001b[1;32m--> 640\u001b[0m     \u001b[38;5;28;43mself\u001b[39;49m\u001b[38;5;241;43m.\u001b[39;49m\u001b[43m_old_write\u001b[49m\u001b[43m(\u001b[49m\u001b[43mdata\u001b[49m\u001b[43m)\u001b[49m\n\u001b[0;32m    641\u001b[0m     \u001b[38;5;28;01mfor\u001b[39;00m cb \u001b[38;5;129;01min\u001b[39;00m \u001b[38;5;28mself\u001b[39m\u001b[38;5;241m.\u001b[39mcbs:\n\u001b[0;32m    642\u001b[0m         \u001b[38;5;28;01mtry\u001b[39;00m:\n",
      "File \u001b[1;32m~\\miniconda3\\envs\\tf_gpu\\lib\\site-packages\\ipykernel\\iostream.py:664\u001b[0m, in \u001b[0;36mOutStream.write\u001b[1;34m(self, string)\u001b[0m\n\u001b[0;32m    662\u001b[0m         \u001b[38;5;28mself\u001b[39m\u001b[38;5;241m.\u001b[39mpub_thread\u001b[38;5;241m.\u001b[39mschedule(\u001b[38;5;28mself\u001b[39m\u001b[38;5;241m.\u001b[39m_flush)\n\u001b[0;32m    663\u001b[0m     \u001b[38;5;28;01melse\u001b[39;00m:\n\u001b[1;32m--> 664\u001b[0m         \u001b[38;5;28;43mself\u001b[39;49m\u001b[38;5;241;43m.\u001b[39;49m\u001b[43m_schedule_flush\u001b[49m\u001b[43m(\u001b[49m\u001b[43m)\u001b[49m\n\u001b[0;32m    666\u001b[0m \u001b[38;5;28;01mreturn\u001b[39;00m \u001b[38;5;28mlen\u001b[39m(string)\n",
      "File \u001b[1;32m~\\miniconda3\\envs\\tf_gpu\\lib\\site-packages\\ipykernel\\iostream.py:561\u001b[0m, in \u001b[0;36mOutStream._schedule_flush\u001b[1;34m(self)\u001b[0m\n\u001b[0;32m    558\u001b[0m \u001b[38;5;28;01mdef\u001b[39;00m \u001b[38;5;21m_schedule_in_thread\u001b[39m():\n\u001b[0;32m    559\u001b[0m     \u001b[38;5;28mself\u001b[39m\u001b[38;5;241m.\u001b[39m_io_loop\u001b[38;5;241m.\u001b[39mcall_later(\u001b[38;5;28mself\u001b[39m\u001b[38;5;241m.\u001b[39mflush_interval, \u001b[38;5;28mself\u001b[39m\u001b[38;5;241m.\u001b[39m_flush)\n\u001b[1;32m--> 561\u001b[0m \u001b[38;5;28;43mself\u001b[39;49m\u001b[38;5;241;43m.\u001b[39;49m\u001b[43mpub_thread\u001b[49m\u001b[38;5;241;43m.\u001b[39;49m\u001b[43mschedule\u001b[49m\u001b[43m(\u001b[49m\u001b[43m_schedule_in_thread\u001b[49m\u001b[43m)\u001b[49m\n",
      "File \u001b[1;32m~\\miniconda3\\envs\\tf_gpu\\lib\\site-packages\\ipykernel\\iostream.py:267\u001b[0m, in \u001b[0;36mIOPubThread.schedule\u001b[1;34m(self, f)\u001b[0m\n\u001b[0;32m    265\u001b[0m     \u001b[38;5;28mself\u001b[39m\u001b[38;5;241m.\u001b[39m_events\u001b[38;5;241m.\u001b[39mappend(f)\n\u001b[0;32m    266\u001b[0m     \u001b[38;5;66;03m# wake event thread (message content is ignored)\u001b[39;00m\n\u001b[1;32m--> 267\u001b[0m     \u001b[38;5;28;43mself\u001b[39;49m\u001b[38;5;241;43m.\u001b[39;49m\u001b[43m_event_pipe\u001b[49m\u001b[38;5;241;43m.\u001b[39;49m\u001b[43msend\u001b[49m\u001b[43m(\u001b[49m\u001b[38;5;124;43mb\u001b[39;49m\u001b[38;5;124;43m\"\u001b[39;49m\u001b[38;5;124;43m\"\u001b[39;49m\u001b[43m)\u001b[49m\n\u001b[0;32m    268\u001b[0m \u001b[38;5;28;01melse\u001b[39;00m:\n\u001b[0;32m    269\u001b[0m     f()\n",
      "File \u001b[1;32m~\\miniconda3\\envs\\tf_gpu\\lib\\site-packages\\zmq\\sugar\\socket.py:696\u001b[0m, in \u001b[0;36mSocket.send\u001b[1;34m(self, data, flags, copy, track, routing_id, group)\u001b[0m\n\u001b[0;32m    689\u001b[0m         data \u001b[38;5;241m=\u001b[39m zmq\u001b[38;5;241m.\u001b[39mFrame(\n\u001b[0;32m    690\u001b[0m             data,\n\u001b[0;32m    691\u001b[0m             track\u001b[38;5;241m=\u001b[39mtrack,\n\u001b[0;32m    692\u001b[0m             copy\u001b[38;5;241m=\u001b[39mcopy \u001b[38;5;129;01mor\u001b[39;00m \u001b[38;5;28;01mNone\u001b[39;00m,\n\u001b[0;32m    693\u001b[0m             copy_threshold\u001b[38;5;241m=\u001b[39m\u001b[38;5;28mself\u001b[39m\u001b[38;5;241m.\u001b[39mcopy_threshold,\n\u001b[0;32m    694\u001b[0m         )\n\u001b[0;32m    695\u001b[0m     data\u001b[38;5;241m.\u001b[39mgroup \u001b[38;5;241m=\u001b[39m group\n\u001b[1;32m--> 696\u001b[0m \u001b[38;5;28;01mreturn\u001b[39;00m \u001b[38;5;28;43msuper\u001b[39;49m\u001b[43m(\u001b[49m\u001b[43m)\u001b[49m\u001b[38;5;241;43m.\u001b[39;49m\u001b[43msend\u001b[49m\u001b[43m(\u001b[49m\u001b[43mdata\u001b[49m\u001b[43m,\u001b[49m\u001b[43m \u001b[49m\u001b[43mflags\u001b[49m\u001b[38;5;241;43m=\u001b[39;49m\u001b[43mflags\u001b[49m\u001b[43m,\u001b[49m\u001b[43m \u001b[49m\u001b[43mcopy\u001b[49m\u001b[38;5;241;43m=\u001b[39;49m\u001b[43mcopy\u001b[49m\u001b[43m,\u001b[49m\u001b[43m \u001b[49m\u001b[43mtrack\u001b[49m\u001b[38;5;241;43m=\u001b[39;49m\u001b[43mtrack\u001b[49m\u001b[43m)\u001b[49m\n",
      "File \u001b[1;32mzmq/backend/cython/socket.pyx:742\u001b[0m, in \u001b[0;36mzmq.backend.cython.socket.Socket.send\u001b[1;34m()\u001b[0m\n",
      "File \u001b[1;32mzmq/backend/cython/socket.pyx:789\u001b[0m, in \u001b[0;36mzmq.backend.cython.socket.Socket.send\u001b[1;34m()\u001b[0m\n",
      "File \u001b[1;32mzmq/backend/cython/socket.pyx:250\u001b[0m, in \u001b[0;36mzmq.backend.cython.socket._send_copy\u001b[1;34m()\u001b[0m\n",
      "File \u001b[1;32m~\\miniconda3\\envs\\tf_gpu\\lib\\site-packages\\zmq\\backend\\cython\\checkrc.pxd:13\u001b[0m, in \u001b[0;36mzmq.backend.cython.checkrc._check_rc\u001b[1;34m()\u001b[0m\n",
      "\u001b[1;31mKeyboardInterrupt\u001b[0m: "
     ]
    }
   ],
   "source": [
    "x.model_execute()"
   ]
  },
  {
   "cell_type": "code",
   "execution_count": 20,
   "id": "24989d45",
   "metadata": {},
   "outputs": [
    {
     "data": {
      "image/png": "[encoded data removed]",
      "text/plain": [
       "<Figure size 640x480 with 1 Axes>"
      ]
     },
     "metadata": {},
     "output_type": "display_data"
    },
    {
     "name": "stdout",
     "output_type": "stream",
     "text": [
      "MSE test loss:  0.1531511667251956\n",
      "MAE test loss:  0.25897171620915577\n"
     ]
    }
   ],
   "source": [
    "x.test_plots(df_columns=df.columns[1:],scaler=scaler,column='MT_177')"
   ]
  },
  {
   "cell_type": "code",
   "execution_count": null,
   "id": "c137bc01",
   "metadata": {},
   "outputs": [],
   "source": [
    "'''\n",
    "dat=torch.from_numpy(train_dataset[0][0])\n",
    "dat=dat.unsqueeze(dim=0)\n",
    "dat.shape\n",
    "model(dat).shape\n",
    "'''"
   ]
  },
  {
   "cell_type": "code",
   "execution_count": null,
   "id": "1bfe07c7",
   "metadata": {},
   "outputs": [],
   "source": []
  }
 ],
 "metadata": {
  "accelerator": "GPU",
  "colab": {
   "gpuType": "V100",
   "machine_shape": "hm",
   "provenance": []
  },
  "kernelspec": {
   "display_name": "gpu1",
   "language": "python",
   "name": "gpu1"
  },
  "language_info": {
   "codemirror_mode": {
    "name": "ipython",
    "version": 3
   },
   "file_extension": ".py",
   "mimetype": "text/x-python",
   "name": "python",
   "nbconvert_exporter": "python",
   "pygments_lexer": "ipython3",
   "version": "3.9.18"
  }
 },
 "nbformat": 4,
 "nbformat_minor": 5
}
